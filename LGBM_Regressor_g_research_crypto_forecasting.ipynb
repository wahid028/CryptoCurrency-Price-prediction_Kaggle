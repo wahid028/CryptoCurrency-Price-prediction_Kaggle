{
  "nbformat": 4,
  "nbformat_minor": 0,
  "metadata": {
    "colab": {
      "name": "LGBM Regressor_g-research-crypto-forecasting.ipynb",
      "provenance": [],
      "authorship_tag": "ABX9TyOU9xGLUhtoHUES5oDS1Vuv",
      "include_colab_link": true
    },
    "kernelspec": {
      "name": "python3",
      "display_name": "Python 3"
    },
    "language_info": {
      "name": "python"
    },
    "accelerator": "TPU"
  },
  "cells": [
    {
      "cell_type": "markdown",
      "metadata": {
        "id": "view-in-github",
        "colab_type": "text"
      },
      "source": [
        "<a href=\"https://colab.research.google.com/github/wahid028/CryptoCurrency-Price-prediction_Kaggle/blob/main/LGBM_Regressor_g_research_crypto_forecasting.ipynb\" target=\"_parent\"><img src=\"https://colab.research.google.com/assets/colab-badge.svg\" alt=\"Open In Colab\"/></a>"
      ]
    },
    {
      "cell_type": "code",
      "execution_count": null,
      "metadata": {
        "id": "CNJfM925Oeg8"
      },
      "outputs": [],
      "source": [
        "#install kaggle\n",
        "!pip install -q kaggle"
      ]
    },
    {
      "cell_type": "code",
      "source": [
        "#upload the kaggle.json file\n",
        "from google.colab import files\n",
        "files.upload()"
      ],
      "metadata": {
        "colab": {
          "resources": {
            "http://localhost:8080/nbextensions/google.colab/files.js": {
              "data": "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",
              "ok": true,
              "headers": [
                [
                  "content-type",
                  "application/javascript"
                ]
              ],
              "status": 200,
              "status_text": ""
            }
          },
          "base_uri": "https://localhost:8080/",
          "height": 90
        },
        "id": "mnk82AKlO4m_",
        "outputId": "28ba80c5-bdfd-4f92-e9c2-974d0c2c6b49"
      },
      "execution_count": null,
      "outputs": [
        {
          "output_type": "display_data",
          "data": {
            "text/plain": [
              "<IPython.core.display.HTML object>"
            ],
            "text/html": [
              "\n",
              "     <input type=\"file\" id=\"files-56cc4a4e-f961-402d-bd5f-88ee4e887239\" name=\"files[]\" multiple disabled\n",
              "        style=\"border:none\" />\n",
              "     <output id=\"result-56cc4a4e-f961-402d-bd5f-88ee4e887239\">\n",
              "      Upload widget is only available when the cell has been executed in the\n",
              "      current browser session. Please rerun this cell to enable.\n",
              "      </output>\n",
              "      <script src=\"/nbextensions/google.colab/files.js\"></script> "
            ]
          },
          "metadata": {}
        },
        {
          "output_type": "stream",
          "name": "stdout",
          "text": [
            "Saving kaggle.json to kaggle.json\n"
          ]
        },
        {
          "output_type": "execute_result",
          "data": {
            "text/plain": [
              "{'kaggle.json': b'{\"username\":\"learn2know\",\"key\":\"ef7c1f3683ce0590f0cee38b88d74d21\"}'}"
            ]
          },
          "metadata": {},
          "execution_count": 2
        }
      ]
    },
    {
      "cell_type": "code",
      "source": [
        "#create a kaggle directory\n",
        "!mkdir ~/.kaggle"
      ],
      "metadata": {
        "id": "ER64VgyyPaBc"
      },
      "execution_count": null,
      "outputs": []
    },
    {
      "cell_type": "code",
      "source": [
        "#copy the kaggle.json to kaggle directory\n",
        "!cp kaggle.json ~/.kaggle/"
      ],
      "metadata": {
        "id": "tHGF_9OZPkQ8"
      },
      "execution_count": null,
      "outputs": []
    },
    {
      "cell_type": "code",
      "source": [
        "#permission for the json to act\n",
        "!chmod 600 ~/.kaggle/kaggle.json"
      ],
      "metadata": {
        "id": "FSbygNM8P5XG"
      },
      "execution_count": null,
      "outputs": []
    },
    {
      "cell_type": "code",
      "source": [
        "#list all the available dataset in kaggle\n",
        "!kaggle datasets list"
      ],
      "metadata": {
        "colab": {
          "base_uri": "https://localhost:8080/"
        },
        "id": "GqPQS5AXQMZV",
        "outputId": "74601a96-4330-45e0-ea20-f4ebc7546e23"
      },
      "execution_count": null,
      "outputs": [
        {
          "output_type": "stream",
          "name": "stdout",
          "text": [
            "ref                                                                   title                                             size  lastUpdated          downloadCount  voteCount  usabilityRating  \n",
            "--------------------------------------------------------------------  -----------------------------------------------  -----  -------------------  -------------  ---------  ---------------  \n",
            "muratkokludataset/date-fruit-datasets                                 Date Fruit Datasets                              408KB  2022-04-03 09:25:39           8117       1089  0.9375           \n",
            "victorsoeiro/netflix-tv-shows-and-movies                              Netflix TV Shows and Movies                        2MB  2022-05-15 00:01:23            653         30  0.9411765        \n",
            "mdmahmudulhasansuzan/students-adaptability-level-in-online-education  Students Adaptability Level in Online Education    6KB  2022-04-16 04:46:28           5467        137  1.0              \n",
            "muratkokludataset/rice-image-dataset                                  Rice Image Dataset                               219MB  2022-04-03 02:12:00           1564        893  0.875            \n",
            "paradisejoy/top-hits-spotify-from-20002019                            Top Hits Spotify from 2000-2019                   94KB  2022-04-26 17:30:03           1567         40  1.0              \n",
            "victorsoeiro/disney-tv-shows-and-movies                               Disney+ TV Shows and Movies                      718KB  2022-05-13 23:24:57            475         28  1.0              \n",
            "muratkokludataset/raisin-dataset                                      Raisin Dataset                                   112KB  2022-04-03 00:23:16            652        787  0.9375           \n",
            "muratkokludataset/pistachio-dataset                                   Pistachio Dataset                                  2MB  2022-04-03 08:38:21            618        807  0.9375           \n",
            "muratkokludataset/rice-msc-dataset                                    Rice MSC Dataset                                 102MB  2022-04-03 01:33:52            255        775  0.9375           \n",
            "muratkokludataset/pistachio-image-dataset                             Pistachio Image Dataset                           27MB  2022-03-28 18:01:27            550        853  0.9375           \n",
            "muratkokludataset/grapevine-leaves-image-dataset                      Grapevine Leaves Image Dataset                   109MB  2022-04-03 09:00:54            182        814  0.875            \n",
            "muratkokludataset/durum-wheat-dataset                                 Durum Wheat Dataset                              983MB  2022-04-03 00:02:29            108        786  0.875            \n",
            "muratkokludataset/pumpkin-seeds-dataset                               Pumpkin Seeds Dataset                            393KB  2022-03-28 18:28:16            633        782  0.9375           \n",
            "muratkokludataset/dry-bean-dataset                                    Dry Bean Dataset                                   5MB  2022-04-02 23:19:30            547        785  0.9375           \n",
            "rinichristy/covid19-coronavirus-pandemic                              COVID-19 Coronavirus Pandemic                      9KB  2022-04-05 08:43:16           4317         96  1.0              \n",
            "muhmores/spotify-top-100-songs-of-20152019                            Spotify Top 100 Songs of 2010-2019               139KB  2022-04-09 06:35:36           5622        115  0.88235295       \n",
            "surajjha101/stores-area-and-sales-data                                Supermarket store branches sales analysis         10KB  2022-04-29 11:10:16           1449         62  1.0              \n",
            "aslanahmedov/walmart-sales-forecast                                   Walmart Sales Forecast                             3MB  2022-04-21 05:28:20           2685         67  1.0              \n",
            "digvijaysinhgohil/covid19-data-deaths-and-vaccinations                Covid-19 Data Deaths and Vaccinations              2MB  2022-05-04 19:06:58            973         26  1.0              \n",
            "xhlulu/cpc-codes                                                      Cooperative Patent Classification Codes Meaning    5MB  2022-03-22 03:04:36           2415        150  1.0              \n"
          ]
        }
      ]
    },
    {
      "cell_type": "markdown",
      "source": [
        "## **Dataset**"
      ],
      "metadata": {
        "id": "giyKAemu8qlX"
      }
    },
    {
      "cell_type": "code",
      "source": [
        "!kaggle competitions download -c g-research-crypto-forecasting"
      ],
      "metadata": {
        "colab": {
          "base_uri": "https://localhost:8080/"
        },
        "id": "SIGN2KOFxwUq",
        "outputId": "ca1f651e-b3c0-4565-c291-69f1fb3b7c2f"
      },
      "execution_count": null,
      "outputs": [
        {
          "output_type": "stream",
          "name": "stdout",
          "text": [
            "Downloading g-research-crypto-forecasting.zip to /content\n",
            "100% 1.13G/1.13G [00:08<00:00, 122MB/s] \n",
            "100% 1.13G/1.13G [00:08<00:00, 144MB/s]\n"
          ]
        }
      ]
    },
    {
      "cell_type": "code",
      "source": [
        "!unzip g-research-crypto-forecasting.zip"
      ],
      "metadata": {
        "colab": {
          "base_uri": "https://localhost:8080/"
        },
        "id": "MQUWG7np6jQV",
        "outputId": "218115d4-e1e2-4523-9ab8-8aa8e0537309"
      },
      "execution_count": null,
      "outputs": [
        {
          "output_type": "stream",
          "name": "stdout",
          "text": [
            "Archive:  g-research-crypto-forecasting.zip\n",
            "  inflating: asset_details.csv       \n",
            "  inflating: example_sample_submission.csv  \n",
            "  inflating: example_test.csv        \n",
            "  inflating: gresearch_crypto/__init__.py  \n",
            "  inflating: gresearch_crypto/competition.cpython-37m-x86_64-linux-gnu.so  \n",
            "  inflating: supplemental_train.csv  \n",
            "  inflating: train.csv               \n"
          ]
        }
      ]
    },
    {
      "cell_type": "code",
      "source": [
        "!pip install datatable"
      ],
      "metadata": {
        "colab": {
          "base_uri": "https://localhost:8080/"
        },
        "id": "XvL0Nqmv9MC5",
        "outputId": "faa06021-bd3f-4e3c-983a-1a70adbc1a65"
      },
      "execution_count": null,
      "outputs": [
        {
          "output_type": "stream",
          "name": "stdout",
          "text": [
            "Collecting datatable\n",
            "  Downloading datatable-1.0.0-cp37-cp37m-manylinux_2_12_x86_64.whl (96.9 MB)\n",
            "\u001b[K     |████████████████████████████████| 96.9 MB 109 kB/s \n",
            "\u001b[?25hInstalling collected packages: datatable\n",
            "Successfully installed datatable-1.0.0\n"
          ]
        }
      ]
    },
    {
      "cell_type": "markdown",
      "source": [
        "## **Bitcoin Crash Prediction_LGBMRegressor**"
      ],
      "metadata": {
        "id": "pp92c34NDlk8"
      }
    },
    {
      "cell_type": "code",
      "source": [
        "#mporting Required Libraries\n",
        "import numpy as np\n",
        "import pandas as pd\n",
        "\n",
        "import matplotlib.pyplot as plt\n",
        "import seaborn as sns\n",
        "sns.set_style('darkgrid')\n",
        "import plotly\n",
        "import plotly.express as px\n",
        "import plotly.graph_objects as go\n",
        "\n",
        "import warnings\n",
        "warnings.filterwarnings('ignore')\n",
        "\n",
        "from sklearn.preprocessing import StandardScaler\n",
        "from sklearn.model_selection import train_test_split\n",
        "\n",
        "from lightgbm import LGBMRegressor"
      ],
      "metadata": {
        "colab": {
          "base_uri": "https://localhost:8080/",
          "height": 17
        },
        "id": "TLVdIhimDqg_",
        "outputId": "e62e5c84-a06a-40f0-eda7-f52e766ad9d8"
      },
      "execution_count": null,
      "outputs": [
        {
          "output_type": "display_data",
          "data": {
            "text/plain": [
              "<IPython.core.display.HTML object>"
            ],
            "text/html": [
              "<style type='text/css'>\n",
              ".datatable table.frame { margin-bottom: 0; }\n",
              ".datatable table.frame thead { border-bottom: none; }\n",
              ".datatable table.frame tr.coltypes td {  color: #FFFFFF;  line-height: 6px;  padding: 0 0.5em;}\n",
              ".datatable .bool    { background: #DDDD99; }\n",
              ".datatable .object  { background: #565656; }\n",
              ".datatable .int     { background: #5D9E5D; }\n",
              ".datatable .float   { background: #4040CC; }\n",
              ".datatable .str     { background: #CC4040; }\n",
              ".datatable .time    { background: #40CC40; }\n",
              ".datatable .row_index {  background: var(--jp-border-color3);  border-right: 1px solid var(--jp-border-color0);  color: var(--jp-ui-font-color3);  font-size: 9px;}\n",
              ".datatable .frame tbody td { text-align: left; }\n",
              ".datatable .frame tr.coltypes .row_index {  background: var(--jp-border-color0);}\n",
              ".datatable th:nth-child(2) { padding-left: 12px; }\n",
              ".datatable .hellipsis {  color: var(--jp-cell-editor-border-color);}\n",
              ".datatable .vellipsis {  background: var(--jp-layout-color0);  color: var(--jp-cell-editor-border-color);}\n",
              ".datatable .na {  color: var(--jp-cell-editor-border-color);  font-size: 80%;}\n",
              ".datatable .sp {  opacity: 0.25;}\n",
              ".datatable .footer { font-size: 9px; }\n",
              ".datatable .frame_dimensions {  background: var(--jp-border-color3);  border-top: 1px solid var(--jp-border-color0);  color: var(--jp-ui-font-color3);  display: inline-block;  opacity: 0.6;  padding: 1px 10px 1px 5px;}\n",
              ".datatable .frame thead tr.colnames {  background-image: url('data:image/png;base64,iVBORw0KGgoAAAANSUhEUgAAABIAAAAkCAYAAACE7WrnAAAAdElEQVR42mP4wyMVQQ3M8P///whqYBSDkG2A8bGJo+tBMQifIbgMQ5ZjwGUIPjY2wxiwOZWQZrxhhM0F6IYjq8PqNWyBh4+NN7CpGv2jBo0aNGrQqEGjBtHFIIoLf5pUR2RXkFStsqnSiKBqs4bi6KdW0w8AxFl+XL1lK8wAAAAASUVORK5CYII=');  background-repeat: repeat-x;  background-size: 14px;  height: 28px;}\n",
              "</style>\n"
            ]
          },
          "metadata": {}
        }
      ]
    },
    {
      "cell_type": "code",
      "source": [
        "def reduce_memory_usage(df):\n",
        "    \"\"\" \n",
        "    iterate through all the columns of a dataframe and modify the data type to reduce memory usage.        \n",
        "    \"\"\"\n",
        "#     start_mem = df.memory_usage().sum() / 1024**2\n",
        "#     print('Memory usage of dataframe is {:.2f} MB'.format(start_mem))    \n",
        "\n",
        "    for col in df.columns:\n",
        "        col_type = df[col].dtype\n",
        "\n",
        "        if col_type != object:\n",
        "            c_min = df[col].min()\n",
        "            c_max = df[col].max()\n",
        "            if str(col_type)[:3] == 'int':\n",
        "                if c_min > np.iinfo(np.int8).min and c_max < np.iinfo(np.int8).max:\n",
        "                    df[col] = df[col].astype(np.int8)\n",
        "                elif c_min > np.iinfo(np.int16).min and c_max < np.iinfo(np.int16).max:\n",
        "                    df[col] = df[col].astype(np.int16)\n",
        "                elif c_min > np.iinfo(np.int32).min and c_max < np.iinfo(np.int32).max:\n",
        "                    df[col] = df[col].astype(np.int32)\n",
        "                elif c_min > np.iinfo(np.int64).min and c_max < np.iinfo(np.int64).max:\n",
        "                    df[col] = df[col].astype(np.int64)  \n",
        "            else:\n",
        "                if c_min > np.finfo(np.float16).min and c_max < np.finfo(np.float16).max:\n",
        "                    df[col] = df[col].astype(np.float16)\n",
        "                elif c_min > np.finfo(np.float32).min and c_max < np.finfo(np.float32).max:\n",
        "                    df[col] = df[col].astype(np.float32)\n",
        "                else:\n",
        "                    df[col] = df[col].astype(np.float64)\n",
        "        else:\n",
        "            df[col] = df[col].astype('category')\n",
        "\n",
        "    end_mem = df.memory_usage().sum() / 1024**2\n",
        "#     print('Memory usage after optimization is: {:.2f} MB'.format(end_mem))\n",
        "#     print('Decreased by {:.1f}%'.format(100 * (start_mem - end_mem) / start_mem))\n",
        "\n",
        "    return df"
      ],
      "metadata": {
        "id": "f4KKtLujEqt-"
      },
      "execution_count": null,
      "outputs": []
    },
    {
      "cell_type": "code",
      "source": [
        "data = pd.read_csv('../content/train.csv')\n",
        "data.head()"
      ],
      "metadata": {
        "colab": {
          "base_uri": "https://localhost:8080/",
          "height": 206
        },
        "id": "LgT_5HltEzMz",
        "outputId": "848e28f5-5892-4d26-cd34-11e6286d6d42"
      },
      "execution_count": null,
      "outputs": [
        {
          "output_type": "execute_result",
          "data": {
            "text/plain": [
              "    timestamp  Asset_ID  Count        Open        High         Low  \\\n",
              "0  1514764860         2   40.0   2376.5800   2399.5000   2357.1400   \n",
              "1  1514764860         0    5.0      8.5300      8.5300      8.5300   \n",
              "2  1514764860         1  229.0  13835.1940  14013.8000  13666.1100   \n",
              "3  1514764860         5   32.0      7.6596      7.6596      7.6567   \n",
              "4  1514764860         7    5.0     25.9200     25.9200     25.8740   \n",
              "\n",
              "        Close       Volume          VWAP    Target  \n",
              "0   2374.5900    19.233005   2373.116392 -0.004218  \n",
              "1      8.5300    78.380000      8.530000 -0.014399  \n",
              "2  13850.1760    31.550062  13827.062093 -0.014643  \n",
              "3      7.6576  6626.713370      7.657713 -0.013922  \n",
              "4     25.8770   121.087310     25.891363 -0.008264  "
            ],
            "text/html": [
              "\n",
              "  <div id=\"df-59b82433-4963-4168-a35c-7c1aff73d78b\">\n",
              "    <div class=\"colab-df-container\">\n",
              "      <div>\n",
              "<style scoped>\n",
              "    .dataframe tbody tr th:only-of-type {\n",
              "        vertical-align: middle;\n",
              "    }\n",
              "\n",
              "    .dataframe tbody tr th {\n",
              "        vertical-align: top;\n",
              "    }\n",
              "\n",
              "    .dataframe thead th {\n",
              "        text-align: right;\n",
              "    }\n",
              "</style>\n",
              "<table border=\"1\" class=\"dataframe\">\n",
              "  <thead>\n",
              "    <tr style=\"text-align: right;\">\n",
              "      <th></th>\n",
              "      <th>timestamp</th>\n",
              "      <th>Asset_ID</th>\n",
              "      <th>Count</th>\n",
              "      <th>Open</th>\n",
              "      <th>High</th>\n",
              "      <th>Low</th>\n",
              "      <th>Close</th>\n",
              "      <th>Volume</th>\n",
              "      <th>VWAP</th>\n",
              "      <th>Target</th>\n",
              "    </tr>\n",
              "  </thead>\n",
              "  <tbody>\n",
              "    <tr>\n",
              "      <th>0</th>\n",
              "      <td>1514764860</td>\n",
              "      <td>2</td>\n",
              "      <td>40.0</td>\n",
              "      <td>2376.5800</td>\n",
              "      <td>2399.5000</td>\n",
              "      <td>2357.1400</td>\n",
              "      <td>2374.5900</td>\n",
              "      <td>19.233005</td>\n",
              "      <td>2373.116392</td>\n",
              "      <td>-0.004218</td>\n",
              "    </tr>\n",
              "    <tr>\n",
              "      <th>1</th>\n",
              "      <td>1514764860</td>\n",
              "      <td>0</td>\n",
              "      <td>5.0</td>\n",
              "      <td>8.5300</td>\n",
              "      <td>8.5300</td>\n",
              "      <td>8.5300</td>\n",
              "      <td>8.5300</td>\n",
              "      <td>78.380000</td>\n",
              "      <td>8.530000</td>\n",
              "      <td>-0.014399</td>\n",
              "    </tr>\n",
              "    <tr>\n",
              "      <th>2</th>\n",
              "      <td>1514764860</td>\n",
              "      <td>1</td>\n",
              "      <td>229.0</td>\n",
              "      <td>13835.1940</td>\n",
              "      <td>14013.8000</td>\n",
              "      <td>13666.1100</td>\n",
              "      <td>13850.1760</td>\n",
              "      <td>31.550062</td>\n",
              "      <td>13827.062093</td>\n",
              "      <td>-0.014643</td>\n",
              "    </tr>\n",
              "    <tr>\n",
              "      <th>3</th>\n",
              "      <td>1514764860</td>\n",
              "      <td>5</td>\n",
              "      <td>32.0</td>\n",
              "      <td>7.6596</td>\n",
              "      <td>7.6596</td>\n",
              "      <td>7.6567</td>\n",
              "      <td>7.6576</td>\n",
              "      <td>6626.713370</td>\n",
              "      <td>7.657713</td>\n",
              "      <td>-0.013922</td>\n",
              "    </tr>\n",
              "    <tr>\n",
              "      <th>4</th>\n",
              "      <td>1514764860</td>\n",
              "      <td>7</td>\n",
              "      <td>5.0</td>\n",
              "      <td>25.9200</td>\n",
              "      <td>25.9200</td>\n",
              "      <td>25.8740</td>\n",
              "      <td>25.8770</td>\n",
              "      <td>121.087310</td>\n",
              "      <td>25.891363</td>\n",
              "      <td>-0.008264</td>\n",
              "    </tr>\n",
              "  </tbody>\n",
              "</table>\n",
              "</div>\n",
              "      <button class=\"colab-df-convert\" onclick=\"convertToInteractive('df-59b82433-4963-4168-a35c-7c1aff73d78b')\"\n",
              "              title=\"Convert this dataframe to an interactive table.\"\n",
              "              style=\"display:none;\">\n",
              "        \n",
              "  <svg xmlns=\"http://www.w3.org/2000/svg\" height=\"24px\"viewBox=\"0 0 24 24\"\n",
              "       width=\"24px\">\n",
              "    <path d=\"M0 0h24v24H0V0z\" fill=\"none\"/>\n",
              "    <path d=\"M18.56 5.44l.94 2.06.94-2.06 2.06-.94-2.06-.94-.94-2.06-.94 2.06-2.06.94zm-11 1L8.5 8.5l.94-2.06 2.06-.94-2.06-.94L8.5 2.5l-.94 2.06-2.06.94zm10 10l.94 2.06.94-2.06 2.06-.94-2.06-.94-.94-2.06-.94 2.06-2.06.94z\"/><path d=\"M17.41 7.96l-1.37-1.37c-.4-.4-.92-.59-1.43-.59-.52 0-1.04.2-1.43.59L10.3 9.45l-7.72 7.72c-.78.78-.78 2.05 0 2.83L4 21.41c.39.39.9.59 1.41.59.51 0 1.02-.2 1.41-.59l7.78-7.78 2.81-2.81c.8-.78.8-2.07 0-2.86zM5.41 20L4 18.59l7.72-7.72 1.47 1.35L5.41 20z\"/>\n",
              "  </svg>\n",
              "      </button>\n",
              "      \n",
              "  <style>\n",
              "    .colab-df-container {\n",
              "      display:flex;\n",
              "      flex-wrap:wrap;\n",
              "      gap: 12px;\n",
              "    }\n",
              "\n",
              "    .colab-df-convert {\n",
              "      background-color: #E8F0FE;\n",
              "      border: none;\n",
              "      border-radius: 50%;\n",
              "      cursor: pointer;\n",
              "      display: none;\n",
              "      fill: #1967D2;\n",
              "      height: 32px;\n",
              "      padding: 0 0 0 0;\n",
              "      width: 32px;\n",
              "    }\n",
              "\n",
              "    .colab-df-convert:hover {\n",
              "      background-color: #E2EBFA;\n",
              "      box-shadow: 0px 1px 2px rgba(60, 64, 67, 0.3), 0px 1px 3px 1px rgba(60, 64, 67, 0.15);\n",
              "      fill: #174EA6;\n",
              "    }\n",
              "\n",
              "    [theme=dark] .colab-df-convert {\n",
              "      background-color: #3B4455;\n",
              "      fill: #D2E3FC;\n",
              "    }\n",
              "\n",
              "    [theme=dark] .colab-df-convert:hover {\n",
              "      background-color: #434B5C;\n",
              "      box-shadow: 0px 1px 3px 1px rgba(0, 0, 0, 0.15);\n",
              "      filter: drop-shadow(0px 1px 2px rgba(0, 0, 0, 0.3));\n",
              "      fill: #FFFFFF;\n",
              "    }\n",
              "  </style>\n",
              "\n",
              "      <script>\n",
              "        const buttonEl =\n",
              "          document.querySelector('#df-59b82433-4963-4168-a35c-7c1aff73d78b button.colab-df-convert');\n",
              "        buttonEl.style.display =\n",
              "          google.colab.kernel.accessAllowed ? 'block' : 'none';\n",
              "\n",
              "        async function convertToInteractive(key) {\n",
              "          const element = document.querySelector('#df-59b82433-4963-4168-a35c-7c1aff73d78b');\n",
              "          const dataTable =\n",
              "            await google.colab.kernel.invokeFunction('convertToInteractive',\n",
              "                                                     [key], {});\n",
              "          if (!dataTable) return;\n",
              "\n",
              "          const docLinkHtml = 'Like what you see? Visit the ' +\n",
              "            '<a target=\"_blank\" href=https://colab.research.google.com/notebooks/data_table.ipynb>data table notebook</a>'\n",
              "            + ' to learn more about interactive tables.';\n",
              "          element.innerHTML = '';\n",
              "          dataTable['output_type'] = 'display_data';\n",
              "          await google.colab.output.renderOutput(dataTable, element);\n",
              "          const docLink = document.createElement('div');\n",
              "          docLink.innerHTML = docLinkHtml;\n",
              "          element.appendChild(docLink);\n",
              "        }\n",
              "      </script>\n",
              "    </div>\n",
              "  </div>\n",
              "  "
            ]
          },
          "metadata": {},
          "execution_count": 3
        }
      ]
    },
    {
      "cell_type": "code",
      "source": [
        "asset_id = pd.read_csv('../content/asset_details.csv')\n",
        "asset = asset_id.set_index('Asset_ID').sort_index()\n",
        "asset"
      ],
      "metadata": {
        "colab": {
          "base_uri": "https://localhost:8080/",
          "height": 520
        },
        "id": "Eh2_DVKKFcui",
        "outputId": "b843f2e6-3c35-4502-ecb3-83bc02cf4939"
      },
      "execution_count": null,
      "outputs": [
        {
          "output_type": "execute_result",
          "data": {
            "text/plain": [
              "            Weight        Asset_Name\n",
              "Asset_ID                            \n",
              "0         4.304065      Binance Coin\n",
              "1         6.779922           Bitcoin\n",
              "2         2.397895      Bitcoin Cash\n",
              "3         4.406719           Cardano\n",
              "4         3.555348          Dogecoin\n",
              "5         1.386294            EOS.IO\n",
              "6         5.894403          Ethereum\n",
              "7         2.079442  Ethereum Classic\n",
              "8         1.098612              IOTA\n",
              "9         2.397895          Litecoin\n",
              "10        1.098612             Maker\n",
              "11        1.609438            Monero\n",
              "12        2.079442           Stellar\n",
              "13        1.791759              TRON"
            ],
            "text/html": [
              "\n",
              "  <div id=\"df-6de0f23f-a0fb-4453-89ab-b5860edcc985\">\n",
              "    <div class=\"colab-df-container\">\n",
              "      <div>\n",
              "<style scoped>\n",
              "    .dataframe tbody tr th:only-of-type {\n",
              "        vertical-align: middle;\n",
              "    }\n",
              "\n",
              "    .dataframe tbody tr th {\n",
              "        vertical-align: top;\n",
              "    }\n",
              "\n",
              "    .dataframe thead th {\n",
              "        text-align: right;\n",
              "    }\n",
              "</style>\n",
              "<table border=\"1\" class=\"dataframe\">\n",
              "  <thead>\n",
              "    <tr style=\"text-align: right;\">\n",
              "      <th></th>\n",
              "      <th>Weight</th>\n",
              "      <th>Asset_Name</th>\n",
              "    </tr>\n",
              "    <tr>\n",
              "      <th>Asset_ID</th>\n",
              "      <th></th>\n",
              "      <th></th>\n",
              "    </tr>\n",
              "  </thead>\n",
              "  <tbody>\n",
              "    <tr>\n",
              "      <th>0</th>\n",
              "      <td>4.304065</td>\n",
              "      <td>Binance Coin</td>\n",
              "    </tr>\n",
              "    <tr>\n",
              "      <th>1</th>\n",
              "      <td>6.779922</td>\n",
              "      <td>Bitcoin</td>\n",
              "    </tr>\n",
              "    <tr>\n",
              "      <th>2</th>\n",
              "      <td>2.397895</td>\n",
              "      <td>Bitcoin Cash</td>\n",
              "    </tr>\n",
              "    <tr>\n",
              "      <th>3</th>\n",
              "      <td>4.406719</td>\n",
              "      <td>Cardano</td>\n",
              "    </tr>\n",
              "    <tr>\n",
              "      <th>4</th>\n",
              "      <td>3.555348</td>\n",
              "      <td>Dogecoin</td>\n",
              "    </tr>\n",
              "    <tr>\n",
              "      <th>5</th>\n",
              "      <td>1.386294</td>\n",
              "      <td>EOS.IO</td>\n",
              "    </tr>\n",
              "    <tr>\n",
              "      <th>6</th>\n",
              "      <td>5.894403</td>\n",
              "      <td>Ethereum</td>\n",
              "    </tr>\n",
              "    <tr>\n",
              "      <th>7</th>\n",
              "      <td>2.079442</td>\n",
              "      <td>Ethereum Classic</td>\n",
              "    </tr>\n",
              "    <tr>\n",
              "      <th>8</th>\n",
              "      <td>1.098612</td>\n",
              "      <td>IOTA</td>\n",
              "    </tr>\n",
              "    <tr>\n",
              "      <th>9</th>\n",
              "      <td>2.397895</td>\n",
              "      <td>Litecoin</td>\n",
              "    </tr>\n",
              "    <tr>\n",
              "      <th>10</th>\n",
              "      <td>1.098612</td>\n",
              "      <td>Maker</td>\n",
              "    </tr>\n",
              "    <tr>\n",
              "      <th>11</th>\n",
              "      <td>1.609438</td>\n",
              "      <td>Monero</td>\n",
              "    </tr>\n",
              "    <tr>\n",
              "      <th>12</th>\n",
              "      <td>2.079442</td>\n",
              "      <td>Stellar</td>\n",
              "    </tr>\n",
              "    <tr>\n",
              "      <th>13</th>\n",
              "      <td>1.791759</td>\n",
              "      <td>TRON</td>\n",
              "    </tr>\n",
              "  </tbody>\n",
              "</table>\n",
              "</div>\n",
              "      <button class=\"colab-df-convert\" onclick=\"convertToInteractive('df-6de0f23f-a0fb-4453-89ab-b5860edcc985')\"\n",
              "              title=\"Convert this dataframe to an interactive table.\"\n",
              "              style=\"display:none;\">\n",
              "        \n",
              "  <svg xmlns=\"http://www.w3.org/2000/svg\" height=\"24px\"viewBox=\"0 0 24 24\"\n",
              "       width=\"24px\">\n",
              "    <path d=\"M0 0h24v24H0V0z\" fill=\"none\"/>\n",
              "    <path d=\"M18.56 5.44l.94 2.06.94-2.06 2.06-.94-2.06-.94-.94-2.06-.94 2.06-2.06.94zm-11 1L8.5 8.5l.94-2.06 2.06-.94-2.06-.94L8.5 2.5l-.94 2.06-2.06.94zm10 10l.94 2.06.94-2.06 2.06-.94-2.06-.94-.94-2.06-.94 2.06-2.06.94z\"/><path d=\"M17.41 7.96l-1.37-1.37c-.4-.4-.92-.59-1.43-.59-.52 0-1.04.2-1.43.59L10.3 9.45l-7.72 7.72c-.78.78-.78 2.05 0 2.83L4 21.41c.39.39.9.59 1.41.59.51 0 1.02-.2 1.41-.59l7.78-7.78 2.81-2.81c.8-.78.8-2.07 0-2.86zM5.41 20L4 18.59l7.72-7.72 1.47 1.35L5.41 20z\"/>\n",
              "  </svg>\n",
              "      </button>\n",
              "      \n",
              "  <style>\n",
              "    .colab-df-container {\n",
              "      display:flex;\n",
              "      flex-wrap:wrap;\n",
              "      gap: 12px;\n",
              "    }\n",
              "\n",
              "    .colab-df-convert {\n",
              "      background-color: #E8F0FE;\n",
              "      border: none;\n",
              "      border-radius: 50%;\n",
              "      cursor: pointer;\n",
              "      display: none;\n",
              "      fill: #1967D2;\n",
              "      height: 32px;\n",
              "      padding: 0 0 0 0;\n",
              "      width: 32px;\n",
              "    }\n",
              "\n",
              "    .colab-df-convert:hover {\n",
              "      background-color: #E2EBFA;\n",
              "      box-shadow: 0px 1px 2px rgba(60, 64, 67, 0.3), 0px 1px 3px 1px rgba(60, 64, 67, 0.15);\n",
              "      fill: #174EA6;\n",
              "    }\n",
              "\n",
              "    [theme=dark] .colab-df-convert {\n",
              "      background-color: #3B4455;\n",
              "      fill: #D2E3FC;\n",
              "    }\n",
              "\n",
              "    [theme=dark] .colab-df-convert:hover {\n",
              "      background-color: #434B5C;\n",
              "      box-shadow: 0px 1px 3px 1px rgba(0, 0, 0, 0.15);\n",
              "      filter: drop-shadow(0px 1px 2px rgba(0, 0, 0, 0.3));\n",
              "      fill: #FFFFFF;\n",
              "    }\n",
              "  </style>\n",
              "\n",
              "      <script>\n",
              "        const buttonEl =\n",
              "          document.querySelector('#df-6de0f23f-a0fb-4453-89ab-b5860edcc985 button.colab-df-convert');\n",
              "        buttonEl.style.display =\n",
              "          google.colab.kernel.accessAllowed ? 'block' : 'none';\n",
              "\n",
              "        async function convertToInteractive(key) {\n",
              "          const element = document.querySelector('#df-6de0f23f-a0fb-4453-89ab-b5860edcc985');\n",
              "          const dataTable =\n",
              "            await google.colab.kernel.invokeFunction('convertToInteractive',\n",
              "                                                     [key], {});\n",
              "          if (!dataTable) return;\n",
              "\n",
              "          const docLinkHtml = 'Like what you see? Visit the ' +\n",
              "            '<a target=\"_blank\" href=https://colab.research.google.com/notebooks/data_table.ipynb>data table notebook</a>'\n",
              "            + ' to learn more about interactive tables.';\n",
              "          element.innerHTML = '';\n",
              "          dataTable['output_type'] = 'display_data';\n",
              "          await google.colab.output.renderOutput(dataTable, element);\n",
              "          const docLink = document.createElement('div');\n",
              "          docLink.innerHTML = docLinkHtml;\n",
              "          element.appendChild(docLink);\n",
              "        }\n",
              "      </script>\n",
              "    </div>\n",
              "  </div>\n",
              "  "
            ]
          },
          "metadata": {},
          "execution_count": 4
        }
      ]
    },
    {
      "cell_type": "code",
      "source": [
        "plt.figure(figsize=(12,5))\n",
        "sns.countplot(data['Asset_ID'], palette='cool');"
      ],
      "metadata": {
        "colab": {
          "base_uri": "https://localhost:8080/",
          "height": 346
        },
        "id": "KwIlBj6IFnCX",
        "outputId": "a9bce387-94b6-4594-bd3f-eb9d59591fb7"
      },
      "execution_count": null,
      "outputs": [
        {
          "output_type": "display_data",
          "data": {
            "text/plain": [
              "<Figure size 864x360 with 1 Axes>"
            ],
            "image/png": "[encoded data removed]"
          },
          "metadata": {
            "needs_background": "light"
          }
        }
      ]
    },
    {
      "cell_type": "code",
      "source": [
        "#Let's have a look at the most famous crypto - BITCOIN\n",
        "btc = data[data['Asset_ID'] == 1].set_index(\"timestamp\")\n",
        "btc_range = btc.iloc[-500:]  # Since we cannot plot the entire btc, so selecting the latest 500 points.\n",
        "btc_range.head()"
      ],
      "metadata": {
        "colab": {
          "base_uri": "https://localhost:8080/",
          "height": 238
        },
        "id": "EY-iFnVXFwBq",
        "outputId": "2a92f36f-b7c6-4327-9461-e31f67324a30"
      },
      "execution_count": null,
      "outputs": [
        {
          "output_type": "execute_result",
          "data": {
            "text/plain": [
              "            Asset_ID   Count          Open          High       Low  \\\n",
              "timestamp                                                            \n",
              "1632152460         1  1747.0  43795.582857  43812.350001  43757.74   \n",
              "1632152520         1  2004.0  43789.091429  43856.000000  43774.50   \n",
              "1632152580         1  1792.0  43788.650000  43868.000000  43754.55   \n",
              "1632152640         1  1822.0  43841.212857  43868.000000  43759.70   \n",
              "1632152700         1  1741.0  43773.905714  43851.000000  43742.91   \n",
              "\n",
              "                   Close     Volume          VWAP    Target  \n",
              "timestamp                                                    \n",
              "1632152460  43788.523087  57.418939  43779.265159 -0.000782  \n",
              "1632152520  43795.514286  70.487479  43805.173544 -0.000468  \n",
              "1632152580  43844.012857  63.508808  43804.801217 -0.000810  \n",
              "1632152640  43776.195714  66.363434  43795.941803 -0.000596  \n",
              "1632152700  43825.920000  50.774907  43790.736873 -0.001321  "
            ],
            "text/html": [
              "\n",
              "  <div id=\"df-2996ea42-e126-42d3-92ff-b71ac880a892\">\n",
              "    <div class=\"colab-df-container\">\n",
              "      <div>\n",
              "<style scoped>\n",
              "    .dataframe tbody tr th:only-of-type {\n",
              "        vertical-align: middle;\n",
              "    }\n",
              "\n",
              "    .dataframe tbody tr th {\n",
              "        vertical-align: top;\n",
              "    }\n",
              "\n",
              "    .dataframe thead th {\n",
              "        text-align: right;\n",
              "    }\n",
              "</style>\n",
              "<table border=\"1\" class=\"dataframe\">\n",
              "  <thead>\n",
              "    <tr style=\"text-align: right;\">\n",
              "      <th></th>\n",
              "      <th>Asset_ID</th>\n",
              "      <th>Count</th>\n",
              "      <th>Open</th>\n",
              "      <th>High</th>\n",
              "      <th>Low</th>\n",
              "      <th>Close</th>\n",
              "      <th>Volume</th>\n",
              "      <th>VWAP</th>\n",
              "      <th>Target</th>\n",
              "    </tr>\n",
              "    <tr>\n",
              "      <th>timestamp</th>\n",
              "      <th></th>\n",
              "      <th></th>\n",
              "      <th></th>\n",
              "      <th></th>\n",
              "      <th></th>\n",
              "      <th></th>\n",
              "      <th></th>\n",
              "      <th></th>\n",
              "      <th></th>\n",
              "    </tr>\n",
              "  </thead>\n",
              "  <tbody>\n",
              "    <tr>\n",
              "      <th>1632152460</th>\n",
              "      <td>1</td>\n",
              "      <td>1747.0</td>\n",
              "      <td>43795.582857</td>\n",
              "      <td>43812.350001</td>\n",
              "      <td>43757.74</td>\n",
              "      <td>43788.523087</td>\n",
              "      <td>57.418939</td>\n",
              "      <td>43779.265159</td>\n",
              "      <td>-0.000782</td>\n",
              "    </tr>\n",
              "    <tr>\n",
              "      <th>1632152520</th>\n",
              "      <td>1</td>\n",
              "      <td>2004.0</td>\n",
              "      <td>43789.091429</td>\n",
              "      <td>43856.000000</td>\n",
              "      <td>43774.50</td>\n",
              "      <td>43795.514286</td>\n",
              "      <td>70.487479</td>\n",
              "      <td>43805.173544</td>\n",
              "      <td>-0.000468</td>\n",
              "    </tr>\n",
              "    <tr>\n",
              "      <th>1632152580</th>\n",
              "      <td>1</td>\n",
              "      <td>1792.0</td>\n",
              "      <td>43788.650000</td>\n",
              "      <td>43868.000000</td>\n",
              "      <td>43754.55</td>\n",
              "      <td>43844.012857</td>\n",
              "      <td>63.508808</td>\n",
              "      <td>43804.801217</td>\n",
              "      <td>-0.000810</td>\n",
              "    </tr>\n",
              "    <tr>\n",
              "      <th>1632152640</th>\n",
              "      <td>1</td>\n",
              "      <td>1822.0</td>\n",
              "      <td>43841.212857</td>\n",
              "      <td>43868.000000</td>\n",
              "      <td>43759.70</td>\n",
              "      <td>43776.195714</td>\n",
              "      <td>66.363434</td>\n",
              "      <td>43795.941803</td>\n",
              "      <td>-0.000596</td>\n",
              "    </tr>\n",
              "    <tr>\n",
              "      <th>1632152700</th>\n",
              "      <td>1</td>\n",
              "      <td>1741.0</td>\n",
              "      <td>43773.905714</td>\n",
              "      <td>43851.000000</td>\n",
              "      <td>43742.91</td>\n",
              "      <td>43825.920000</td>\n",
              "      <td>50.774907</td>\n",
              "      <td>43790.736873</td>\n",
              "      <td>-0.001321</td>\n",
              "    </tr>\n",
              "  </tbody>\n",
              "</table>\n",
              "</div>\n",
              "      <button class=\"colab-df-convert\" onclick=\"convertToInteractive('df-2996ea42-e126-42d3-92ff-b71ac880a892')\"\n",
              "              title=\"Convert this dataframe to an interactive table.\"\n",
              "              style=\"display:none;\">\n",
              "        \n",
              "  <svg xmlns=\"http://www.w3.org/2000/svg\" height=\"24px\"viewBox=\"0 0 24 24\"\n",
              "       width=\"24px\">\n",
              "    <path d=\"M0 0h24v24H0V0z\" fill=\"none\"/>\n",
              "    <path d=\"M18.56 5.44l.94 2.06.94-2.06 2.06-.94-2.06-.94-.94-2.06-.94 2.06-2.06.94zm-11 1L8.5 8.5l.94-2.06 2.06-.94-2.06-.94L8.5 2.5l-.94 2.06-2.06.94zm10 10l.94 2.06.94-2.06 2.06-.94-2.06-.94-.94-2.06-.94 2.06-2.06.94z\"/><path d=\"M17.41 7.96l-1.37-1.37c-.4-.4-.92-.59-1.43-.59-.52 0-1.04.2-1.43.59L10.3 9.45l-7.72 7.72c-.78.78-.78 2.05 0 2.83L4 21.41c.39.39.9.59 1.41.59.51 0 1.02-.2 1.41-.59l7.78-7.78 2.81-2.81c.8-.78.8-2.07 0-2.86zM5.41 20L4 18.59l7.72-7.72 1.47 1.35L5.41 20z\"/>\n",
              "  </svg>\n",
              "      </button>\n",
              "      \n",
              "  <style>\n",
              "    .colab-df-container {\n",
              "      display:flex;\n",
              "      flex-wrap:wrap;\n",
              "      gap: 12px;\n",
              "    }\n",
              "\n",
              "    .colab-df-convert {\n",
              "      background-color: #E8F0FE;\n",
              "      border: none;\n",
              "      border-radius: 50%;\n",
              "      cursor: pointer;\n",
              "      display: none;\n",
              "      fill: #1967D2;\n",
              "      height: 32px;\n",
              "      padding: 0 0 0 0;\n",
              "      width: 32px;\n",
              "    }\n",
              "\n",
              "    .colab-df-convert:hover {\n",
              "      background-color: #E2EBFA;\n",
              "      box-shadow: 0px 1px 2px rgba(60, 64, 67, 0.3), 0px 1px 3px 1px rgba(60, 64, 67, 0.15);\n",
              "      fill: #174EA6;\n",
              "    }\n",
              "\n",
              "    [theme=dark] .colab-df-convert {\n",
              "      background-color: #3B4455;\n",
              "      fill: #D2E3FC;\n",
              "    }\n",
              "\n",
              "    [theme=dark] .colab-df-convert:hover {\n",
              "      background-color: #434B5C;\n",
              "      box-shadow: 0px 1px 3px 1px rgba(0, 0, 0, 0.15);\n",
              "      filter: drop-shadow(0px 1px 2px rgba(0, 0, 0, 0.3));\n",
              "      fill: #FFFFFF;\n",
              "    }\n",
              "  </style>\n",
              "\n",
              "      <script>\n",
              "        const buttonEl =\n",
              "          document.querySelector('#df-2996ea42-e126-42d3-92ff-b71ac880a892 button.colab-df-convert');\n",
              "        buttonEl.style.display =\n",
              "          google.colab.kernel.accessAllowed ? 'block' : 'none';\n",
              "\n",
              "        async function convertToInteractive(key) {\n",
              "          const element = document.querySelector('#df-2996ea42-e126-42d3-92ff-b71ac880a892');\n",
              "          const dataTable =\n",
              "            await google.colab.kernel.invokeFunction('convertToInteractive',\n",
              "                                                     [key], {});\n",
              "          if (!dataTable) return;\n",
              "\n",
              "          const docLinkHtml = 'Like what you see? Visit the ' +\n",
              "            '<a target=\"_blank\" href=https://colab.research.google.com/notebooks/data_table.ipynb>data table notebook</a>'\n",
              "            + ' to learn more about interactive tables.';\n",
              "          element.innerHTML = '';\n",
              "          dataTable['output_type'] = 'display_data';\n",
              "          await google.colab.output.renderOutput(dataTable, element);\n",
              "          const docLink = document.createElement('div');\n",
              "          docLink.innerHTML = docLinkHtml;\n",
              "          element.appendChild(docLink);\n",
              "        }\n",
              "      </script>\n",
              "    </div>\n",
              "  </div>\n",
              "  "
            ]
          },
          "metadata": {},
          "execution_count": 7
        }
      ]
    },
    {
      "cell_type": "code",
      "source": [
        "fig = go.Figure(data=[go.Candlestick(x=btc_range.index, \n",
        "                                     open=btc_range['Open'], \n",
        "                                     high=btc_range['High'], \n",
        "                                     low=btc_range['Low'], \n",
        "                                     close=btc_range['Close'])])\n",
        "print('Use the slider to Adjust and Zoom')\n",
        "fig.show()"
      ],
      "metadata": {
        "colab": {
          "base_uri": "https://localhost:8080/",
          "height": 559
        },
        "id": "0csY3QGVF3pY",
        "outputId": "eedab78e-e557-43a7-f14d-4cb6f17e399d"
      },
      "execution_count": null,
      "outputs": [
        {
          "output_type": "stream",
          "name": "stdout",
          "text": [
            "Use the slider to Adjust and Zoom\n"
          ]
        },
        {
          "output_type": "display_data",
          "data": {
            "text/html": [
              "<html>\n",
              "<head><meta charset=\"utf-8\" /></head>\n",
              "<body>\n",
              "    <div>            <script src=\"https://cdnjs.cloudflare.com/ajax/libs/mathjax/2.7.5/MathJax.js?config=TeX-AMS-MML_SVG\"></script><script type=\"text/javascript\">if (window.MathJax) {MathJax.Hub.Config({SVG: {font: \"STIX-Web\"}});}</script>                <script type=\"text/javascript\">window.PlotlyConfig = {MathJaxConfig: 'local'};</script>\n",
              "        <script src=\"https://cdn.plot.ly/plotly-2.8.3.min.js\"></script>                <div id=\"c007f4c8-1ff2-41ae-ab81-9be1ce098105\" class=\"plotly-graph-div\" style=\"height:525px; width:100%;\"></div>            <script type=\"text/javascript\">                                    window.PLOTLYENV=window.PLOTLYENV || {};                                    if (document.getElementById(\"c007f4c8-1ff2-41ae-ab81-9be1ce098105\")) {                    Plotly.newPlot(                        \"c007f4c8-1ff2-41ae-ab81-9be1ce098105\",                        [{\"close\":[43788.52308709428,43795.514285714286,43844.01285714285,43776.19571428571,43825.92,43828.31714285714,43829.038571428566,43819.25428571428,43825.417142857135,43771.51,43718.76142857142,43710.93571428571,43706.84857142857,43714.93428571429,43684.05714285715,43694.38,43735.974285714285,43872.898750000015,43862.1425,43828.56072212428,43761.61714285715,43731.607142857145,43692.74571428571,43717.98857142858,43764.47714285715,43760.95857142857,43747.985714285714,43786.83571428571,43650.36714285715,43576.22427937571,43726.5925,43770.14428812287,43799.77571428572,43810.60997741857,43867.33142857143,43833.12374697571,43773.42142857142,43817.43571428572,43743.64571428572,43832.59,43814.50571428571,43852.38571428572,43886.72300850715,43903.624285714286,43966.82142857144,43979.99285714286,44047.45571428572,44014.005714285726,44019.415,44080.05285714286,44070.57142857144,44050.7375,44022.2475,44060.75285714285,44034.61428571429,44066.538571428566,44069.055714285714,44029.72857142856,44067.485714285714,44048.50428571429,44061.69571428571,44020.29857142857,43995.25285714286,44017.39000000001,43962.43142857143,43952.02142857143,43936.777142857136,43942.45465447572,43929.35857142857,43888.95571428572,43878.31571428572,43837.374285714286,43870.584285714285,43876.81285714286,43856.88857142856,43884.47571428572,43846.694285714286,43850.217142857146,43853.96142857144,43903.05142857142,43933.584285714285,43925.357142857145,43867.31599538429,43895.66285714286,43877.42999999999,43814.83571428572,43799.20142857143,43763.92875,43775.77428571428,43760.94142857143,43768.99142857143,43784.962857142855,43772.43285714286,43756.528178482855,43753.392857142855,43771.17571428571,43836.02625,43824.57,43841.84313222001,43883.71939432572,43901.397142857146,43910.04571428571,43877.09142857143,43882.347142857136,43939.39,43959.33317106428,43983.03999999999,43988.857142857145,43987.10875,43898.815025675714,43896.292857142864,43880.53226309428,43868.402857142864,43879.97142857143,43931.49857142857,43976.394812732855,43970.35571428571,44020.88874999999,44129.2075,44107.03428571428,44046.71714285714,44158.0660529025,44119.96,44103.404285714285,44085.555714285714,44039.49714285715,44040.59142857144,44053.66714285715,44053.26142857144,44038.36285714285,44050.79857142857,44042.871428571416,44071.02125,44136.272721934285,44087.058709245706,44081.32428571428,44075.9125,44058.48142857144,44055.08571428571,44074.30556436499,44001.75296752144,44066.24142857143,44034.928571428565,44004.0117661043,43995.07142857144,43948.74120796142,43972.00714285715,43955.68125,43924.0725,43912.1,43908.69571428571,43910.81714285714,43907.60999999999,43892.17,43907.147142857146,43897.822857142855,43887.49142857143,43936.31714285714,43887.57857142857,43883.78000000001,43816.68714285714,43764.58499999999,43705.529999999984,43615.78519134,43631.3825,43608.51857142857,43657.15142857143,43616.29875,43592.74999999999,43607.779999999984,43613.294807325714,43617.95142857143,43607.26461277252,43476.775,43468.55,43358.5125,43260.43875,43338.33857142857,43387.5,43430.76125,43425.04571428573,43444.13142857143,43462.86857142857,43438.15142857143,43434.11714285715,43501.97714285714,43532.21630312999,43547.94125,43550.975,43572.80857142858,43583.987142857135,43570.85039915428,43453.79571428571,43412.99571428571,43356.83,43316.38428571429,43378.10428571428,43327.55714285715,43402.377142857134,43469.32857142857,43496.44324048428,43411.79554926144,43389.18714285714,43351.12285714286,43367.725714285705,43246.20285714286,43287.80428571429,43259.50285714286,43182.72714285715,43332.12237411285,43428.04,43279.78625000001,43152.395,43201.0325,43219.78625,43191.09285714285,43144.77571428572,43102.57714285714,43016.79875,43038.5875,43017.88625,42924.27875,42989.867500000015,43104.23,43064.03278645572,43015.39428571429,42943.09142857143,42972.01857142857,43064.57142857143,43160.67285714286,43473.7075,43488.3,43516.6025,43525.70857142857,43572.76714285714,43615.64375,43624.02487568,43597.24857142857,43569.21875,43586.88857142856,43580.31285714286,43712.58875000002,43813.67375,43688.851250000014,43754.548571428575,43682.015000000014,43637.7,43629.56714285714,43606.30142857142,43581.91571428572,43578.70428571429,43699.40625,43841.88500000002,43860.98,43906.19445371875,43894.241250000014,43920.58285714285,43904.57857142857,43861.21571428572,43871.135,43935.1742648,43909.92285714286,43907.97714285715,43921.57571428571,43870.96875,43898.26867075625,43874.34142857143,43870.84571428572,43869.898571428566,43857.86714285715,43790.63714285714,43823.41857142858,43800.722857142864,43804.91571428572,43825.08036451143,43783.38000000001,43785.446250000015,43761.25285714286,43779.69285714287,43750.83602162143,43741.25714285715,43729.68,43719.648571428566,43710.88285714285,43751.097142857136,43741.67714285715,43709.96115756857,43723.27142857143,43647.66142857143,43685.0875,43666.62285714286,43688.77942172,43684.07022895857,43697.28428571428,43725.01142857143,43745.28999999999,43763.855714285724,43775.26857142857,43682.67857142857,43578.98218626571,43447.00375,43440.0,43360.72375,43427.24285714286,43375.04,43391.2775,43328.33142857143,43333.292857142864,43272.20571428572,43302.26142857143,43237.22857142857,43293.438571428575,43335.397142857146,43329.36,43315.57857142857,43358.98,43401.56125,43496.01714285714,43543.944285714286,43735.24749999998,43635.8,43565.93714285714,43445.9742505125,43582.882500000014,43509.89375,43583.13375,43620.45625000002,43683.955,43688.792857142864,43748.37285714286,43733.61857142858,43770.91142857143,43725.21247342,43699.93519433285,43681.41125,43663.37142857142,43674.12714285714,43735.2968762825,43761.40857142857,43804.98142857143,43748.64871729857,43754.64400535857,43761.9313146925,43745.054649555714,43749.41395637714,43704.05428571429,43754.37857142858,43752.16000000002,43752.56428571429,43742.16285714285,43722.25010413143,43698.399835418575,43678.80153424286,43688.29428571429,43673.78428571428,43674.93714285714,43696.93209772,43696.218571428566,43688.90142857142,43680.15714285715,43699.02571428572,43731.86428571429,43747.49428571429,43762.66571428572,43851.00774273375,43796.60571428571,43767.107142857145,43685.150000000016,43691.55,43724.642857142855,43737.69285714287,43651.975714285705,43596.42285714286,43623.89428571428,43635.89571428572,43561.85142857144,43536.07792585572,43480.374285714286,43514.82,43608.34571428572,43568.90142857143,43554.05285714286,43631.01714285714,43631.90714285714,43537.49,43597.75303396001,43648.514285714286,43697.334285714285,43707.43,43726.24681658715,43765.792857142864,43715.65571428572,43715.125714285714,43710.31428571429,43731.00625,43770.145714285725,43814.85571428571,43816.27125000001,43806.570000000014,43806.79142857143,43770.66857142857,43799.1,43833.474285714285,43811.704285714295,43843.44,43832.01571428571,43786.38571428572,43769.188571428575,43774.467142857146,43796.19,43797.20571428572,43798.15714285714,43804.61142857144,43831.59142857143,43871.69625,43897.16857142858,43901.38285714285,43883.25895342144,43862.52,43894.77857142857,43866.73499999999,43845.84857142857,43823.298571428575,43752.76714285714,43703.374285714286,43669.07857142857,43642.77285714285,43615.38,43504.42428571429,43367.88571428572,43316.7225,43295.04428571429,43250.16571428572,43075.9025,43232.90125,43259.1575,43293.7075,43305.09857142857,43327.79,43356.28068103,43344.55857142858,43484.61375,43580.82375,43470.794999999984,43198.788571428566,43213.69,43269.54714285715,43239.26125,43114.23614144125,43067.63,43060.81,42991.2775,42989.62375,43219.33125,43140.19135458125,43198.24000000001,43110.797500000015,43157.72298172143,43099.1575,43051.08285714287,42966.91285714286,43009.43142857143,42880.67875,42822.040000000015,42699.178750000014,42778.885,42779.71,42700.44625,42659.58241635572,42600.39625,42624.279999999984,42577.0,42679.60625,42678.21816655625,42762.514285714286,42825.295,42736.6525,42769.39571428571,42637.115,42703.63625,42781.97057111125,42755.5925,42717.23428571428,42657.20249999999,42678.72142857143,42778.29125,42790.17571428571,42731.73142857143,42898.565,42939.64571428572,42927.167142857135,42979.83375,42960.60142857144,42985.48285714286,42985.21482412572,42899.01285714287,42860.00571428572,42827.02,43017.277142857136,43002.505],\"high\":[43812.35000103,43856.0,43868.0,43868.0,43851.0,43850.0,43850.70652206,43857.0,43852.0,43845.0,43806.0,43742.03585349,43771.0,43748.0,43744.0,43725.0,43763.0,44008.23,43974.1,43966.68,43855.0,43808.19,43769.0,43742.0,43779.0,43812.0,43780.0,43829.64,43793.0,43666.0,43774.07,43791.67491349,43809.37,43829.23,43883.0,43877.31,43833.0,43821.85,43818.77,43849.39,43856.98,43869.0,43907.0,43926.0,44001.0,43997.43,44070.01,44119.0,44063.45,44100.42,44095.91,44097.0,44065.0,44078.4,44084.66,44090.03,44085.0,44080.0,44086.42,44081.0,44065.04,44091.67,44045.0,44034.88,44021.0,43970.0,43969.0,43958.4,43958.3,43958.2,43902.2,43900.1,43917.68760878,43894.0,43888.0,43896.0,43912.93,43871.36,43877.0,43914.99,43952.94,43943.71,43944.52,43906.33,43913.87,43886.34,43827.06,43810.8,43787.58,43788.63,43779.0,43793.0,43796.0,43786.62,43777.0,43778.61,43848.72,43849.5,43850.21,43894.4,43910.33,43940.8,43915.0,43901.0,43954.47,43980.14,43996.71,44003.27,44006.86,43998.95,43913.0,43916.0,43900.0,43892.92,43956.96,44000.0,43987.72,44052.36,44159.5,44144.0,44118.0,44257.99,44199.32,44154.46,44116.76,44113.2,44070.33,44091.76,44080.0,44081.67,44063.1,44063.1,44090.87,44152.5,44141.0,44100.1,44100.39,44100.0,44069.0,44130.0,44081.89116755,44100.0,44085.0,44039.0,44022.35,44008.0,44069.0,44008.8,44008.0,43961.25,43935.0,43942.2,43921.0,43914.0,43925.96,43915.0,43912.0,43959.0,43947.0,43904.0,43903.0,43828.0,43795.6,43732.0,43686.0,43652.0,43685.4,43685.4,43647.02,43634.07,43628.6,43669.24,43640.0,43615.0,43495.61,43479.48,43383.18,43366.26811171,43528.44,43456.0,43457.0,43469.0,43476.08,43489.0,43484.0,43512.97,43545.0,43570.36,43620.42,43611.0,43596.2,43605.29,43577.51,43479.75,43440.1,43381.61,43450.26942404,43417.23,43426.81575383,43509.0,43511.21,43510.0,43477.09,43395.04065691,43403.11,43371.25,43333.43,43346.82,43295.2,43352.17,43453.45,43440.2,43307.99,43263.57,43313.63,43279.0,43219.23,43197.13,43164.15,43089.59,43108.55,43032.55,43040.0,43138.78,43123.7,43075.0,43026.75835346,43012.8069541,43089.0,43176.0,43537.0,43575.47,43572.13,43582.8,43583.0,43644.61,43649.0,43645.0,43639.29,43650.0,43600.1,43743.5,43901.5,43853.52,43794.7,43754.0,43715.73,43648.61667971,43645.92,43644.45,43603.9,43726.22,43894.24062308,43886.0,43972.0,43932.0,43950.0,43951.82,43919.0,43891.62,43968.67,43961.0,43936.0,43949.0,43931.0,43949.0,43911.0,43924.19936605,43892.35996387,43890.04262761,43878.0,43844.86,43860.86,43838.0,43872.0,43830.0,43824.0,43809.90889954,43817.0,43804.0,43770.29406501,43764.46139972,43751.0,43748.0,43764.04,43799.04,43770.0,43731.44,43731.48,43735.15,43687.68903327,43718.0,43704.0,43705.91,43743.5,43770.01,43773.71,43789.4,43785.0,43703.8,43588.68,43495.95402838,43455.2184781,43454.99,43467.0,43405.0,43407.7,43350.0,43344.99,43315.99,43317.0,43318.8,43353.43,43363.82,43341.56,43372.8,43436.99,43512.7,43581.88,43750.27,43749.6,43636.4,43587.1,43609.1,43617.0,43611.11,43634.01,43715.6675949,43707.74,43763.7,43766.35,43798.21,43780.0,43726.0,43731.0,43702.91,43684.24,43773.35,43784.1,43818.17,43810.0,43766.0,43790.0,43774.0,43760.01,43763.66,43773.4,43768.62,43776.0,43768.53,43750.0,43746.7,43708.0,43701.5,43701.5,43689.0,43716.49468404,43709.0,43703.62,43723.37,43708.47,43754.58,43757.98,43776.38,43882.75,43913.83,43813.0,43788.8,43704.19,43738.0,43746.19,43747.0,43672.0,43639.5,43651.0,43647.45,43582.0,43550.99,43524.0,43618.15,43652.3,43587.51,43654.6,43682.6,43646.0,43614.93123772,43660.09,43708.05,43744.4,43776.1,43785.75,43779.05,43756.0,43782.7,43777.2,43782.74,43830.0,43835.6,43835.5,43833.6,43867.04,43805.3,43861.08,43848.1,43860.78,43866.41,43840.14,43808.31,43800.0,43812.4,43818.6,43818.4,43821.1,43840.7,43910.99,43912.1,43940.0,43912.0,43908.5,43906.71,43906.73,43874.98,43851.4,43843.87,43782.1,43721.3,43699.8,43679.99,43633.3,43560.02,43417.91,43354.59,43359.44,43259.3,43281.0,43301.61947119,43320.02,43348.22,43366.0,43391.85,43376.0,43546.61,43640.0,43627.0,43455.0,43276.57,43366.0,43288.47,43287.5,43133.15,43099.98,43072.2,43069.67,43289.9,43350.5,43229.1,43247.5,43193.54,43172.9,43122.0,43082.02,43029.49,43015.0,42897.0,42884.85,42836.33,42811.0,42852.0,42719.98,42779.1,42703.01,42650.0,42705.0,42802.54,42862.0,42877.82,42846.0,42833.9,42841.99,42736.9,42819.38,42827.1,42811.3,42752.0,42715.99,42810.26,42828.0,42827.7,42937.31,42966.98,42971.95,43014.98,43005.65,43008.85,43006.54,43001.85084871,42932.0,42887.5,43042.16,43048.51],\"low\":[43757.74,43774.5,43754.55,43759.7,43742.91,43769.68,43788.68,43780.87,43792.97,43755.7,43700.01,43665.7,43682.84,43681.15,43660.0,43664.01,43680.0,43672.8,43832.9,43717.53,43745.3,43707.53,43666.69,43671.8,43693.51,43735.9,43719.13,43728.95,43628.01,43557.87,43563.11,43705.0,43740.66,43780.44,43790.01,43810.07,43763.88,43758.0,43730.8,43705.6,43794.99,43776.63,43827.3,43861.63,43874.25,43915.13,43958.4,43994.44,43994.0,43964.48,44038.46,44036.42,44001.83,43981.46,44021.06,44021.05,44044.69,44005.39,44010.69,44034.22,44017.01,44000.02,43984.24,43971.22,43942.96,43919.26,43921.43,43915.03,43914.04,43861.84,43856.89,43816.32,43827.06,43848.0,43830.01,43833.11,43827.73,43826.4,43828.32,43842.31,43876.9,43894.97,43847.28,43842.6,43861.7,43783.62,43772.68,43730.29,43741.67,43749.54,43725.01,43756.34,43753.75,43739.29,43737.7,43725.0,43749.93,43803.41,43814.12,43830.31,43862.92,43888.2,43857.06,43847.54,43865.99,43895.26,43941.4,43951.42,43964.35,43884.73,43866.01,43858.78,43845.62,43850.01,43867.85,43913.1,43951.4,43954.93,43985.65,44054.38,44021.04,44035.21,44100.0,44082.01,44048.2,44026.29,44012.42,44026.37,44039.04,44019.2,44021.67,44021.68,44035.12,44049.97,44069.04,44060.0,44058.3,44039.14,44034.12,44043.55,43966.23,43987.2,44018.05,43990.0,43978.77,43928.72,43924.41,43898.52,43898.68,43901.09,43877.96,43878.45,43869.23,43880.01,43880.0,43889.48,43872.2,43875.7,43876.62,43866.8,43787.51,43742.58,43654.94,43569.49,43595.24,43580.01,43586.82,43595.29,43581.36,43545.0,43576.95,43584.81,43575.08,43437.24,43384.51,43331.0,43227.33,43213.3,43239.19,43344.12,43383.69,43381.26,43404.59,43400.0,43388.01,43423.39,43480.69,43502.11,43533.55,43539.54,43544.79,43549.06,43425.93,43394.48,43339.01,43299.0,43299.01,43291.03,43258.13,43384.1,43440.37,43384.3,43356.84,43317.95,43340.79,43221.3,43181.23,43230.01,43051.0,43139.07,43301.14,43252.86,43100.3,43128.8,43173.05,43142.1,43117.35,43056.44,43000.0,42900.0,42989.25,42880.0,42881.4,42973.26,43040.76,43000.0,42923.1,42928.51,42934.11,43049.1,43131.06,43414.8,43436.19,43468.93,43445.87,43516.77,43558.8,43561.1,43546.39,43554.71,43544.05,43566.53,43694.6,43643.64,43680.92,43630.3,43613.61,43592.7,43591.61,43554.8,43562.04,43564.57,43681.0,43804.81,43828.0,43823.54,43854.0,43890.0,43836.03,43768.91,43852.0,43878.8,43874.37,43900.68,43835.38,43846.0,43829.16,43854.97,43827.05,43806.7,43777.9,43765.29,43782.5,43769.74,43791.37,43763.89,43761.9,43751.12,43750.4,43733.3,43726.6,43706.38,43689.56,43700.0,43702.99,43729.46,43699.0,43700.0,43625.07,43630.64,43647.27,43657.91,43662.2,43672.6,43691.48,43703.8,43719.15,43749.6,43652.86,43534.74,43427.28,43414.33,43327.29,43348.06,43351.15,43280.0,43284.12,43283.74,43240.01,43261.26,43217.6,43207.55,43268.05,43278.42,43272.19,43287.88,43350.2,43387.95,43487.66,43527.56,43600.0,43538.26,43426.2,43431.57,43436.46,43476.65,43525.5,43585.4,43647.65,43676.9,43702.98,43709.75,43706.19,43683.73,43669.67,43638.92,43631.17,43662.11,43729.9,43730.0,43732.41,43725.22,43739.3,43722.3,43717.71,43686.54,43695.18,43733.8,43729.06,43730.17,43705.92,43691.2,43665.84,43657.79,43663.42,43658.2,43663.48,43669.1,43669.1,43659.05,43669.2,43677.4,43718.9,43742.1,43754.67,43790.01,43750.89,43672.6,43669.13,43683.08,43689.3,43641.65,43584.69,43583.4,43608.15,43522.0,43504.1,43464.86,43462.56,43499.99,43548.51,43538.67,43534.0,43616.54,43521.92,43514.09,43593.43,43644.1,43682.67,43688.1,43712.74,43701.41,43700.0,43665.29,43678.37,43718.44,43758.4,43763.01,43772.0,43772.75,43741.3,43760.3,43788.96,43788.53,43780.41,43816.96,43762.7,43742.7,43750.0,43759.23,43766.7,43757.17,43782.18,43795.58,43823.74,43842.5,43875.72,43866.3,43847.0,43835.66,43850.16,43832.56,43813.11,43746.0,43687.0,43650.01,43627.29,43600.0,43499.99,43350.4,43295.74,43278.42,43221.04,43003.84,43067.0,43172.38,43172.0,43220.67,43261.3,43333.51,43283.1,43335.64,43441.56,43428.8,43172.9,43133.08,43209.9,43218.81,43062.9,43050.9,43019.49,42930.14,42967.33,42969.79,43106.01,43026.47,43092.88,43064.36,43058.56,43007.67,42898.8,42900.0,42801.0,42795.45,42659.29112887,42660.05,42651.4,42672.8,42640.0,42575.0,42579.4,42515.09,42548.09,42626.61,42660.7,42743.68,42688.55,42731.17,42600.0,42607.5,42690.84,42690.75,42694.37,42636.76,42630.17,42662.27,42742.36,42713.48,42713.48,42852.07,42899.1,42907.18,42929.74,42953.1,42958.06,42878.26,42840.16,42797.2,42818.1,42961.64],\"open\":[43795.58285729,43789.09142857143,43788.650000000016,43841.212857142855,43773.90571428571,43824.80857142858,43824.21142857144,43832.94857142858,43821.99428571429,43827.18142857143,43775.11714285715,43714.883145837135,43711.86142857144,43703.30285714286,43718.722857142864,43685.24857142857,43693.107142857145,43731.6275,43901.36624999999,43854.46428571428,43827.85285714286,43758.77142857143,43736.23237400715,43690.74714285714,43713.98142857143,43766.34476539714,43758.625714285714,43748.20170121857,43782.80142857142,43648.41428571429,43584.40499445376,43745.93714285714,43771.322857142855,43800.16569397714,43813.902857142864,43866.55285714287,43826.99109449857,43769.88857142856,43813.33,43744.215,43840.59,43812.472857142864,43853.01265498142,43886.60571428571,43905.81142857143,43964.12428571428,43982.25003238429,44052.184265094285,44011.0725,44016.88285714285,44077.65714285714,44073.9073319875,44047.95124999999,44024.36285714285,44063.77045047429,44032.678571428565,44066.21509176428,44067.82428571429,44027.724285714285,44067.224285714285,44047.66285714285,44061.17714285715,44019.97714285714,43993.32285714285,44012.84571428572,43960.11571428571,43951.80937892286,43934.91,43942.41465447571,43928.618571428575,43889.56243579571,43877.31571428572,43842.62714285714,43868.24714285714,43873.79428571429,43856.68571428572,43885.258571428574,43847.30142857142,43851.64571428572,43853.960000000014,43903.49326939572,43931.555139265714,43929.82142857143,43860.944285714286,43896.967142857146,43873.59142857143,43812.938571428575,43792.72875,43764.40857142857,43771.244119301424,43763.82142857143,43770.84408691286,43786.34941403714,43772.538711532856,43753.27469178,43751.47714285715,43769.96641481375,43838.710000000014,43825.885,43844.54428571429,43885.00939432572,43904.24000000001,43906.88142857143,43874.024285714295,43884.92285714285,43938.22714285715,43959.43857142857,43980.77428571428,43986.25625,43985.53142857144,43899.32571428572,43899.36190759143,43880.52,43868.990388007136,43879.60857142857,43930.80714285715,43976.11428571429,43967.29749999999,44024.69125,44133.82088796143,44105.41142857144,44059.9425,44147.93559987625,44118.01857142856,44099.16428571428,44079.32285714285,44041.7,44048.11142857144,44049.368571428575,44057.33571428571,44039.30285714285,44053.10047621428,44045.48,44067.468571428566,44129.84428571429,44087.53428571428,44076.68625,44076.19052630285,44057.53294487143,44056.8275,44069.87016679285,44008.76285714287,44068.50142857144,44027.54428571429,44004.36539671144,43991.38428571429,43956.822857142855,43961.372087442505,43961.166483195,43925.140000000014,43914.95285714285,43909.53571428572,43910.374285714286,43905.92142857143,43893.49,43904.04571428573,43895.03142857144,43889.32314389857,43927.60562658857,43884.07857142857,43881.612857142856,43815.47375000001,43760.70999999999,43701.411428571424,43625.23,43625.35428571428,43609.14571428571,43658.76625,43605.40875,43588.23374751,43608.535714285696,43612.59571428572,43609.09176878875,43601.74,43478.18142857143,43460.4175,43362.32375,43262.03722034428,43328.1575,43380.14,43434.150000000016,43429.26142857143,43443.94142857143,43462.098634842856,43444.57857142857,43438.23142857143,43502.66,43528.075,43551.10262890625,43553.79571428571,43572.93,43582.30857142857,43564.13571428572,43458.06294015428,43411.57857142857,43354.35428571429,43321.222857142864,43386.24000000001,43330.62142857142,43405.20689180856,43470.24542569714,43495.27285714286,43412.779999999984,43383.19437955857,43356.56856312,43365.69571428571,43239.22303058143,43287.13428571429,43261.77571428572,43187.20428571429,43328.03999999999,43418.5825,43280.94449847125,43170.15,43211.2225,43215.31857142857,43185.468571428566,43147.875714285714,43096.15375,43007.32,43046.4225,43009.2040485275,42928.61125,42995.812500000015,43104.05714285715,43046.90714285715,43012.13833620857,42943.17428571428,42969.25999205571,43064.67520109143,43157.85708447373,43486.91571428572,43485.720000000016,43510.50571428571,43519.22714285715,43571.73375,43610.26125,43624.29142857143,43607.775,43563.15958554,43585.41571428572,43589.09625,43735.0575,43795.117500000015,43689.48428571429,43737.12125,43674.53375,43629.48142857143,43629.39571428572,43614.17428571429,43581.43142857143,43581.2925,43706.80125,43842.37571428572,43859.45109554875,43895.29375,43893.38714285714,43931.2,43897.91857142856,43849.1877638325,43878.171368215,43930.25285714285,43924.72,43914.81428571429,43910.0825,43871.6275,43893.468571428566,43885.85857142857,43871.18428571429,43868.80428571429,43863.88571428572,43790.59857142857,43830.322857142855,43793.908571428576,43808.07857142857,43813.08,43782.97875,43782.64841422,43763.96,43776.874285714286,43748.22343785857,43739.77448567429,43728.34285714286,43723.34285714285,43718.93350209143,43757.05759537858,43741.107142857145,43710.66115756857,43724.97321297572,43661.4125,43672.39843332429,43673.22142857144,43686.31285714286,43683.87,43699.45428571429,43725.58,43744.49441664,43764.55857142858,43771.15142857143,43682.167142857135,43558.39375,43449.81857142858,43427.0823097625,43362.572857142855,43419.8325,43368.71625,43393.847142857136,43329.654285714285,43335.71432474571,43275.938571428575,43301.834285714285,43232.93714285714,43297.98428571429,43336.64,43333.63142857143,43314.74000000001,43364.94875,43408.08714285715,43504.69050787143,43563.5475,43734.17517274572,43622.09142833857,43556.59375,43455.175,43574.825,43520.28,43576.7775,43622.23555296,43692.88857142858,43693.87714285714,43746.07428571429,43732.60428571428,43769.21714285714,43713.06428571429,43696.00375,43671.81428571429,43658.32428571429,43678.86,43747.11558816286,43763.66857142857,43801.88285714287,43743.70142857143,43760.135,43757.962857142855,43746.89571428572,43752.36571428572,43706.63459625,43754.938571428575,43751.42502128715,43747.71428571428,43741.16142857143,43718.720000000016,43697.06571428572,43678.72571428572,43687.59428571429,43674.66142857143,43674.23,43699.485714285714,43693.75714285714,43686.042857142864,43680.84285714286,43703.04380334572,43737.424990827145,43748.792857142864,43764.222193155,43867.28649138286,43796.17000235,43764.80711541429,43683.29195864715,43694.014285714286,43724.80857142858,43734.218571428566,43648.50714285714,43595.79378934143,43622.90857142857,43635.26571428571,43561.49245584857,43540.261460078575,43481.81571428572,43514.376468365714,43617.79142857143,43571.87298438429,43552.88571428572,43628.438571428575,43627.27428571428,43537.74857142858,43605.25142857143,43650.830000000016,43700.829614364295,43709.82420531143,43729.398571428566,43758.39428571429,43711.38000000001,43711.45285714285,43709.3575,43745.652857142864,43771.43571428571,43811.9775,43826.62833333333,43809.957142857136,43813.72,43780.97162221715,43805.69142857142,43832.400000000016,43801.23428571429,43846.09142857143,43828.874285714286,43786.38571428572,43771.014285714286,43774.80714285715,43798.41857142857,43794.84032981571,43807.66285714285,43807.34428571429,43836.9875,43872.08714285714,43900.88857142856,43901.008571428574,43890.30857142857,43858.474285714285,43893.88166666668,43866.00571428572,43843.235714285714,43821.555714285714,43752.37,43704.62857142857,43671.72,43644.06142857143,43610.07408044428,43504.71428571428,43365.91375,43313.70812588,43296.055714285714,43239.0175,43092.85375,43251.94250000001,43264.50125,43307.44571428571,43296.88375,43341.862857142856,43353.12,43365.74875000001,43477.0875,43588.102500000015,43447.60285714286,43205.55625,43234.95285714286,43267.83,43229.50125,43106.66925542,43064.47714285714,43054.81000000001,43002.9225,42998.535,43227.1275,43122.16,43192.76624999999,43106.25997366144,43159.91625,43085.22049047715,43049.56714285714,42972.15714285714,42979.09125000001,42873.23000000002,42815.11375,42707.930000000015,42766.4325,42775.73125,42694.57285714285,42675.71750000001,42599.647142857146,42620.29375,42577.715,42683.24375,42673.72571428572,42768.39625000001,42819.91125,42750.58285714287,42760.10875,42632.465,42718.815,42772.92125,42762.29,42703.80250000001,42655.528483642855,42688.935,42790.287142857145,42792.855714285724,42745.15375,42896.17428571428,42937.78428571428,42933.25490686,42974.10869267286,42971.347142857136,42982.91571428572,42983.779999999984,42904.19714285714,42859.38571428572,42839.01280218857,43009.96125],\"x\":[1632152460,1632152520,1632152580,1632152640,1632152700,1632152760,1632152820,1632152880,1632152940,1632153000,1632153060,1632153120,1632153180,1632153240,1632153300,1632153360,1632153420,1632153480,1632153540,1632153600,1632153660,1632153720,1632153780,1632153840,1632153900,1632153960,1632154020,1632154080,1632154140,1632154200,1632154260,1632154320,1632154380,1632154440,1632154500,1632154560,1632154620,1632154680,1632154740,1632154800,1632154860,1632154920,1632154980,1632155040,1632155100,1632155160,1632155220,1632155280,1632155340,1632155400,1632155460,1632155520,1632155580,1632155640,1632155700,1632155760,1632155820,1632155880,1632155940,1632156000,1632156060,1632156120,1632156180,1632156240,1632156300,1632156360,1632156420,1632156480,1632156540,1632156600,1632156660,1632156720,1632156780,1632156840,1632156900,1632156960,1632157020,1632157080,1632157140,1632157200,1632157260,1632157320,1632157380,1632157440,1632157500,1632157560,1632157620,1632157680,1632157740,1632157800,1632157860,1632157920,1632157980,1632158040,1632158100,1632158160,1632158220,1632158280,1632158340,1632158400,1632158460,1632158520,1632158580,1632158640,1632158700,1632158760,1632158820,1632158880,1632158940,1632159000,1632159060,1632159120,1632159180,1632159240,1632159300,1632159360,1632159420,1632159480,1632159540,1632159600,1632159660,1632159720,1632159780,1632159840,1632159900,1632159960,1632160020,1632160080,1632160140,1632160200,1632160260,1632160320,1632160380,1632160440,1632160500,1632160560,1632160620,1632160680,1632160740,1632160800,1632160860,1632160920,1632160980,1632161040,1632161100,1632161160,1632161220,1632161280,1632161340,1632161400,1632161460,1632161520,1632161580,1632161640,1632161700,1632161760,1632161820,1632161880,1632161940,1632162000,1632162060,1632162120,1632162180,1632162240,1632162300,1632162360,1632162420,1632162480,1632162540,1632162600,1632162660,1632162720,1632162780,1632162840,1632162900,1632162960,1632163020,1632163080,1632163140,1632163200,1632163260,1632163320,1632163380,1632163440,1632163500,1632163560,1632163620,1632163680,1632163740,1632163800,1632163860,1632163920,1632163980,1632164040,1632164100,1632164160,1632164220,1632164280,1632164340,1632164400,1632164460,1632164520,1632164580,1632164640,1632164700,1632164760,1632164820,1632164880,1632164940,1632165000,1632165060,1632165120,1632165180,1632165240,1632165300,1632165360,1632165420,1632165480,1632165540,1632165600,1632165660,1632165720,1632165780,1632165840,1632165900,1632165960,1632166020,1632166080,1632166140,1632166200,1632166260,1632166320,1632166380,1632166440,1632166500,1632166560,1632166620,1632166680,1632166740,1632166800,1632166860,1632166920,1632166980,1632167040,1632167100,1632167160,1632167220,1632167280,1632167340,1632167400,1632167460,1632167520,1632167580,1632167640,1632167700,1632167760,1632167820,1632167880,1632167940,1632168000,1632168060,1632168120,1632168180,1632168240,1632168300,1632168360,1632168420,1632168480,1632168540,1632168600,1632168660,1632168720,1632168780,1632168840,1632168900,1632168960,1632169020,1632169080,1632169140,1632169200,1632169260,1632169320,1632169380,1632169440,1632169500,1632169560,1632169620,1632169680,1632169740,1632169800,1632169860,1632169920,1632169980,1632170040,1632170100,1632170160,1632170220,1632170280,1632170340,1632170400,1632170460,1632170520,1632170580,1632170640,1632170700,1632170760,1632170820,1632170880,1632170940,1632171000,1632171060,1632171120,1632171180,1632171240,1632171300,1632171360,1632171420,1632171480,1632171540,1632171600,1632171660,1632171720,1632171780,1632171840,1632171900,1632171960,1632172020,1632172080,1632172140,1632172200,1632172260,1632172320,1632172380,1632172440,1632172500,1632172560,1632172620,1632172680,1632172740,1632172800,1632172860,1632172920,1632172980,1632173040,1632173100,1632173160,1632173220,1632173280,1632173340,1632173400,1632173460,1632173520,1632173580,1632173640,1632173700,1632173760,1632173820,1632173880,1632173940,1632174000,1632174060,1632174120,1632174180,1632174240,1632174300,1632174360,1632174420,1632174480,1632174540,1632174600,1632174660,1632174720,1632174780,1632174840,1632174900,1632174960,1632175020,1632175080,1632175140,1632175200,1632175260,1632175320,1632175380,1632175440,1632175500,1632175560,1632175620,1632175680,1632175740,1632175800,1632175860,1632175920,1632175980,1632176040,1632176100,1632176160,1632176220,1632176280,1632176340,1632176400,1632176460,1632176520,1632176580,1632176640,1632176700,1632176760,1632176820,1632176880,1632176940,1632177000,1632177060,1632177120,1632177180,1632177240,1632177300,1632177360,1632177420,1632177480,1632177540,1632177600,1632177660,1632177720,1632177780,1632177840,1632177900,1632177960,1632178020,1632178080,1632178140,1632178200,1632178260,1632178320,1632178380,1632178440,1632178500,1632178560,1632178620,1632178680,1632178740,1632178800,1632178860,1632178920,1632178980,1632179040,1632179100,1632179160,1632179220,1632179280,1632179340,1632179400,1632179460,1632179520,1632179580,1632179640,1632179700,1632179760,1632179820,1632179880,1632179940,1632180000,1632180060,1632180120,1632180180,1632180240,1632180300,1632180360,1632180420,1632180480,1632180540,1632180600,1632180660,1632180720,1632180780,1632180840,1632180900,1632180960,1632181020,1632181080,1632181140,1632181200,1632181260,1632181320,1632181380,1632181440,1632181500,1632181560,1632181620,1632181680,1632181740,1632181800,1632181860,1632181920,1632181980,1632182040,1632182100,1632182160,1632182220,1632182280,1632182340,1632182400],\"type\":\"candlestick\"}],                        {\"template\":{\"data\":{\"bar\":[{\"error_x\":{\"color\":\"#2a3f5f\"},\"error_y\":{\"color\":\"#2a3f5f\"},\"marker\":{\"line\":{\"color\":\"#E5ECF6\",\"width\":0.5},\"pattern\":{\"fillmode\":\"overlay\",\"size\":10,\"solidity\":0.2}},\"type\":\"bar\"}],\"barpolar\":[{\"marker\":{\"line\":{\"color\":\"#E5ECF6\",\"width\":0.5},\"pattern\":{\"fillmode\":\"overlay\",\"size\":10,\"solidity\":0.2}},\"type\":\"barpolar\"}],\"carpet\":[{\"aaxis\":{\"endlinecolor\":\"#2a3f5f\",\"gridcolor\":\"white\",\"linecolor\":\"white\",\"minorgridcolor\":\"white\",\"startlinecolor\":\"#2a3f5f\"},\"baxis\":{\"endlinecolor\":\"#2a3f5f\",\"gridcolor\":\"white\",\"linecolor\":\"white\",\"minorgridcolor\":\"white\",\"startlinecolor\":\"#2a3f5f\"},\"type\":\"carpet\"}],\"choropleth\":[{\"colorbar\":{\"outlinewidth\":0,\"ticks\":\"\"},\"type\":\"choropleth\"}],\"contour\":[{\"colorbar\":{\"outlinewidth\":0,\"ticks\":\"\"},\"colorscale\":[[0.0,\"#0d0887\"],[0.1111111111111111,\"#46039f\"],[0.2222222222222222,\"#7201a8\"],[0.3333333333333333,\"#9c179e\"],[0.4444444444444444,\"#bd3786\"],[0.5555555555555556,\"#d8576b\"],[0.6666666666666666,\"#ed7953\"],[0.7777777777777778,\"#fb9f3a\"],[0.8888888888888888,\"#fdca26\"],[1.0,\"#f0f921\"]],\"type\":\"contour\"}],\"contourcarpet\":[{\"colorbar\":{\"outlinewidth\":0,\"ticks\":\"\"},\"type\":\"contourcarpet\"}],\"heatmap\":[{\"colorbar\":{\"outlinewidth\":0,\"ticks\":\"\"},\"colorscale\":[[0.0,\"#0d0887\"],[0.1111111111111111,\"#46039f\"],[0.2222222222222222,\"#7201a8\"],[0.3333333333333333,\"#9c179e\"],[0.4444444444444444,\"#bd3786\"],[0.5555555555555556,\"#d8576b\"],[0.6666666666666666,\"#ed7953\"],[0.7777777777777778,\"#fb9f3a\"],[0.8888888888888888,\"#fdca26\"],[1.0,\"#f0f921\"]],\"type\":\"heatmap\"}],\"heatmapgl\":[{\"colorbar\":{\"outlinewidth\":0,\"ticks\":\"\"},\"colorscale\":[[0.0,\"#0d0887\"],[0.1111111111111111,\"#46039f\"],[0.2222222222222222,\"#7201a8\"],[0.3333333333333333,\"#9c179e\"],[0.4444444444444444,\"#bd3786\"],[0.5555555555555556,\"#d8576b\"],[0.6666666666666666,\"#ed7953\"],[0.7777777777777778,\"#fb9f3a\"],[0.8888888888888888,\"#fdca26\"],[1.0,\"#f0f921\"]],\"type\":\"heatmapgl\"}],\"histogram\":[{\"marker\":{\"pattern\":{\"fillmode\":\"overlay\",\"size\":10,\"solidity\":0.2}},\"type\":\"histogram\"}],\"histogram2d\":[{\"colorbar\":{\"outlinewidth\":0,\"ticks\":\"\"},\"colorscale\":[[0.0,\"#0d0887\"],[0.1111111111111111,\"#46039f\"],[0.2222222222222222,\"#7201a8\"],[0.3333333333333333,\"#9c179e\"],[0.4444444444444444,\"#bd3786\"],[0.5555555555555556,\"#d8576b\"],[0.6666666666666666,\"#ed7953\"],[0.7777777777777778,\"#fb9f3a\"],[0.8888888888888888,\"#fdca26\"],[1.0,\"#f0f921\"]],\"type\":\"histogram2d\"}],\"histogram2dcontour\":[{\"colorbar\":{\"outlinewidth\":0,\"ticks\":\"\"},\"colorscale\":[[0.0,\"#0d0887\"],[0.1111111111111111,\"#46039f\"],[0.2222222222222222,\"#7201a8\"],[0.3333333333333333,\"#9c179e\"],[0.4444444444444444,\"#bd3786\"],[0.5555555555555556,\"#d8576b\"],[0.6666666666666666,\"#ed7953\"],[0.7777777777777778,\"#fb9f3a\"],[0.8888888888888888,\"#fdca26\"],[1.0,\"#f0f921\"]],\"type\":\"histogram2dcontour\"}],\"mesh3d\":[{\"colorbar\":{\"outlinewidth\":0,\"ticks\":\"\"},\"type\":\"mesh3d\"}],\"parcoords\":[{\"line\":{\"colorbar\":{\"outlinewidth\":0,\"ticks\":\"\"}},\"type\":\"parcoords\"}],\"pie\":[{\"automargin\":true,\"type\":\"pie\"}],\"scatter\":[{\"marker\":{\"colorbar\":{\"outlinewidth\":0,\"ticks\":\"\"}},\"type\":\"scatter\"}],\"scatter3d\":[{\"line\":{\"colorbar\":{\"outlinewidth\":0,\"ticks\":\"\"}},\"marker\":{\"colorbar\":{\"outlinewidth\":0,\"ticks\":\"\"}},\"type\":\"scatter3d\"}],\"scattercarpet\":[{\"marker\":{\"colorbar\":{\"outlinewidth\":0,\"ticks\":\"\"}},\"type\":\"scattercarpet\"}],\"scattergeo\":[{\"marker\":{\"colorbar\":{\"outlinewidth\":0,\"ticks\":\"\"}},\"type\":\"scattergeo\"}],\"scattergl\":[{\"marker\":{\"colorbar\":{\"outlinewidth\":0,\"ticks\":\"\"}},\"type\":\"scattergl\"}],\"scattermapbox\":[{\"marker\":{\"colorbar\":{\"outlinewidth\":0,\"ticks\":\"\"}},\"type\":\"scattermapbox\"}],\"scatterpolar\":[{\"marker\":{\"colorbar\":{\"outlinewidth\":0,\"ticks\":\"\"}},\"type\":\"scatterpolar\"}],\"scatterpolargl\":[{\"marker\":{\"colorbar\":{\"outlinewidth\":0,\"ticks\":\"\"}},\"type\":\"scatterpolargl\"}],\"scatterternary\":[{\"marker\":{\"colorbar\":{\"outlinewidth\":0,\"ticks\":\"\"}},\"type\":\"scatterternary\"}],\"surface\":[{\"colorbar\":{\"outlinewidth\":0,\"ticks\":\"\"},\"colorscale\":[[0.0,\"#0d0887\"],[0.1111111111111111,\"#46039f\"],[0.2222222222222222,\"#7201a8\"],[0.3333333333333333,\"#9c179e\"],[0.4444444444444444,\"#bd3786\"],[0.5555555555555556,\"#d8576b\"],[0.6666666666666666,\"#ed7953\"],[0.7777777777777778,\"#fb9f3a\"],[0.8888888888888888,\"#fdca26\"],[1.0,\"#f0f921\"]],\"type\":\"surface\"}],\"table\":[{\"cells\":{\"fill\":{\"color\":\"#EBF0F8\"},\"line\":{\"color\":\"white\"}},\"header\":{\"fill\":{\"color\":\"#C8D4E3\"},\"line\":{\"color\":\"white\"}},\"type\":\"table\"}]},\"layout\":{\"annotationdefaults\":{\"arrowcolor\":\"#2a3f5f\",\"arrowhead\":0,\"arrowwidth\":1},\"autotypenumbers\":\"strict\",\"coloraxis\":{\"colorbar\":{\"outlinewidth\":0,\"ticks\":\"\"}},\"colorscale\":{\"diverging\":[[0,\"#8e0152\"],[0.1,\"#c51b7d\"],[0.2,\"#de77ae\"],[0.3,\"#f1b6da\"],[0.4,\"#fde0ef\"],[0.5,\"#f7f7f7\"],[0.6,\"#e6f5d0\"],[0.7,\"#b8e186\"],[0.8,\"#7fbc41\"],[0.9,\"#4d9221\"],[1,\"#276419\"]],\"sequential\":[[0.0,\"#0d0887\"],[0.1111111111111111,\"#46039f\"],[0.2222222222222222,\"#7201a8\"],[0.3333333333333333,\"#9c179e\"],[0.4444444444444444,\"#bd3786\"],[0.5555555555555556,\"#d8576b\"],[0.6666666666666666,\"#ed7953\"],[0.7777777777777778,\"#fb9f3a\"],[0.8888888888888888,\"#fdca26\"],[1.0,\"#f0f921\"]],\"sequentialminus\":[[0.0,\"#0d0887\"],[0.1111111111111111,\"#46039f\"],[0.2222222222222222,\"#7201a8\"],[0.3333333333333333,\"#9c179e\"],[0.4444444444444444,\"#bd3786\"],[0.5555555555555556,\"#d8576b\"],[0.6666666666666666,\"#ed7953\"],[0.7777777777777778,\"#fb9f3a\"],[0.8888888888888888,\"#fdca26\"],[1.0,\"#f0f921\"]]},\"colorway\":[\"#636efa\",\"#EF553B\",\"#00cc96\",\"#ab63fa\",\"#FFA15A\",\"#19d3f3\",\"#FF6692\",\"#B6E880\",\"#FF97FF\",\"#FECB52\"],\"font\":{\"color\":\"#2a3f5f\"},\"geo\":{\"bgcolor\":\"white\",\"lakecolor\":\"white\",\"landcolor\":\"#E5ECF6\",\"showlakes\":true,\"showland\":true,\"subunitcolor\":\"white\"},\"hoverlabel\":{\"align\":\"left\"},\"hovermode\":\"closest\",\"mapbox\":{\"style\":\"light\"},\"paper_bgcolor\":\"white\",\"plot_bgcolor\":\"#E5ECF6\",\"polar\":{\"angularaxis\":{\"gridcolor\":\"white\",\"linecolor\":\"white\",\"ticks\":\"\"},\"bgcolor\":\"#E5ECF6\",\"radialaxis\":{\"gridcolor\":\"white\",\"linecolor\":\"white\",\"ticks\":\"\"}},\"scene\":{\"xaxis\":{\"backgroundcolor\":\"#E5ECF6\",\"gridcolor\":\"white\",\"gridwidth\":2,\"linecolor\":\"white\",\"showbackground\":true,\"ticks\":\"\",\"zerolinecolor\":\"white\"},\"yaxis\":{\"backgroundcolor\":\"#E5ECF6\",\"gridcolor\":\"white\",\"gridwidth\":2,\"linecolor\":\"white\",\"showbackground\":true,\"ticks\":\"\",\"zerolinecolor\":\"white\"},\"zaxis\":{\"backgroundcolor\":\"#E5ECF6\",\"gridcolor\":\"white\",\"gridwidth\":2,\"linecolor\":\"white\",\"showbackground\":true,\"ticks\":\"\",\"zerolinecolor\":\"white\"}},\"shapedefaults\":{\"line\":{\"color\":\"#2a3f5f\"}},\"ternary\":{\"aaxis\":{\"gridcolor\":\"white\",\"linecolor\":\"white\",\"ticks\":\"\"},\"baxis\":{\"gridcolor\":\"white\",\"linecolor\":\"white\",\"ticks\":\"\"},\"bgcolor\":\"#E5ECF6\",\"caxis\":{\"gridcolor\":\"white\",\"linecolor\":\"white\",\"ticks\":\"\"}},\"title\":{\"x\":0.05},\"xaxis\":{\"automargin\":true,\"gridcolor\":\"white\",\"linecolor\":\"white\",\"ticks\":\"\",\"title\":{\"standoff\":15},\"zerolinecolor\":\"white\",\"zerolinewidth\":2},\"yaxis\":{\"automargin\":true,\"gridcolor\":\"white\",\"linecolor\":\"white\",\"ticks\":\"\",\"title\":{\"standoff\":15},\"zerolinecolor\":\"white\",\"zerolinewidth\":2}}}},                        {\"responsive\": true}                    ).then(function(){\n",
              "                            \n",
              "var gd = document.getElementById('c007f4c8-1ff2-41ae-ab81-9be1ce098105');\n",
              "var x = new MutationObserver(function (mutations, observer) {{\n",
              "        var display = window.getComputedStyle(gd).display;\n",
              "        if (!display || display === 'none') {{\n",
              "            console.log([gd, 'removed!']);\n",
              "            Plotly.purge(gd);\n",
              "            observer.disconnect();\n",
              "        }}\n",
              "}});\n",
              "\n",
              "// Listen for the removal of the full notebook cells\n",
              "var notebookContainer = gd.closest('#notebook-container');\n",
              "if (notebookContainer) {{\n",
              "    x.observe(notebookContainer, {childList: true});\n",
              "}}\n",
              "\n",
              "// Listen for the clearing of the current output cell\n",
              "var outputEl = gd.closest('.output');\n",
              "if (outputEl) {{\n",
              "    x.observe(outputEl, {childList: true});\n",
              "}}\n",
              "\n",
              "                        })                };                            </script>        </div>\n",
              "</body>\n",
              "</html>"
            ]
          },
          "metadata": {}
        }
      ]
    },
    {
      "cell_type": "code",
      "source": [
        "#Let's have a look at another crypto - ETHEREUM\n",
        "eth = data[data['Asset_ID'] == 1].set_index(\"timestamp\")\n",
        "eth_range = eth.iloc[-500:]  # Since we cannot plot the entire btc, so selecting the latest 500 points.\n",
        "\n",
        "\n",
        "fig = go.Figure(data=[go.Candlestick(x=eth_range.index, \n",
        "                                     open=eth_range['Open'], \n",
        "                                     high=eth_range['High'], \n",
        "                                     low=eth_range['Low'], \n",
        "                                     close=eth_range['Close'])])\n",
        "fig.show()"
      ],
      "metadata": {
        "colab": {
          "base_uri": "https://localhost:8080/",
          "height": 542
        },
        "id": "PMMy5GGAF-bL",
        "outputId": "5283d675-a223-4464-e145-f3f91704e8be"
      },
      "execution_count": null,
      "outputs": [
        {
          "output_type": "display_data",
          "data": {
            "text/html": [
              "<html>\n",
              "<head><meta charset=\"utf-8\" /></head>\n",
              "<body>\n",
              "    <div>            <script src=\"https://cdnjs.cloudflare.com/ajax/libs/mathjax/2.7.5/MathJax.js?config=TeX-AMS-MML_SVG\"></script><script type=\"text/javascript\">if (window.MathJax) {MathJax.Hub.Config({SVG: {font: \"STIX-Web\"}});}</script>                <script type=\"text/javascript\">window.PlotlyConfig = {MathJaxConfig: 'local'};</script>\n",
              "        <script src=\"https://cdn.plot.ly/plotly-2.8.3.min.js\"></script>                <div id=\"891386e0-b634-4dff-8619-0aa5dcef5387\" class=\"plotly-graph-div\" style=\"height:525px; width:100%;\"></div>            <script type=\"text/javascript\">                                    window.PLOTLYENV=window.PLOTLYENV || {};                                    if (document.getElementById(\"891386e0-b634-4dff-8619-0aa5dcef5387\")) {                    Plotly.newPlot(                        \"891386e0-b634-4dff-8619-0aa5dcef5387\",                        [{\"close\":[43788.52308709428,43795.514285714286,43844.01285714285,43776.19571428571,43825.92,43828.31714285714,43829.038571428566,43819.25428571428,43825.417142857135,43771.51,43718.76142857142,43710.93571428571,43706.84857142857,43714.93428571429,43684.05714285715,43694.38,43735.974285714285,43872.898750000015,43862.1425,43828.56072212428,43761.61714285715,43731.607142857145,43692.74571428571,43717.98857142858,43764.47714285715,43760.95857142857,43747.985714285714,43786.83571428571,43650.36714285715,43576.22427937571,43726.5925,43770.14428812287,43799.77571428572,43810.60997741857,43867.33142857143,43833.12374697571,43773.42142857142,43817.43571428572,43743.64571428572,43832.59,43814.50571428571,43852.38571428572,43886.72300850715,43903.624285714286,43966.82142857144,43979.99285714286,44047.45571428572,44014.005714285726,44019.415,44080.05285714286,44070.57142857144,44050.7375,44022.2475,44060.75285714285,44034.61428571429,44066.538571428566,44069.055714285714,44029.72857142856,44067.485714285714,44048.50428571429,44061.69571428571,44020.29857142857,43995.25285714286,44017.39000000001,43962.43142857143,43952.02142857143,43936.777142857136,43942.45465447572,43929.35857142857,43888.95571428572,43878.31571428572,43837.374285714286,43870.584285714285,43876.81285714286,43856.88857142856,43884.47571428572,43846.694285714286,43850.217142857146,43853.96142857144,43903.05142857142,43933.584285714285,43925.357142857145,43867.31599538429,43895.66285714286,43877.42999999999,43814.83571428572,43799.20142857143,43763.92875,43775.77428571428,43760.94142857143,43768.99142857143,43784.962857142855,43772.43285714286,43756.528178482855,43753.392857142855,43771.17571428571,43836.02625,43824.57,43841.84313222001,43883.71939432572,43901.397142857146,43910.04571428571,43877.09142857143,43882.347142857136,43939.39,43959.33317106428,43983.03999999999,43988.857142857145,43987.10875,43898.815025675714,43896.292857142864,43880.53226309428,43868.402857142864,43879.97142857143,43931.49857142857,43976.394812732855,43970.35571428571,44020.88874999999,44129.2075,44107.03428571428,44046.71714285714,44158.0660529025,44119.96,44103.404285714285,44085.555714285714,44039.49714285715,44040.59142857144,44053.66714285715,44053.26142857144,44038.36285714285,44050.79857142857,44042.871428571416,44071.02125,44136.272721934285,44087.058709245706,44081.32428571428,44075.9125,44058.48142857144,44055.08571428571,44074.30556436499,44001.75296752144,44066.24142857143,44034.928571428565,44004.0117661043,43995.07142857144,43948.74120796142,43972.00714285715,43955.68125,43924.0725,43912.1,43908.69571428571,43910.81714285714,43907.60999999999,43892.17,43907.147142857146,43897.822857142855,43887.49142857143,43936.31714285714,43887.57857142857,43883.78000000001,43816.68714285714,43764.58499999999,43705.529999999984,43615.78519134,43631.3825,43608.51857142857,43657.15142857143,43616.29875,43592.74999999999,43607.779999999984,43613.294807325714,43617.95142857143,43607.26461277252,43476.775,43468.55,43358.5125,43260.43875,43338.33857142857,43387.5,43430.76125,43425.04571428573,43444.13142857143,43462.86857142857,43438.15142857143,43434.11714285715,43501.97714285714,43532.21630312999,43547.94125,43550.975,43572.80857142858,43583.987142857135,43570.85039915428,43453.79571428571,43412.99571428571,43356.83,43316.38428571429,43378.10428571428,43327.55714285715,43402.377142857134,43469.32857142857,43496.44324048428,43411.79554926144,43389.18714285714,43351.12285714286,43367.725714285705,43246.20285714286,43287.80428571429,43259.50285714286,43182.72714285715,43332.12237411285,43428.04,43279.78625000001,43152.395,43201.0325,43219.78625,43191.09285714285,43144.77571428572,43102.57714285714,43016.79875,43038.5875,43017.88625,42924.27875,42989.867500000015,43104.23,43064.03278645572,43015.39428571429,42943.09142857143,42972.01857142857,43064.57142857143,43160.67285714286,43473.7075,43488.3,43516.6025,43525.70857142857,43572.76714285714,43615.64375,43624.02487568,43597.24857142857,43569.21875,43586.88857142856,43580.31285714286,43712.58875000002,43813.67375,43688.851250000014,43754.548571428575,43682.015000000014,43637.7,43629.56714285714,43606.30142857142,43581.91571428572,43578.70428571429,43699.40625,43841.88500000002,43860.98,43906.19445371875,43894.241250000014,43920.58285714285,43904.57857142857,43861.21571428572,43871.135,43935.1742648,43909.92285714286,43907.97714285715,43921.57571428571,43870.96875,43898.26867075625,43874.34142857143,43870.84571428572,43869.898571428566,43857.86714285715,43790.63714285714,43823.41857142858,43800.722857142864,43804.91571428572,43825.08036451143,43783.38000000001,43785.446250000015,43761.25285714286,43779.69285714287,43750.83602162143,43741.25714285715,43729.68,43719.648571428566,43710.88285714285,43751.097142857136,43741.67714285715,43709.96115756857,43723.27142857143,43647.66142857143,43685.0875,43666.62285714286,43688.77942172,43684.07022895857,43697.28428571428,43725.01142857143,43745.28999999999,43763.855714285724,43775.26857142857,43682.67857142857,43578.98218626571,43447.00375,43440.0,43360.72375,43427.24285714286,43375.04,43391.2775,43328.33142857143,43333.292857142864,43272.20571428572,43302.26142857143,43237.22857142857,43293.438571428575,43335.397142857146,43329.36,43315.57857142857,43358.98,43401.56125,43496.01714285714,43543.944285714286,43735.24749999998,43635.8,43565.93714285714,43445.9742505125,43582.882500000014,43509.89375,43583.13375,43620.45625000002,43683.955,43688.792857142864,43748.37285714286,43733.61857142858,43770.91142857143,43725.21247342,43699.93519433285,43681.41125,43663.37142857142,43674.12714285714,43735.2968762825,43761.40857142857,43804.98142857143,43748.64871729857,43754.64400535857,43761.9313146925,43745.054649555714,43749.41395637714,43704.05428571429,43754.37857142858,43752.16000000002,43752.56428571429,43742.16285714285,43722.25010413143,43698.399835418575,43678.80153424286,43688.29428571429,43673.78428571428,43674.93714285714,43696.93209772,43696.218571428566,43688.90142857142,43680.15714285715,43699.02571428572,43731.86428571429,43747.49428571429,43762.66571428572,43851.00774273375,43796.60571428571,43767.107142857145,43685.150000000016,43691.55,43724.642857142855,43737.69285714287,43651.975714285705,43596.42285714286,43623.89428571428,43635.89571428572,43561.85142857144,43536.07792585572,43480.374285714286,43514.82,43608.34571428572,43568.90142857143,43554.05285714286,43631.01714285714,43631.90714285714,43537.49,43597.75303396001,43648.514285714286,43697.334285714285,43707.43,43726.24681658715,43765.792857142864,43715.65571428572,43715.125714285714,43710.31428571429,43731.00625,43770.145714285725,43814.85571428571,43816.27125000001,43806.570000000014,43806.79142857143,43770.66857142857,43799.1,43833.474285714285,43811.704285714295,43843.44,43832.01571428571,43786.38571428572,43769.188571428575,43774.467142857146,43796.19,43797.20571428572,43798.15714285714,43804.61142857144,43831.59142857143,43871.69625,43897.16857142858,43901.38285714285,43883.25895342144,43862.52,43894.77857142857,43866.73499999999,43845.84857142857,43823.298571428575,43752.76714285714,43703.374285714286,43669.07857142857,43642.77285714285,43615.38,43504.42428571429,43367.88571428572,43316.7225,43295.04428571429,43250.16571428572,43075.9025,43232.90125,43259.1575,43293.7075,43305.09857142857,43327.79,43356.28068103,43344.55857142858,43484.61375,43580.82375,43470.794999999984,43198.788571428566,43213.69,43269.54714285715,43239.26125,43114.23614144125,43067.63,43060.81,42991.2775,42989.62375,43219.33125,43140.19135458125,43198.24000000001,43110.797500000015,43157.72298172143,43099.1575,43051.08285714287,42966.91285714286,43009.43142857143,42880.67875,42822.040000000015,42699.178750000014,42778.885,42779.71,42700.44625,42659.58241635572,42600.39625,42624.279999999984,42577.0,42679.60625,42678.21816655625,42762.514285714286,42825.295,42736.6525,42769.39571428571,42637.115,42703.63625,42781.97057111125,42755.5925,42717.23428571428,42657.20249999999,42678.72142857143,42778.29125,42790.17571428571,42731.73142857143,42898.565,42939.64571428572,42927.167142857135,42979.83375,42960.60142857144,42985.48285714286,42985.21482412572,42899.01285714287,42860.00571428572,42827.02,43017.277142857136,43002.505],\"high\":[43812.35000103,43856.0,43868.0,43868.0,43851.0,43850.0,43850.70652206,43857.0,43852.0,43845.0,43806.0,43742.03585349,43771.0,43748.0,43744.0,43725.0,43763.0,44008.23,43974.1,43966.68,43855.0,43808.19,43769.0,43742.0,43779.0,43812.0,43780.0,43829.64,43793.0,43666.0,43774.07,43791.67491349,43809.37,43829.23,43883.0,43877.31,43833.0,43821.85,43818.77,43849.39,43856.98,43869.0,43907.0,43926.0,44001.0,43997.43,44070.01,44119.0,44063.45,44100.42,44095.91,44097.0,44065.0,44078.4,44084.66,44090.03,44085.0,44080.0,44086.42,44081.0,44065.04,44091.67,44045.0,44034.88,44021.0,43970.0,43969.0,43958.4,43958.3,43958.2,43902.2,43900.1,43917.68760878,43894.0,43888.0,43896.0,43912.93,43871.36,43877.0,43914.99,43952.94,43943.71,43944.52,43906.33,43913.87,43886.34,43827.06,43810.8,43787.58,43788.63,43779.0,43793.0,43796.0,43786.62,43777.0,43778.61,43848.72,43849.5,43850.21,43894.4,43910.33,43940.8,43915.0,43901.0,43954.47,43980.14,43996.71,44003.27,44006.86,43998.95,43913.0,43916.0,43900.0,43892.92,43956.96,44000.0,43987.72,44052.36,44159.5,44144.0,44118.0,44257.99,44199.32,44154.46,44116.76,44113.2,44070.33,44091.76,44080.0,44081.67,44063.1,44063.1,44090.87,44152.5,44141.0,44100.1,44100.39,44100.0,44069.0,44130.0,44081.89116755,44100.0,44085.0,44039.0,44022.35,44008.0,44069.0,44008.8,44008.0,43961.25,43935.0,43942.2,43921.0,43914.0,43925.96,43915.0,43912.0,43959.0,43947.0,43904.0,43903.0,43828.0,43795.6,43732.0,43686.0,43652.0,43685.4,43685.4,43647.02,43634.07,43628.6,43669.24,43640.0,43615.0,43495.61,43479.48,43383.18,43366.26811171,43528.44,43456.0,43457.0,43469.0,43476.08,43489.0,43484.0,43512.97,43545.0,43570.36,43620.42,43611.0,43596.2,43605.29,43577.51,43479.75,43440.1,43381.61,43450.26942404,43417.23,43426.81575383,43509.0,43511.21,43510.0,43477.09,43395.04065691,43403.11,43371.25,43333.43,43346.82,43295.2,43352.17,43453.45,43440.2,43307.99,43263.57,43313.63,43279.0,43219.23,43197.13,43164.15,43089.59,43108.55,43032.55,43040.0,43138.78,43123.7,43075.0,43026.75835346,43012.8069541,43089.0,43176.0,43537.0,43575.47,43572.13,43582.8,43583.0,43644.61,43649.0,43645.0,43639.29,43650.0,43600.1,43743.5,43901.5,43853.52,43794.7,43754.0,43715.73,43648.61667971,43645.92,43644.45,43603.9,43726.22,43894.24062308,43886.0,43972.0,43932.0,43950.0,43951.82,43919.0,43891.62,43968.67,43961.0,43936.0,43949.0,43931.0,43949.0,43911.0,43924.19936605,43892.35996387,43890.04262761,43878.0,43844.86,43860.86,43838.0,43872.0,43830.0,43824.0,43809.90889954,43817.0,43804.0,43770.29406501,43764.46139972,43751.0,43748.0,43764.04,43799.04,43770.0,43731.44,43731.48,43735.15,43687.68903327,43718.0,43704.0,43705.91,43743.5,43770.01,43773.71,43789.4,43785.0,43703.8,43588.68,43495.95402838,43455.2184781,43454.99,43467.0,43405.0,43407.7,43350.0,43344.99,43315.99,43317.0,43318.8,43353.43,43363.82,43341.56,43372.8,43436.99,43512.7,43581.88,43750.27,43749.6,43636.4,43587.1,43609.1,43617.0,43611.11,43634.01,43715.6675949,43707.74,43763.7,43766.35,43798.21,43780.0,43726.0,43731.0,43702.91,43684.24,43773.35,43784.1,43818.17,43810.0,43766.0,43790.0,43774.0,43760.01,43763.66,43773.4,43768.62,43776.0,43768.53,43750.0,43746.7,43708.0,43701.5,43701.5,43689.0,43716.49468404,43709.0,43703.62,43723.37,43708.47,43754.58,43757.98,43776.38,43882.75,43913.83,43813.0,43788.8,43704.19,43738.0,43746.19,43747.0,43672.0,43639.5,43651.0,43647.45,43582.0,43550.99,43524.0,43618.15,43652.3,43587.51,43654.6,43682.6,43646.0,43614.93123772,43660.09,43708.05,43744.4,43776.1,43785.75,43779.05,43756.0,43782.7,43777.2,43782.74,43830.0,43835.6,43835.5,43833.6,43867.04,43805.3,43861.08,43848.1,43860.78,43866.41,43840.14,43808.31,43800.0,43812.4,43818.6,43818.4,43821.1,43840.7,43910.99,43912.1,43940.0,43912.0,43908.5,43906.71,43906.73,43874.98,43851.4,43843.87,43782.1,43721.3,43699.8,43679.99,43633.3,43560.02,43417.91,43354.59,43359.44,43259.3,43281.0,43301.61947119,43320.02,43348.22,43366.0,43391.85,43376.0,43546.61,43640.0,43627.0,43455.0,43276.57,43366.0,43288.47,43287.5,43133.15,43099.98,43072.2,43069.67,43289.9,43350.5,43229.1,43247.5,43193.54,43172.9,43122.0,43082.02,43029.49,43015.0,42897.0,42884.85,42836.33,42811.0,42852.0,42719.98,42779.1,42703.01,42650.0,42705.0,42802.54,42862.0,42877.82,42846.0,42833.9,42841.99,42736.9,42819.38,42827.1,42811.3,42752.0,42715.99,42810.26,42828.0,42827.7,42937.31,42966.98,42971.95,43014.98,43005.65,43008.85,43006.54,43001.85084871,42932.0,42887.5,43042.16,43048.51],\"low\":[43757.74,43774.5,43754.55,43759.7,43742.91,43769.68,43788.68,43780.87,43792.97,43755.7,43700.01,43665.7,43682.84,43681.15,43660.0,43664.01,43680.0,43672.8,43832.9,43717.53,43745.3,43707.53,43666.69,43671.8,43693.51,43735.9,43719.13,43728.95,43628.01,43557.87,43563.11,43705.0,43740.66,43780.44,43790.01,43810.07,43763.88,43758.0,43730.8,43705.6,43794.99,43776.63,43827.3,43861.63,43874.25,43915.13,43958.4,43994.44,43994.0,43964.48,44038.46,44036.42,44001.83,43981.46,44021.06,44021.05,44044.69,44005.39,44010.69,44034.22,44017.01,44000.02,43984.24,43971.22,43942.96,43919.26,43921.43,43915.03,43914.04,43861.84,43856.89,43816.32,43827.06,43848.0,43830.01,43833.11,43827.73,43826.4,43828.32,43842.31,43876.9,43894.97,43847.28,43842.6,43861.7,43783.62,43772.68,43730.29,43741.67,43749.54,43725.01,43756.34,43753.75,43739.29,43737.7,43725.0,43749.93,43803.41,43814.12,43830.31,43862.92,43888.2,43857.06,43847.54,43865.99,43895.26,43941.4,43951.42,43964.35,43884.73,43866.01,43858.78,43845.62,43850.01,43867.85,43913.1,43951.4,43954.93,43985.65,44054.38,44021.04,44035.21,44100.0,44082.01,44048.2,44026.29,44012.42,44026.37,44039.04,44019.2,44021.67,44021.68,44035.12,44049.97,44069.04,44060.0,44058.3,44039.14,44034.12,44043.55,43966.23,43987.2,44018.05,43990.0,43978.77,43928.72,43924.41,43898.52,43898.68,43901.09,43877.96,43878.45,43869.23,43880.01,43880.0,43889.48,43872.2,43875.7,43876.62,43866.8,43787.51,43742.58,43654.94,43569.49,43595.24,43580.01,43586.82,43595.29,43581.36,43545.0,43576.95,43584.81,43575.08,43437.24,43384.51,43331.0,43227.33,43213.3,43239.19,43344.12,43383.69,43381.26,43404.59,43400.0,43388.01,43423.39,43480.69,43502.11,43533.55,43539.54,43544.79,43549.06,43425.93,43394.48,43339.01,43299.0,43299.01,43291.03,43258.13,43384.1,43440.37,43384.3,43356.84,43317.95,43340.79,43221.3,43181.23,43230.01,43051.0,43139.07,43301.14,43252.86,43100.3,43128.8,43173.05,43142.1,43117.35,43056.44,43000.0,42900.0,42989.25,42880.0,42881.4,42973.26,43040.76,43000.0,42923.1,42928.51,42934.11,43049.1,43131.06,43414.8,43436.19,43468.93,43445.87,43516.77,43558.8,43561.1,43546.39,43554.71,43544.05,43566.53,43694.6,43643.64,43680.92,43630.3,43613.61,43592.7,43591.61,43554.8,43562.04,43564.57,43681.0,43804.81,43828.0,43823.54,43854.0,43890.0,43836.03,43768.91,43852.0,43878.8,43874.37,43900.68,43835.38,43846.0,43829.16,43854.97,43827.05,43806.7,43777.9,43765.29,43782.5,43769.74,43791.37,43763.89,43761.9,43751.12,43750.4,43733.3,43726.6,43706.38,43689.56,43700.0,43702.99,43729.46,43699.0,43700.0,43625.07,43630.64,43647.27,43657.91,43662.2,43672.6,43691.48,43703.8,43719.15,43749.6,43652.86,43534.74,43427.28,43414.33,43327.29,43348.06,43351.15,43280.0,43284.12,43283.74,43240.01,43261.26,43217.6,43207.55,43268.05,43278.42,43272.19,43287.88,43350.2,43387.95,43487.66,43527.56,43600.0,43538.26,43426.2,43431.57,43436.46,43476.65,43525.5,43585.4,43647.65,43676.9,43702.98,43709.75,43706.19,43683.73,43669.67,43638.92,43631.17,43662.11,43729.9,43730.0,43732.41,43725.22,43739.3,43722.3,43717.71,43686.54,43695.18,43733.8,43729.06,43730.17,43705.92,43691.2,43665.84,43657.79,43663.42,43658.2,43663.48,43669.1,43669.1,43659.05,43669.2,43677.4,43718.9,43742.1,43754.67,43790.01,43750.89,43672.6,43669.13,43683.08,43689.3,43641.65,43584.69,43583.4,43608.15,43522.0,43504.1,43464.86,43462.56,43499.99,43548.51,43538.67,43534.0,43616.54,43521.92,43514.09,43593.43,43644.1,43682.67,43688.1,43712.74,43701.41,43700.0,43665.29,43678.37,43718.44,43758.4,43763.01,43772.0,43772.75,43741.3,43760.3,43788.96,43788.53,43780.41,43816.96,43762.7,43742.7,43750.0,43759.23,43766.7,43757.17,43782.18,43795.58,43823.74,43842.5,43875.72,43866.3,43847.0,43835.66,43850.16,43832.56,43813.11,43746.0,43687.0,43650.01,43627.29,43600.0,43499.99,43350.4,43295.74,43278.42,43221.04,43003.84,43067.0,43172.38,43172.0,43220.67,43261.3,43333.51,43283.1,43335.64,43441.56,43428.8,43172.9,43133.08,43209.9,43218.81,43062.9,43050.9,43019.49,42930.14,42967.33,42969.79,43106.01,43026.47,43092.88,43064.36,43058.56,43007.67,42898.8,42900.0,42801.0,42795.45,42659.29112887,42660.05,42651.4,42672.8,42640.0,42575.0,42579.4,42515.09,42548.09,42626.61,42660.7,42743.68,42688.55,42731.17,42600.0,42607.5,42690.84,42690.75,42694.37,42636.76,42630.17,42662.27,42742.36,42713.48,42713.48,42852.07,42899.1,42907.18,42929.74,42953.1,42958.06,42878.26,42840.16,42797.2,42818.1,42961.64],\"open\":[43795.58285729,43789.09142857143,43788.650000000016,43841.212857142855,43773.90571428571,43824.80857142858,43824.21142857144,43832.94857142858,43821.99428571429,43827.18142857143,43775.11714285715,43714.883145837135,43711.86142857144,43703.30285714286,43718.722857142864,43685.24857142857,43693.107142857145,43731.6275,43901.36624999999,43854.46428571428,43827.85285714286,43758.77142857143,43736.23237400715,43690.74714285714,43713.98142857143,43766.34476539714,43758.625714285714,43748.20170121857,43782.80142857142,43648.41428571429,43584.40499445376,43745.93714285714,43771.322857142855,43800.16569397714,43813.902857142864,43866.55285714287,43826.99109449857,43769.88857142856,43813.33,43744.215,43840.59,43812.472857142864,43853.01265498142,43886.60571428571,43905.81142857143,43964.12428571428,43982.25003238429,44052.184265094285,44011.0725,44016.88285714285,44077.65714285714,44073.9073319875,44047.95124999999,44024.36285714285,44063.77045047429,44032.678571428565,44066.21509176428,44067.82428571429,44027.724285714285,44067.224285714285,44047.66285714285,44061.17714285715,44019.97714285714,43993.32285714285,44012.84571428572,43960.11571428571,43951.80937892286,43934.91,43942.41465447571,43928.618571428575,43889.56243579571,43877.31571428572,43842.62714285714,43868.24714285714,43873.79428571429,43856.68571428572,43885.258571428574,43847.30142857142,43851.64571428572,43853.960000000014,43903.49326939572,43931.555139265714,43929.82142857143,43860.944285714286,43896.967142857146,43873.59142857143,43812.938571428575,43792.72875,43764.40857142857,43771.244119301424,43763.82142857143,43770.84408691286,43786.34941403714,43772.538711532856,43753.27469178,43751.47714285715,43769.96641481375,43838.710000000014,43825.885,43844.54428571429,43885.00939432572,43904.24000000001,43906.88142857143,43874.024285714295,43884.92285714285,43938.22714285715,43959.43857142857,43980.77428571428,43986.25625,43985.53142857144,43899.32571428572,43899.36190759143,43880.52,43868.990388007136,43879.60857142857,43930.80714285715,43976.11428571429,43967.29749999999,44024.69125,44133.82088796143,44105.41142857144,44059.9425,44147.93559987625,44118.01857142856,44099.16428571428,44079.32285714285,44041.7,44048.11142857144,44049.368571428575,44057.33571428571,44039.30285714285,44053.10047621428,44045.48,44067.468571428566,44129.84428571429,44087.53428571428,44076.68625,44076.19052630285,44057.53294487143,44056.8275,44069.87016679285,44008.76285714287,44068.50142857144,44027.54428571429,44004.36539671144,43991.38428571429,43956.822857142855,43961.372087442505,43961.166483195,43925.140000000014,43914.95285714285,43909.53571428572,43910.374285714286,43905.92142857143,43893.49,43904.04571428573,43895.03142857144,43889.32314389857,43927.60562658857,43884.07857142857,43881.612857142856,43815.47375000001,43760.70999999999,43701.411428571424,43625.23,43625.35428571428,43609.14571428571,43658.76625,43605.40875,43588.23374751,43608.535714285696,43612.59571428572,43609.09176878875,43601.74,43478.18142857143,43460.4175,43362.32375,43262.03722034428,43328.1575,43380.14,43434.150000000016,43429.26142857143,43443.94142857143,43462.098634842856,43444.57857142857,43438.23142857143,43502.66,43528.075,43551.10262890625,43553.79571428571,43572.93,43582.30857142857,43564.13571428572,43458.06294015428,43411.57857142857,43354.35428571429,43321.222857142864,43386.24000000001,43330.62142857142,43405.20689180856,43470.24542569714,43495.27285714286,43412.779999999984,43383.19437955857,43356.56856312,43365.69571428571,43239.22303058143,43287.13428571429,43261.77571428572,43187.20428571429,43328.03999999999,43418.5825,43280.94449847125,43170.15,43211.2225,43215.31857142857,43185.468571428566,43147.875714285714,43096.15375,43007.32,43046.4225,43009.2040485275,42928.61125,42995.812500000015,43104.05714285715,43046.90714285715,43012.13833620857,42943.17428571428,42969.25999205571,43064.67520109143,43157.85708447373,43486.91571428572,43485.720000000016,43510.50571428571,43519.22714285715,43571.73375,43610.26125,43624.29142857143,43607.775,43563.15958554,43585.41571428572,43589.09625,43735.0575,43795.117500000015,43689.48428571429,43737.12125,43674.53375,43629.48142857143,43629.39571428572,43614.17428571429,43581.43142857143,43581.2925,43706.80125,43842.37571428572,43859.45109554875,43895.29375,43893.38714285714,43931.2,43897.91857142856,43849.1877638325,43878.171368215,43930.25285714285,43924.72,43914.81428571429,43910.0825,43871.6275,43893.468571428566,43885.85857142857,43871.18428571429,43868.80428571429,43863.88571428572,43790.59857142857,43830.322857142855,43793.908571428576,43808.07857142857,43813.08,43782.97875,43782.64841422,43763.96,43776.874285714286,43748.22343785857,43739.77448567429,43728.34285714286,43723.34285714285,43718.93350209143,43757.05759537858,43741.107142857145,43710.66115756857,43724.97321297572,43661.4125,43672.39843332429,43673.22142857144,43686.31285714286,43683.87,43699.45428571429,43725.58,43744.49441664,43764.55857142858,43771.15142857143,43682.167142857135,43558.39375,43449.81857142858,43427.0823097625,43362.572857142855,43419.8325,43368.71625,43393.847142857136,43329.654285714285,43335.71432474571,43275.938571428575,43301.834285714285,43232.93714285714,43297.98428571429,43336.64,43333.63142857143,43314.74000000001,43364.94875,43408.08714285715,43504.69050787143,43563.5475,43734.17517274572,43622.09142833857,43556.59375,43455.175,43574.825,43520.28,43576.7775,43622.23555296,43692.88857142858,43693.87714285714,43746.07428571429,43732.60428571428,43769.21714285714,43713.06428571429,43696.00375,43671.81428571429,43658.32428571429,43678.86,43747.11558816286,43763.66857142857,43801.88285714287,43743.70142857143,43760.135,43757.962857142855,43746.89571428572,43752.36571428572,43706.63459625,43754.938571428575,43751.42502128715,43747.71428571428,43741.16142857143,43718.720000000016,43697.06571428572,43678.72571428572,43687.59428571429,43674.66142857143,43674.23,43699.485714285714,43693.75714285714,43686.042857142864,43680.84285714286,43703.04380334572,43737.424990827145,43748.792857142864,43764.222193155,43867.28649138286,43796.17000235,43764.80711541429,43683.29195864715,43694.014285714286,43724.80857142858,43734.218571428566,43648.50714285714,43595.79378934143,43622.90857142857,43635.26571428571,43561.49245584857,43540.261460078575,43481.81571428572,43514.376468365714,43617.79142857143,43571.87298438429,43552.88571428572,43628.438571428575,43627.27428571428,43537.74857142858,43605.25142857143,43650.830000000016,43700.829614364295,43709.82420531143,43729.398571428566,43758.39428571429,43711.38000000001,43711.45285714285,43709.3575,43745.652857142864,43771.43571428571,43811.9775,43826.62833333333,43809.957142857136,43813.72,43780.97162221715,43805.69142857142,43832.400000000016,43801.23428571429,43846.09142857143,43828.874285714286,43786.38571428572,43771.014285714286,43774.80714285715,43798.41857142857,43794.84032981571,43807.66285714285,43807.34428571429,43836.9875,43872.08714285714,43900.88857142856,43901.008571428574,43890.30857142857,43858.474285714285,43893.88166666668,43866.00571428572,43843.235714285714,43821.555714285714,43752.37,43704.62857142857,43671.72,43644.06142857143,43610.07408044428,43504.71428571428,43365.91375,43313.70812588,43296.055714285714,43239.0175,43092.85375,43251.94250000001,43264.50125,43307.44571428571,43296.88375,43341.862857142856,43353.12,43365.74875000001,43477.0875,43588.102500000015,43447.60285714286,43205.55625,43234.95285714286,43267.83,43229.50125,43106.66925542,43064.47714285714,43054.81000000001,43002.9225,42998.535,43227.1275,43122.16,43192.76624999999,43106.25997366144,43159.91625,43085.22049047715,43049.56714285714,42972.15714285714,42979.09125000001,42873.23000000002,42815.11375,42707.930000000015,42766.4325,42775.73125,42694.57285714285,42675.71750000001,42599.647142857146,42620.29375,42577.715,42683.24375,42673.72571428572,42768.39625000001,42819.91125,42750.58285714287,42760.10875,42632.465,42718.815,42772.92125,42762.29,42703.80250000001,42655.528483642855,42688.935,42790.287142857145,42792.855714285724,42745.15375,42896.17428571428,42937.78428571428,42933.25490686,42974.10869267286,42971.347142857136,42982.91571428572,42983.779999999984,42904.19714285714,42859.38571428572,42839.01280218857,43009.96125],\"x\":[1632152460,1632152520,1632152580,1632152640,1632152700,1632152760,1632152820,1632152880,1632152940,1632153000,1632153060,1632153120,1632153180,1632153240,1632153300,1632153360,1632153420,1632153480,1632153540,1632153600,1632153660,1632153720,1632153780,1632153840,1632153900,1632153960,1632154020,1632154080,1632154140,1632154200,1632154260,1632154320,1632154380,1632154440,1632154500,1632154560,1632154620,1632154680,1632154740,1632154800,1632154860,1632154920,1632154980,1632155040,1632155100,1632155160,1632155220,1632155280,1632155340,1632155400,1632155460,1632155520,1632155580,1632155640,1632155700,1632155760,1632155820,1632155880,1632155940,1632156000,1632156060,1632156120,1632156180,1632156240,1632156300,1632156360,1632156420,1632156480,1632156540,1632156600,1632156660,1632156720,1632156780,1632156840,1632156900,1632156960,1632157020,1632157080,1632157140,1632157200,1632157260,1632157320,1632157380,1632157440,1632157500,1632157560,1632157620,1632157680,1632157740,1632157800,1632157860,1632157920,1632157980,1632158040,1632158100,1632158160,1632158220,1632158280,1632158340,1632158400,1632158460,1632158520,1632158580,1632158640,1632158700,1632158760,1632158820,1632158880,1632158940,1632159000,1632159060,1632159120,1632159180,1632159240,1632159300,1632159360,1632159420,1632159480,1632159540,1632159600,1632159660,1632159720,1632159780,1632159840,1632159900,1632159960,1632160020,1632160080,1632160140,1632160200,1632160260,1632160320,1632160380,1632160440,1632160500,1632160560,1632160620,1632160680,1632160740,1632160800,1632160860,1632160920,1632160980,1632161040,1632161100,1632161160,1632161220,1632161280,1632161340,1632161400,1632161460,1632161520,1632161580,1632161640,1632161700,1632161760,1632161820,1632161880,1632161940,1632162000,1632162060,1632162120,1632162180,1632162240,1632162300,1632162360,1632162420,1632162480,1632162540,1632162600,1632162660,1632162720,1632162780,1632162840,1632162900,1632162960,1632163020,1632163080,1632163140,1632163200,1632163260,1632163320,1632163380,1632163440,1632163500,1632163560,1632163620,1632163680,1632163740,1632163800,1632163860,1632163920,1632163980,1632164040,1632164100,1632164160,1632164220,1632164280,1632164340,1632164400,1632164460,1632164520,1632164580,1632164640,1632164700,1632164760,1632164820,1632164880,1632164940,1632165000,1632165060,1632165120,1632165180,1632165240,1632165300,1632165360,1632165420,1632165480,1632165540,1632165600,1632165660,1632165720,1632165780,1632165840,1632165900,1632165960,1632166020,1632166080,1632166140,1632166200,1632166260,1632166320,1632166380,1632166440,1632166500,1632166560,1632166620,1632166680,1632166740,1632166800,1632166860,1632166920,1632166980,1632167040,1632167100,1632167160,1632167220,1632167280,1632167340,1632167400,1632167460,1632167520,1632167580,1632167640,1632167700,1632167760,1632167820,1632167880,1632167940,1632168000,1632168060,1632168120,1632168180,1632168240,1632168300,1632168360,1632168420,1632168480,1632168540,1632168600,1632168660,1632168720,1632168780,1632168840,1632168900,1632168960,1632169020,1632169080,1632169140,1632169200,1632169260,1632169320,1632169380,1632169440,1632169500,1632169560,1632169620,1632169680,1632169740,1632169800,1632169860,1632169920,1632169980,1632170040,1632170100,1632170160,1632170220,1632170280,1632170340,1632170400,1632170460,1632170520,1632170580,1632170640,1632170700,1632170760,1632170820,1632170880,1632170940,1632171000,1632171060,1632171120,1632171180,1632171240,1632171300,1632171360,1632171420,1632171480,1632171540,1632171600,1632171660,1632171720,1632171780,1632171840,1632171900,1632171960,1632172020,1632172080,1632172140,1632172200,1632172260,1632172320,1632172380,1632172440,1632172500,1632172560,1632172620,1632172680,1632172740,1632172800,1632172860,1632172920,1632172980,1632173040,1632173100,1632173160,1632173220,1632173280,1632173340,1632173400,1632173460,1632173520,1632173580,1632173640,1632173700,1632173760,1632173820,1632173880,1632173940,1632174000,1632174060,1632174120,1632174180,1632174240,1632174300,1632174360,1632174420,1632174480,1632174540,1632174600,1632174660,1632174720,1632174780,1632174840,1632174900,1632174960,1632175020,1632175080,1632175140,1632175200,1632175260,1632175320,1632175380,1632175440,1632175500,1632175560,1632175620,1632175680,1632175740,1632175800,1632175860,1632175920,1632175980,1632176040,1632176100,1632176160,1632176220,1632176280,1632176340,1632176400,1632176460,1632176520,1632176580,1632176640,1632176700,1632176760,1632176820,1632176880,1632176940,1632177000,1632177060,1632177120,1632177180,1632177240,1632177300,1632177360,1632177420,1632177480,1632177540,1632177600,1632177660,1632177720,1632177780,1632177840,1632177900,1632177960,1632178020,1632178080,1632178140,1632178200,1632178260,1632178320,1632178380,1632178440,1632178500,1632178560,1632178620,1632178680,1632178740,1632178800,1632178860,1632178920,1632178980,1632179040,1632179100,1632179160,1632179220,1632179280,1632179340,1632179400,1632179460,1632179520,1632179580,1632179640,1632179700,1632179760,1632179820,1632179880,1632179940,1632180000,1632180060,1632180120,1632180180,1632180240,1632180300,1632180360,1632180420,1632180480,1632180540,1632180600,1632180660,1632180720,1632180780,1632180840,1632180900,1632180960,1632181020,1632181080,1632181140,1632181200,1632181260,1632181320,1632181380,1632181440,1632181500,1632181560,1632181620,1632181680,1632181740,1632181800,1632181860,1632181920,1632181980,1632182040,1632182100,1632182160,1632182220,1632182280,1632182340,1632182400],\"type\":\"candlestick\"}],                        {\"template\":{\"data\":{\"bar\":[{\"error_x\":{\"color\":\"#2a3f5f\"},\"error_y\":{\"color\":\"#2a3f5f\"},\"marker\":{\"line\":{\"color\":\"#E5ECF6\",\"width\":0.5},\"pattern\":{\"fillmode\":\"overlay\",\"size\":10,\"solidity\":0.2}},\"type\":\"bar\"}],\"barpolar\":[{\"marker\":{\"line\":{\"color\":\"#E5ECF6\",\"width\":0.5},\"pattern\":{\"fillmode\":\"overlay\",\"size\":10,\"solidity\":0.2}},\"type\":\"barpolar\"}],\"carpet\":[{\"aaxis\":{\"endlinecolor\":\"#2a3f5f\",\"gridcolor\":\"white\",\"linecolor\":\"white\",\"minorgridcolor\":\"white\",\"startlinecolor\":\"#2a3f5f\"},\"baxis\":{\"endlinecolor\":\"#2a3f5f\",\"gridcolor\":\"white\",\"linecolor\":\"white\",\"minorgridcolor\":\"white\",\"startlinecolor\":\"#2a3f5f\"},\"type\":\"carpet\"}],\"choropleth\":[{\"colorbar\":{\"outlinewidth\":0,\"ticks\":\"\"},\"type\":\"choropleth\"}],\"contour\":[{\"colorbar\":{\"outlinewidth\":0,\"ticks\":\"\"},\"colorscale\":[[0.0,\"#0d0887\"],[0.1111111111111111,\"#46039f\"],[0.2222222222222222,\"#7201a8\"],[0.3333333333333333,\"#9c179e\"],[0.4444444444444444,\"#bd3786\"],[0.5555555555555556,\"#d8576b\"],[0.6666666666666666,\"#ed7953\"],[0.7777777777777778,\"#fb9f3a\"],[0.8888888888888888,\"#fdca26\"],[1.0,\"#f0f921\"]],\"type\":\"contour\"}],\"contourcarpet\":[{\"colorbar\":{\"outlinewidth\":0,\"ticks\":\"\"},\"type\":\"contourcarpet\"}],\"heatmap\":[{\"colorbar\":{\"outlinewidth\":0,\"ticks\":\"\"},\"colorscale\":[[0.0,\"#0d0887\"],[0.1111111111111111,\"#46039f\"],[0.2222222222222222,\"#7201a8\"],[0.3333333333333333,\"#9c179e\"],[0.4444444444444444,\"#bd3786\"],[0.5555555555555556,\"#d8576b\"],[0.6666666666666666,\"#ed7953\"],[0.7777777777777778,\"#fb9f3a\"],[0.8888888888888888,\"#fdca26\"],[1.0,\"#f0f921\"]],\"type\":\"heatmap\"}],\"heatmapgl\":[{\"colorbar\":{\"outlinewidth\":0,\"ticks\":\"\"},\"colorscale\":[[0.0,\"#0d0887\"],[0.1111111111111111,\"#46039f\"],[0.2222222222222222,\"#7201a8\"],[0.3333333333333333,\"#9c179e\"],[0.4444444444444444,\"#bd3786\"],[0.5555555555555556,\"#d8576b\"],[0.6666666666666666,\"#ed7953\"],[0.7777777777777778,\"#fb9f3a\"],[0.8888888888888888,\"#fdca26\"],[1.0,\"#f0f921\"]],\"type\":\"heatmapgl\"}],\"histogram\":[{\"marker\":{\"pattern\":{\"fillmode\":\"overlay\",\"size\":10,\"solidity\":0.2}},\"type\":\"histogram\"}],\"histogram2d\":[{\"colorbar\":{\"outlinewidth\":0,\"ticks\":\"\"},\"colorscale\":[[0.0,\"#0d0887\"],[0.1111111111111111,\"#46039f\"],[0.2222222222222222,\"#7201a8\"],[0.3333333333333333,\"#9c179e\"],[0.4444444444444444,\"#bd3786\"],[0.5555555555555556,\"#d8576b\"],[0.6666666666666666,\"#ed7953\"],[0.7777777777777778,\"#fb9f3a\"],[0.8888888888888888,\"#fdca26\"],[1.0,\"#f0f921\"]],\"type\":\"histogram2d\"}],\"histogram2dcontour\":[{\"colorbar\":{\"outlinewidth\":0,\"ticks\":\"\"},\"colorscale\":[[0.0,\"#0d0887\"],[0.1111111111111111,\"#46039f\"],[0.2222222222222222,\"#7201a8\"],[0.3333333333333333,\"#9c179e\"],[0.4444444444444444,\"#bd3786\"],[0.5555555555555556,\"#d8576b\"],[0.6666666666666666,\"#ed7953\"],[0.7777777777777778,\"#fb9f3a\"],[0.8888888888888888,\"#fdca26\"],[1.0,\"#f0f921\"]],\"type\":\"histogram2dcontour\"}],\"mesh3d\":[{\"colorbar\":{\"outlinewidth\":0,\"ticks\":\"\"},\"type\":\"mesh3d\"}],\"parcoords\":[{\"line\":{\"colorbar\":{\"outlinewidth\":0,\"ticks\":\"\"}},\"type\":\"parcoords\"}],\"pie\":[{\"automargin\":true,\"type\":\"pie\"}],\"scatter\":[{\"marker\":{\"colorbar\":{\"outlinewidth\":0,\"ticks\":\"\"}},\"type\":\"scatter\"}],\"scatter3d\":[{\"line\":{\"colorbar\":{\"outlinewidth\":0,\"ticks\":\"\"}},\"marker\":{\"colorbar\":{\"outlinewidth\":0,\"ticks\":\"\"}},\"type\":\"scatter3d\"}],\"scattercarpet\":[{\"marker\":{\"colorbar\":{\"outlinewidth\":0,\"ticks\":\"\"}},\"type\":\"scattercarpet\"}],\"scattergeo\":[{\"marker\":{\"colorbar\":{\"outlinewidth\":0,\"ticks\":\"\"}},\"type\":\"scattergeo\"}],\"scattergl\":[{\"marker\":{\"colorbar\":{\"outlinewidth\":0,\"ticks\":\"\"}},\"type\":\"scattergl\"}],\"scattermapbox\":[{\"marker\":{\"colorbar\":{\"outlinewidth\":0,\"ticks\":\"\"}},\"type\":\"scattermapbox\"}],\"scatterpolar\":[{\"marker\":{\"colorbar\":{\"outlinewidth\":0,\"ticks\":\"\"}},\"type\":\"scatterpolar\"}],\"scatterpolargl\":[{\"marker\":{\"colorbar\":{\"outlinewidth\":0,\"ticks\":\"\"}},\"type\":\"scatterpolargl\"}],\"scatterternary\":[{\"marker\":{\"colorbar\":{\"outlinewidth\":0,\"ticks\":\"\"}},\"type\":\"scatterternary\"}],\"surface\":[{\"colorbar\":{\"outlinewidth\":0,\"ticks\":\"\"},\"colorscale\":[[0.0,\"#0d0887\"],[0.1111111111111111,\"#46039f\"],[0.2222222222222222,\"#7201a8\"],[0.3333333333333333,\"#9c179e\"],[0.4444444444444444,\"#bd3786\"],[0.5555555555555556,\"#d8576b\"],[0.6666666666666666,\"#ed7953\"],[0.7777777777777778,\"#fb9f3a\"],[0.8888888888888888,\"#fdca26\"],[1.0,\"#f0f921\"]],\"type\":\"surface\"}],\"table\":[{\"cells\":{\"fill\":{\"color\":\"#EBF0F8\"},\"line\":{\"color\":\"white\"}},\"header\":{\"fill\":{\"color\":\"#C8D4E3\"},\"line\":{\"color\":\"white\"}},\"type\":\"table\"}]},\"layout\":{\"annotationdefaults\":{\"arrowcolor\":\"#2a3f5f\",\"arrowhead\":0,\"arrowwidth\":1},\"autotypenumbers\":\"strict\",\"coloraxis\":{\"colorbar\":{\"outlinewidth\":0,\"ticks\":\"\"}},\"colorscale\":{\"diverging\":[[0,\"#8e0152\"],[0.1,\"#c51b7d\"],[0.2,\"#de77ae\"],[0.3,\"#f1b6da\"],[0.4,\"#fde0ef\"],[0.5,\"#f7f7f7\"],[0.6,\"#e6f5d0\"],[0.7,\"#b8e186\"],[0.8,\"#7fbc41\"],[0.9,\"#4d9221\"],[1,\"#276419\"]],\"sequential\":[[0.0,\"#0d0887\"],[0.1111111111111111,\"#46039f\"],[0.2222222222222222,\"#7201a8\"],[0.3333333333333333,\"#9c179e\"],[0.4444444444444444,\"#bd3786\"],[0.5555555555555556,\"#d8576b\"],[0.6666666666666666,\"#ed7953\"],[0.7777777777777778,\"#fb9f3a\"],[0.8888888888888888,\"#fdca26\"],[1.0,\"#f0f921\"]],\"sequentialminus\":[[0.0,\"#0d0887\"],[0.1111111111111111,\"#46039f\"],[0.2222222222222222,\"#7201a8\"],[0.3333333333333333,\"#9c179e\"],[0.4444444444444444,\"#bd3786\"],[0.5555555555555556,\"#d8576b\"],[0.6666666666666666,\"#ed7953\"],[0.7777777777777778,\"#fb9f3a\"],[0.8888888888888888,\"#fdca26\"],[1.0,\"#f0f921\"]]},\"colorway\":[\"#636efa\",\"#EF553B\",\"#00cc96\",\"#ab63fa\",\"#FFA15A\",\"#19d3f3\",\"#FF6692\",\"#B6E880\",\"#FF97FF\",\"#FECB52\"],\"font\":{\"color\":\"#2a3f5f\"},\"geo\":{\"bgcolor\":\"white\",\"lakecolor\":\"white\",\"landcolor\":\"#E5ECF6\",\"showlakes\":true,\"showland\":true,\"subunitcolor\":\"white\"},\"hoverlabel\":{\"align\":\"left\"},\"hovermode\":\"closest\",\"mapbox\":{\"style\":\"light\"},\"paper_bgcolor\":\"white\",\"plot_bgcolor\":\"#E5ECF6\",\"polar\":{\"angularaxis\":{\"gridcolor\":\"white\",\"linecolor\":\"white\",\"ticks\":\"\"},\"bgcolor\":\"#E5ECF6\",\"radialaxis\":{\"gridcolor\":\"white\",\"linecolor\":\"white\",\"ticks\":\"\"}},\"scene\":{\"xaxis\":{\"backgroundcolor\":\"#E5ECF6\",\"gridcolor\":\"white\",\"gridwidth\":2,\"linecolor\":\"white\",\"showbackground\":true,\"ticks\":\"\",\"zerolinecolor\":\"white\"},\"yaxis\":{\"backgroundcolor\":\"#E5ECF6\",\"gridcolor\":\"white\",\"gridwidth\":2,\"linecolor\":\"white\",\"showbackground\":true,\"ticks\":\"\",\"zerolinecolor\":\"white\"},\"zaxis\":{\"backgroundcolor\":\"#E5ECF6\",\"gridcolor\":\"white\",\"gridwidth\":2,\"linecolor\":\"white\",\"showbackground\":true,\"ticks\":\"\",\"zerolinecolor\":\"white\"}},\"shapedefaults\":{\"line\":{\"color\":\"#2a3f5f\"}},\"ternary\":{\"aaxis\":{\"gridcolor\":\"white\",\"linecolor\":\"white\",\"ticks\":\"\"},\"baxis\":{\"gridcolor\":\"white\",\"linecolor\":\"white\",\"ticks\":\"\"},\"bgcolor\":\"#E5ECF6\",\"caxis\":{\"gridcolor\":\"white\",\"linecolor\":\"white\",\"ticks\":\"\"}},\"title\":{\"x\":0.05},\"xaxis\":{\"automargin\":true,\"gridcolor\":\"white\",\"linecolor\":\"white\",\"ticks\":\"\",\"title\":{\"standoff\":15},\"zerolinecolor\":\"white\",\"zerolinewidth\":2},\"yaxis\":{\"automargin\":true,\"gridcolor\":\"white\",\"linecolor\":\"white\",\"ticks\":\"\",\"title\":{\"standoff\":15},\"zerolinecolor\":\"white\",\"zerolinewidth\":2}}}},                        {\"responsive\": true}                    ).then(function(){\n",
              "                            \n",
              "var gd = document.getElementById('891386e0-b634-4dff-8619-0aa5dcef5387');\n",
              "var x = new MutationObserver(function (mutations, observer) {{\n",
              "        var display = window.getComputedStyle(gd).display;\n",
              "        if (!display || display === 'none') {{\n",
              "            console.log([gd, 'removed!']);\n",
              "            Plotly.purge(gd);\n",
              "            observer.disconnect();\n",
              "        }}\n",
              "}});\n",
              "\n",
              "// Listen for the removal of the full notebook cells\n",
              "var notebookContainer = gd.closest('#notebook-container');\n",
              "if (notebookContainer) {{\n",
              "    x.observe(notebookContainer, {childList: true});\n",
              "}}\n",
              "\n",
              "// Listen for the clearing of the current output cell\n",
              "var outputEl = gd.closest('.output');\n",
              "if (outputEl) {{\n",
              "    x.observe(outputEl, {childList: true});\n",
              "}}\n",
              "\n",
              "                        })                };                            </script>        </div>\n",
              "</body>\n",
              "</html>"
            ]
          },
          "metadata": {}
        }
      ]
    },
    {
      "cell_type": "markdown",
      "source": [
        "**Data Preprocessing**"
      ],
      "metadata": {
        "id": "npiD2dU7GHbH"
      }
    },
    {
      "cell_type": "code",
      "source": [
        "data.isnull().sum()"
      ],
      "metadata": {
        "colab": {
          "base_uri": "https://localhost:8080/"
        },
        "id": "wypA4nxYGEiJ",
        "outputId": "0ba05b61-9ed2-456d-dc19-66a2db51e1d3"
      },
      "execution_count": null,
      "outputs": [
        {
          "output_type": "execute_result",
          "data": {
            "text/plain": [
              "timestamp         0\n",
              "Asset_ID          0\n",
              "Count             0\n",
              "Open              0\n",
              "High              0\n",
              "Low               0\n",
              "Close             0\n",
              "Volume            0\n",
              "VWAP              9\n",
              "Target       750338\n",
              "dtype: int64"
            ]
          },
          "metadata": {},
          "execution_count": 10
        }
      ]
    },
    {
      "cell_type": "code",
      "source": [
        "btc.isnull().sum()"
      ],
      "metadata": {
        "colab": {
          "base_uri": "https://localhost:8080/"
        },
        "id": "Be_DGwk4GLkB",
        "outputId": "e6e12c90-5dad-4526-ed9f-896453fd120f"
      },
      "execution_count": null,
      "outputs": [
        {
          "output_type": "execute_result",
          "data": {
            "text/plain": [
              "Asset_ID      0\n",
              "Count         0\n",
              "Open          0\n",
              "High          0\n",
              "Low           0\n",
              "Close         0\n",
              "Volume        0\n",
              "VWAP          0\n",
              "Target      304\n",
              "dtype: int64"
            ]
          },
          "metadata": {},
          "execution_count": 11
        }
      ]
    },
    {
      "cell_type": "markdown",
      "source": [
        "Missing asset data, for a given minute, is not represented by NaN's, but instead by the absence of those rows. We can check the timestamp difference between consecutive rows to see if there is missing data."
      ],
      "metadata": {
        "id": "rqnqL55wGX9Z"
      }
    },
    {
      "cell_type": "code",
      "source": [
        "(btc.index[1:]-btc.index[:-1]).value_counts().head()"
      ],
      "metadata": {
        "colab": {
          "base_uri": "https://localhost:8080/"
        },
        "id": "8IVwKE25GY4E",
        "outputId": "ad299381-a295-4d67-8e44-d1b7eb6b5f2d"
      },
      "execution_count": null,
      "outputs": [
        {
          "output_type": "execute_result",
          "data": {
            "text/plain": [
              "60     1956136\n",
              "120         78\n",
              "180         12\n",
              "240         11\n",
              "420          9\n",
              "Name: timestamp, dtype: int64"
            ]
          },
          "metadata": {},
          "execution_count": 12
        }
      ]
    },
    {
      "cell_type": "markdown",
      "source": [
        "Notice that there are many gaps in the data.\n",
        "\n",
        "Let's now see Ethereum."
      ],
      "metadata": {
        "id": "0xWcJO_fGezg"
      }
    },
    {
      "cell_type": "code",
      "source": [
        "eth.isnull().sum()"
      ],
      "metadata": {
        "colab": {
          "base_uri": "https://localhost:8080/"
        },
        "id": "IJKKju0WGffu",
        "outputId": "77580605-ba65-4cfe-fde7-081def6589c2"
      },
      "execution_count": null,
      "outputs": [
        {
          "output_type": "execute_result",
          "data": {
            "text/plain": [
              "Asset_ID      0\n",
              "Count         0\n",
              "Open          0\n",
              "High          0\n",
              "Low           0\n",
              "Close         0\n",
              "Volume        0\n",
              "VWAP          0\n",
              "Target      304\n",
              "dtype: int64"
            ]
          },
          "metadata": {},
          "execution_count": 13
        }
      ]
    },
    {
      "cell_type": "code",
      "source": [
        "(eth.index[1:]-eth.index[:-1]).value_counts().head()"
      ],
      "metadata": {
        "colab": {
          "base_uri": "https://localhost:8080/"
        },
        "id": "3dee3tWOGidh",
        "outputId": "be781796-4857-48ae-b968-ca1f817e512c"
      },
      "execution_count": null,
      "outputs": [
        {
          "output_type": "execute_result",
          "data": {
            "text/plain": [
              "60     1956136\n",
              "120         78\n",
              "180         12\n",
              "240         11\n",
              "420          9\n",
              "Name: timestamp, dtype: int64"
            ]
          },
          "metadata": {},
          "execution_count": 14
        }
      ]
    },
    {
      "cell_type": "markdown",
      "source": [
        "As expected it also has large gaps.\n",
        "\n",
        "To work with most time series models, we should preprocess our data into a format without time gaps.\n",
        "\n",
        "To fill the gaps, we can use the .reindex() method for forward filling, filling gaps with the previous valid value."
      ],
      "metadata": {
        "id": "3PK-NJwBGnCf"
      }
    },
    {
      "cell_type": "code",
      "source": [
        "btc = btc.reindex(range(btc.index[0],btc.index[-1]+60,60),method='pad')\n",
        "eth = eth.reindex(range(eth.index[0],eth.index[-1]+60,60),method='pad')"
      ],
      "metadata": {
        "id": "wY6-svz4GoTK"
      },
      "execution_count": null,
      "outputs": []
    },
    {
      "cell_type": "code",
      "source": [
        "(btc.index[1:]-btc.index[:-1]).value_counts().head()\n",
        "(eth.index[1:]-eth.index[:-1]).value_counts().head()"
      ],
      "metadata": {
        "colab": {
          "base_uri": "https://localhost:8080/"
        },
        "id": "zw4CE1EcGrvo",
        "outputId": "f3250124-6b95-4013-dc67-cc5f7112f60c"
      },
      "execution_count": null,
      "outputs": [
        {
          "output_type": "execute_result",
          "data": {
            "text/plain": [
              "60    1956959\n",
              "Name: timestamp, dtype: int64"
            ]
          },
          "metadata": {},
          "execution_count": 16
        }
      ]
    },
    {
      "cell_type": "markdown",
      "source": [
        "Clearly, their is no time gap now."
      ],
      "metadata": {
        "id": "OqSjv1d-Gyej"
      }
    },
    {
      "cell_type": "markdown",
      "source": [
        "**Feature Enginnering**"
      ],
      "metadata": {
        "id": "eobob227G10I"
      }
    },
    {
      "cell_type": "code",
      "source": [
        "def upper_shadow(df):\n",
        "    return df[\"High\"] - np.maximum(df[\"Close\"], df[\"Open\"])\n",
        "\n",
        "def lower_shadow(df):\n",
        "    return np.minimum(df[\"Close\"], df[\"Open\"]) - df[\"Low\"]"
      ],
      "metadata": {
        "id": "1QK96UWCGzDo"
      },
      "execution_count": null,
      "outputs": []
    },
    {
      "cell_type": "code",
      "source": [
        "def get_features(dataframe, row=False):\n",
        "    df_feat = dataframe.copy()\n",
        "    \n",
        "    df_feat[\"Upper_Shadow\"] = upper_shadow(df_feat)\n",
        "    df_feat[\"Lower_Shadow\"] = lower_shadow(df_feat)\n",
        "\n",
        "    ## Adding some more features\n",
        "    df_feat[\"Close/Open\"] = df_feat[\"Close\"] / df_feat[\"Open\"] \n",
        "    df_feat[\"Close-Open\"] = df_feat[\"Close\"] - df_feat[\"Open\"] \n",
        "    df_feat[\"High-Low\"] = df_feat[\"High\"] - df_feat[\"Low\"] \n",
        "    df_feat[\"High/Low\"] = df_feat[\"High\"] / df_feat[\"Low\"]\n",
        "    \n",
        "    if row:\n",
        "        df_feat['Mean'] = df_feat[['Open', 'High', 'Low', 'Close']].mean()\n",
        "    else:\n",
        "        df_feat['Mean'] = df_feat[['Open', 'High', 'Low', 'Close']].mean(axis=1)\n",
        "\n",
        "    df_feat[\"High/Mean\"] = df_feat[\"High\"] / df_feat[\"Mean\"]\n",
        "    df_feat[\"Low/Mean\"] = df_feat[\"Low\"] / df_feat[\"Mean\"]\n",
        "    df_feat[\"Volume/Count\"] = df_feat[\"Volume\"] / (df_feat[\"Count\"] + 1)\n",
        "\n",
        "    times = pd.to_datetime(df_feat[\"timestamp\"],unit=\"s\",infer_datetime_format=True)\n",
        "    if row:\n",
        "        df_feat[\"hour\"] = times.hour  # .dt\n",
        "        df_feat[\"dayofweek\"] = times.dayofweek \n",
        "        df_feat[\"day\"] = times.day \n",
        "    else:\n",
        "        df_feat[\"hour\"] = times.dt.hour  # .dt\n",
        "        df_feat[\"dayofweek\"] = times.dt.dayofweek \n",
        "        df_feat[\"day\"] = times.dt.day \n",
        "    \n",
        "    if row:\n",
        "        df_feat[\"Median\"] = df_feat[[\"Open\", \"High\", \"Low\", \"Close\"]].median()\n",
        "    else:\n",
        "        df_feat[\"Median\"] = df_feat[[\"Open\", \"High\", \"Low\", \"Close\"]].median(axis=1)\n",
        "    df_feat[\"High/Median\"] = df_feat[\"High\"] / df_feat[\"Median\"]\n",
        "    df_feat[\"Low/Median\"] = df_feat[\"Low\"] / df_feat[\"Median\"]\n",
        "\n",
        "    for col in ['Open', 'High', 'Low', 'Close', 'VWAP']:\n",
        "        df_feat[f\"Log_1p_{col}\"] = np.log1p(df_feat[col])\n",
        "        \n",
        "    if row:\n",
        "        df_feat.drop(['row_id', 'Asset_ID'], inplace=True)\n",
        "    else:\n",
        "        df_feat.drop(['Asset_ID'], axis=1, inplace=True)\n",
        "    \n",
        "    return df_feat"
      ],
      "metadata": {
        "id": "UoXwDlQAG6Ez"
      },
      "execution_count": null,
      "outputs": []
    },
    {
      "cell_type": "markdown",
      "source": [
        "**Model Building**"
      ],
      "metadata": {
        "id": "WLFWr1aOHAI9"
      }
    },
    {
      "cell_type": "code",
      "source": [
        "def model_building(df_data, asset_id):\n",
        "    data_set = df_data[df_data['Asset_ID'] == asset_id]\n",
        "    df = get_features(data_set)\n",
        "    df = df.replace([np.inf, -np.inf], np.nan).dropna(how=\"any\")\n",
        "    \n",
        "    df = reduce_memory_usage(df)\n",
        "    \n",
        "    X = df.drop(['Target'], axis=1)\n",
        "    y = df[\"Target\"]\n",
        "    \n",
        "    X_train, X_valid, y_train, y_valid = train_test_split(X, y, test_size=0.25, random_state=24, shuffle=False)\n",
        "    \n",
        "    scaler = StandardScaler()\n",
        "    X_train = scaler.fit_transform(X_train)\n",
        "    X_valid = scaler.transform(X_valid)\n",
        "    \n",
        "    model = LGBMRegressor(\n",
        "        n_estimators=1500, \n",
        "        num_leaves=700,\n",
        "        objective=\"regression\",\n",
        "        metric=\"rmse\",\n",
        "        boosting_type=\"gbdt\",\n",
        "        learning_rate=0.01,\n",
        "        random_state=24,\n",
        "        verbose=0,\n",
        "        force_col_wise=True,\n",
        "    )\n",
        "    \n",
        "    model.fit(X_train, y_train)\n",
        "        \n",
        "    return X_train, y_train, model"
      ],
      "metadata": {
        "id": "QM-23JaFG97-"
      },
      "execution_count": null,
      "outputs": []
    },
    {
      "cell_type": "code",
      "source": [
        "Xs = {}\n",
        "ys = {}\n",
        "models = {}\n",
        "print('Training Starting...')\n",
        "\n",
        "for asset, asset_name in zip(asset_id[\"Asset_ID\"], asset_id[\"Asset_Name\"]):\n",
        "    X, y, model = model_building(data, asset)\n",
        "    Xs[asset], ys[asset], models[asset] = X, y, model\n",
        "    \n",
        "print('Training Completed !!!')"
      ],
      "metadata": {
        "colab": {
          "base_uri": "https://localhost:8080/"
        },
        "id": "G_fu9q-sHI_t",
        "outputId": "d05d3db3-4c76-4f92-f6ed-43879e4f6e61"
      },
      "execution_count": null,
      "outputs": [
        {
          "output_type": "stream",
          "name": "stdout",
          "text": [
            "Training Starting...\n",
            "Training Completed !!!\n"
          ]
        }
      ]
    },
    {
      "cell_type": "code",
      "source": [
        "import gresearch_crypto\n",
        "\n",
        "env = gresearch_crypto.make_env()\n",
        "iter_test = env.iter_test()\n",
        "\n",
        "for i, (df_test, df_pred) in enumerate(iter_test):\n",
        "    for j , row in df_test.iterrows():\n",
        "        \n",
        "        model = models[row[\"Asset_ID\"]]\n",
        "        x_test = get_features(row, row=True)\n",
        "        y_pred = model.predict([x_test])[0]\n",
        "        \n",
        "        df_pred.loc[df_pred[\"row_id\"] == row[\"row_id\"], \"Target\"] = y_pred\n",
        "\n",
        "    # Send submissions\n",
        "    env.predict(df_pred)"
      ],
      "metadata": {
        "colab": {
          "base_uri": "https://localhost:8080/"
        },
        "id": "hwDnmq6vfpyc",
        "outputId": "281b7d40-fca2-4f13-ad31-f6fa32ceb0bb"
      },
      "execution_count": null,
      "outputs": [
        {
          "output_type": "stream",
          "name": "stdout",
          "text": [
            "This version of the API is not optimized and should not be used to estimate the runtime of your code on the hidden test set.\n"
          ]
        }
      ]
    },
    {
      "cell_type": "code",
      "source": [
        "df_pred"
      ],
      "metadata": {
        "colab": {
          "base_uri": "https://localhost:8080/",
          "height": 488
        },
        "id": "Zm7aNsIzf7B1",
        "outputId": "4919495b-b2d8-41db-e587-c08f4b0ea646"
      },
      "execution_count": null,
      "outputs": [
        {
          "output_type": "execute_result",
          "data": {
            "text/plain": [
              "    row_id    Target\n",
              "0       42 -0.003269\n",
              "1       43 -0.008273\n",
              "2       44 -0.002449\n",
              "3       45 -0.010529\n",
              "4       46  0.003435\n",
              "5       47 -0.007635\n",
              "6       48 -0.015204\n",
              "7       49 -0.000528\n",
              "8       50 -0.020917\n",
              "9       51 -0.011755\n",
              "10      52 -0.012961\n",
              "11      53  0.006515\n",
              "12      54  0.005588\n",
              "13      55 -0.016283"
            ],
            "text/html": [
              "\n",
              "  <div id=\"df-c2162872-1f8a-4ce1-80ff-037c442ee67e\">\n",
              "    <div class=\"colab-df-container\">\n",
              "      <div>\n",
              "<style scoped>\n",
              "    .dataframe tbody tr th:only-of-type {\n",
              "        vertical-align: middle;\n",
              "    }\n",
              "\n",
              "    .dataframe tbody tr th {\n",
              "        vertical-align: top;\n",
              "    }\n",
              "\n",
              "    .dataframe thead th {\n",
              "        text-align: right;\n",
              "    }\n",
              "</style>\n",
              "<table border=\"1\" class=\"dataframe\">\n",
              "  <thead>\n",
              "    <tr style=\"text-align: right;\">\n",
              "      <th></th>\n",
              "      <th>row_id</th>\n",
              "      <th>Target</th>\n",
              "    </tr>\n",
              "  </thead>\n",
              "  <tbody>\n",
              "    <tr>\n",
              "      <th>0</th>\n",
              "      <td>42</td>\n",
              "      <td>-0.003269</td>\n",
              "    </tr>\n",
              "    <tr>\n",
              "      <th>1</th>\n",
              "      <td>43</td>\n",
              "      <td>-0.008273</td>\n",
              "    </tr>\n",
              "    <tr>\n",
              "      <th>2</th>\n",
              "      <td>44</td>\n",
              "      <td>-0.002449</td>\n",
              "    </tr>\n",
              "    <tr>\n",
              "      <th>3</th>\n",
              "      <td>45</td>\n",
              "      <td>-0.010529</td>\n",
              "    </tr>\n",
              "    <tr>\n",
              "      <th>4</th>\n",
              "      <td>46</td>\n",
              "      <td>0.003435</td>\n",
              "    </tr>\n",
              "    <tr>\n",
              "      <th>5</th>\n",
              "      <td>47</td>\n",
              "      <td>-0.007635</td>\n",
              "    </tr>\n",
              "    <tr>\n",
              "      <th>6</th>\n",
              "      <td>48</td>\n",
              "      <td>-0.015204</td>\n",
              "    </tr>\n",
              "    <tr>\n",
              "      <th>7</th>\n",
              "      <td>49</td>\n",
              "      <td>-0.000528</td>\n",
              "    </tr>\n",
              "    <tr>\n",
              "      <th>8</th>\n",
              "      <td>50</td>\n",
              "      <td>-0.020917</td>\n",
              "    </tr>\n",
              "    <tr>\n",
              "      <th>9</th>\n",
              "      <td>51</td>\n",
              "      <td>-0.011755</td>\n",
              "    </tr>\n",
              "    <tr>\n",
              "      <th>10</th>\n",
              "      <td>52</td>\n",
              "      <td>-0.012961</td>\n",
              "    </tr>\n",
              "    <tr>\n",
              "      <th>11</th>\n",
              "      <td>53</td>\n",
              "      <td>0.006515</td>\n",
              "    </tr>\n",
              "    <tr>\n",
              "      <th>12</th>\n",
              "      <td>54</td>\n",
              "      <td>0.005588</td>\n",
              "    </tr>\n",
              "    <tr>\n",
              "      <th>13</th>\n",
              "      <td>55</td>\n",
              "      <td>-0.016283</td>\n",
              "    </tr>\n",
              "  </tbody>\n",
              "</table>\n",
              "</div>\n",
              "      <button class=\"colab-df-convert\" onclick=\"convertToInteractive('df-c2162872-1f8a-4ce1-80ff-037c442ee67e')\"\n",
              "              title=\"Convert this dataframe to an interactive table.\"\n",
              "              style=\"display:none;\">\n",
              "        \n",
              "  <svg xmlns=\"http://www.w3.org/2000/svg\" height=\"24px\"viewBox=\"0 0 24 24\"\n",
              "       width=\"24px\">\n",
              "    <path d=\"M0 0h24v24H0V0z\" fill=\"none\"/>\n",
              "    <path d=\"M18.56 5.44l.94 2.06.94-2.06 2.06-.94-2.06-.94-.94-2.06-.94 2.06-2.06.94zm-11 1L8.5 8.5l.94-2.06 2.06-.94-2.06-.94L8.5 2.5l-.94 2.06-2.06.94zm10 10l.94 2.06.94-2.06 2.06-.94-2.06-.94-.94-2.06-.94 2.06-2.06.94z\"/><path d=\"M17.41 7.96l-1.37-1.37c-.4-.4-.92-.59-1.43-.59-.52 0-1.04.2-1.43.59L10.3 9.45l-7.72 7.72c-.78.78-.78 2.05 0 2.83L4 21.41c.39.39.9.59 1.41.59.51 0 1.02-.2 1.41-.59l7.78-7.78 2.81-2.81c.8-.78.8-2.07 0-2.86zM5.41 20L4 18.59l7.72-7.72 1.47 1.35L5.41 20z\"/>\n",
              "  </svg>\n",
              "      </button>\n",
              "      \n",
              "  <style>\n",
              "    .colab-df-container {\n",
              "      display:flex;\n",
              "      flex-wrap:wrap;\n",
              "      gap: 12px;\n",
              "    }\n",
              "\n",
              "    .colab-df-convert {\n",
              "      background-color: #E8F0FE;\n",
              "      border: none;\n",
              "      border-radius: 50%;\n",
              "      cursor: pointer;\n",
              "      display: none;\n",
              "      fill: #1967D2;\n",
              "      height: 32px;\n",
              "      padding: 0 0 0 0;\n",
              "      width: 32px;\n",
              "    }\n",
              "\n",
              "    .colab-df-convert:hover {\n",
              "      background-color: #E2EBFA;\n",
              "      box-shadow: 0px 1px 2px rgba(60, 64, 67, 0.3), 0px 1px 3px 1px rgba(60, 64, 67, 0.15);\n",
              "      fill: #174EA6;\n",
              "    }\n",
              "\n",
              "    [theme=dark] .colab-df-convert {\n",
              "      background-color: #3B4455;\n",
              "      fill: #D2E3FC;\n",
              "    }\n",
              "\n",
              "    [theme=dark] .colab-df-convert:hover {\n",
              "      background-color: #434B5C;\n",
              "      box-shadow: 0px 1px 3px 1px rgba(0, 0, 0, 0.15);\n",
              "      filter: drop-shadow(0px 1px 2px rgba(0, 0, 0, 0.3));\n",
              "      fill: #FFFFFF;\n",
              "    }\n",
              "  </style>\n",
              "\n",
              "      <script>\n",
              "        const buttonEl =\n",
              "          document.querySelector('#df-c2162872-1f8a-4ce1-80ff-037c442ee67e button.colab-df-convert');\n",
              "        buttonEl.style.display =\n",
              "          google.colab.kernel.accessAllowed ? 'block' : 'none';\n",
              "\n",
              "        async function convertToInteractive(key) {\n",
              "          const element = document.querySelector('#df-c2162872-1f8a-4ce1-80ff-037c442ee67e');\n",
              "          const dataTable =\n",
              "            await google.colab.kernel.invokeFunction('convertToInteractive',\n",
              "                                                     [key], {});\n",
              "          if (!dataTable) return;\n",
              "\n",
              "          const docLinkHtml = 'Like what you see? Visit the ' +\n",
              "            '<a target=\"_blank\" href=https://colab.research.google.com/notebooks/data_table.ipynb>data table notebook</a>'\n",
              "            + ' to learn more about interactive tables.';\n",
              "          element.innerHTML = '';\n",
              "          dataTable['output_type'] = 'display_data';\n",
              "          await google.colab.output.renderOutput(dataTable, element);\n",
              "          const docLink = document.createElement('div');\n",
              "          docLink.innerHTML = docLinkHtml;\n",
              "          element.appendChild(docLink);\n",
              "        }\n",
              "      </script>\n",
              "    </div>\n",
              "  </div>\n",
              "  "
            ]
          },
          "metadata": {},
          "execution_count": 22
        }
      ]
    }
  ]
}