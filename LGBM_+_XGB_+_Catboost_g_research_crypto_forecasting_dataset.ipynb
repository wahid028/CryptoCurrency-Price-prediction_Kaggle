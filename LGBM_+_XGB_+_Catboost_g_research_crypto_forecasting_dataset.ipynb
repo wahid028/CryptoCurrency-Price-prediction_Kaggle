{
  "nbformat": 4,
  "nbformat_minor": 0,
  "metadata": {
    "colab": {
      "name": "LGBM + XGB + Catboost_g-research-crypto-forecasting dataset.ipynb",
      "provenance": [],
      "authorship_tag": "ABX9TyMRDmVlgbWhoRiWy2Qnau00",
      "include_colab_link": true
    },
    "kernelspec": {
      "name": "python3",
      "display_name": "Python 3"
    },
    "language_info": {
      "name": "python"
    },
    "accelerator": "TPU"
  },
  "cells": [
    {
      "cell_type": "markdown",
      "metadata": {
        "id": "view-in-github",
        "colab_type": "text"
      },
      "source": [
        "<a href=\"https://colab.research.google.com/github/wahid028/CryptoCurrency-Price-prediction_Kaggle/blob/main/LGBM_%2B_XGB_%2B_Catboost_g_research_crypto_forecasting_dataset.ipynb\" target=\"_parent\"><img src=\"https://colab.research.google.com/assets/colab-badge.svg\" alt=\"Open In Colab\"/></a>"
      ]
    },
    {
      "cell_type": "markdown",
      "source": [
        "## **Connecting colab with kaggle using kaggle API**"
      ],
      "metadata": {
        "id": "9nVySSniIMd3"
      }
    },
    {
      "cell_type": "code",
      "source": [
        "#install kaggle\n",
        "!pip install -q kaggle"
      ],
      "metadata": {
        "id": "rusnBvv7IOVG"
      },
      "execution_count": 1,
      "outputs": []
    },
    {
      "cell_type": "code",
      "source": [
        "#upload the kaggle.json file\n",
        "from google.colab import files\n",
        "files.upload()"
      ],
      "metadata": {
        "colab": {
          "resources": {
            "http://localhost:8080/nbextensions/google.colab/files.js": {
              "data": "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",
              "ok": true,
              "headers": [
                [
                  "content-type",
                  "application/javascript"
                ]
              ],
              "status": 200,
              "status_text": ""
            }
          },
          "base_uri": "https://localhost:8080/",
          "height": 90
        },
        "id": "Z7fIGKsuITNS",
        "outputId": "aedf5469-bbb2-41e3-897c-2bc4ab6c9233"
      },
      "execution_count": 2,
      "outputs": [
        {
          "output_type": "display_data",
          "data": {
            "text/plain": [
              "<IPython.core.display.HTML object>"
            ],
            "text/html": [
              "\n",
              "     <input type=\"file\" id=\"files-66353eb2-cbd9-4ec0-8ad7-113acf128035\" name=\"files[]\" multiple disabled\n",
              "        style=\"border:none\" />\n",
              "     <output id=\"result-66353eb2-cbd9-4ec0-8ad7-113acf128035\">\n",
              "      Upload widget is only available when the cell has been executed in the\n",
              "      current browser session. Please rerun this cell to enable.\n",
              "      </output>\n",
              "      <script src=\"/nbextensions/google.colab/files.js\"></script> "
            ]
          },
          "metadata": {}
        },
        {
          "output_type": "stream",
          "name": "stdout",
          "text": [
            "Saving kaggle.json to kaggle.json\n"
          ]
        },
        {
          "output_type": "execute_result",
          "data": {
            "text/plain": [
              "{'kaggle.json': b'{\"username\":\"learn2know\",\"key\":\"ef7c1f3683ce0590f0cee38b88d74d21\"}'}"
            ]
          },
          "metadata": {},
          "execution_count": 2
        }
      ]
    },
    {
      "cell_type": "code",
      "source": [
        "#create a kaggle directory\n",
        "!mkdir ~/.kaggle"
      ],
      "metadata": {
        "id": "GEFQpnWlIXR2"
      },
      "execution_count": 3,
      "outputs": []
    },
    {
      "cell_type": "code",
      "source": [
        "#copy the kaggle.json to kaggle directory\n",
        "!cp kaggle.json ~/.kaggle/"
      ],
      "metadata": {
        "id": "Vuzan4D-IdEB"
      },
      "execution_count": 4,
      "outputs": []
    },
    {
      "cell_type": "code",
      "source": [
        "#permission for the json to act\n",
        "!chmod 600 ~/.kaggle/kaggle.json"
      ],
      "metadata": {
        "id": "nHOJeW4KIeMT"
      },
      "execution_count": 5,
      "outputs": []
    },
    {
      "cell_type": "code",
      "source": [
        "#list all the available dataset in kaggle\n",
        "!kaggle datasets list"
      ],
      "metadata": {
        "colab": {
          "base_uri": "https://localhost:8080/"
        },
        "id": "71zMfQ_BIheY",
        "outputId": "6b30b34f-75af-403f-d7fe-ee55d1082da1"
      },
      "execution_count": 6,
      "outputs": [
        {
          "output_type": "stream",
          "name": "stdout",
          "text": [
            "ref                                                                   title                                             size  lastUpdated          downloadCount  voteCount  usabilityRating  \n",
            "--------------------------------------------------------------------  -----------------------------------------------  -----  -------------------  -------------  ---------  ---------------  \n",
            "muratkokludataset/date-fruit-datasets                                 Date Fruit Datasets                              408KB  2022-04-03 09:25:39           9949       1346  0.9375           \n",
            "victorsoeiro/netflix-tv-shows-and-movies                              Netflix TV Shows and Movies                        2MB  2022-05-15 00:01:23           2048         72  1.0              \n",
            "mdmahmudulhasansuzan/students-adaptability-level-in-online-education  Students Adaptability Level in Online Education    6KB  2022-04-16 04:46:28           6628        168  1.0              \n",
            "muratkokludataset/acoustic-extinguisher-fire-dataset                  Acoustic Extinguisher Fire Dataset               621KB  2022-04-02 22:59:36           1580       1165  0.9375           \n",
            "muratkokludataset/rice-image-dataset                                  Rice Image Dataset                               219MB  2022-04-03 02:12:00           1951       1112  0.875            \n",
            "muratkokludataset/raisin-dataset                                      Raisin Dataset                                   112KB  2022-04-03 00:23:16            790        993  0.9375           \n",
            "muratkokludataset/dry-bean-dataset                                    Dry Bean Dataset                                   5MB  2022-04-02 23:19:30            632        989  0.9375           \n",
            "paradisejoy/top-hits-spotify-from-20002019                            Top Hits Spotify from 2000-2019                   94KB  2022-04-26 17:30:03           2389         59  1.0              \n",
            "muratkokludataset/pistachio-dataset                                   Pistachio Dataset                                  2MB  2022-04-03 08:38:21            680       1011  0.9375           \n",
            "muratkokludataset/rice-msc-dataset                                    Rice MSC Dataset                                 102MB  2022-04-03 01:33:52            305        980  0.9375           \n",
            "muratkokludataset/grapevine-leaves-image-dataset                      Grapevine Leaves Image Dataset                   109MB  2022-04-03 09:00:54            248       1018  0.875            \n",
            "muratkokludataset/rice-dataset-commeo-and-osmancik                    Rice Dataset Commeo and Osmancik                 524KB  2022-04-03 00:40:03            163        968  0.875            \n",
            "muratkokludataset/durum-wheat-dataset                                 Durum Wheat Dataset                              983MB  2022-04-03 00:02:29            121        990  0.875            \n",
            "mysarahmadbhat/airline-passenger-satisfaction                         Airline Passenger Satisfaction                     2MB  2022-05-19 11:46:02            789         21  1.0              \n",
            "muratkokludataset/pistachio-image-dataset                             Pistachio Image Dataset                           27MB  2022-03-28 18:01:27            660       1059  0.9375           \n",
            "muratkokludataset/pumpkin-seeds-dataset                               Pumpkin Seeds Dataset                            393KB  2022-03-28 18:28:16            774        987  0.9375           \n",
            "ujjwalchowdhury/energy-efficiency-data-set                            Energy Efficiency Data Set                         6KB  2022-05-12 13:51:03            813         35  0.9705882        \n",
            "surajjha101/stores-area-and-sales-data                                Supermarket store branches sales analysis         10KB  2022-04-29 11:10:16           2161         78  1.0              \n",
            "rinichristy/covid19-coronavirus-pandemic                              COVID-19 Coronavirus Pandemic                      9KB  2022-04-05 08:43:16           5045        116  1.0              \n",
            "jjdaguirre/forbes-billionaires-2022                                   Forbes billionaires 2022                          56KB  2022-04-30 18:48:22           1020         30  1.0              \n"
          ]
        }
      ]
    },
    {
      "cell_type": "markdown",
      "source": [
        "## **Get g-research-crypto-forecasting dataset**"
      ],
      "metadata": {
        "id": "1THGCO0xIkfN"
      }
    },
    {
      "cell_type": "code",
      "source": [
        "!kaggle competitions download -c g-research-crypto-forecasting"
      ],
      "metadata": {
        "colab": {
          "base_uri": "https://localhost:8080/"
        },
        "id": "btQqIcpXImuB",
        "outputId": "e4e78ea9-35dc-4c31-f6ab-c4b804b21c5f"
      },
      "execution_count": 7,
      "outputs": [
        {
          "output_type": "stream",
          "name": "stdout",
          "text": [
            "Downloading g-research-crypto-forecasting.zip to /content\n",
            "100% 1.13G/1.13G [00:13<00:00, 135MB/s]\n",
            "100% 1.13G/1.13G [00:13<00:00, 90.2MB/s]\n"
          ]
        }
      ]
    },
    {
      "cell_type": "code",
      "source": [
        "#unzip the target file\n",
        "!unzip g-research-crypto-forecasting.zip"
      ],
      "metadata": {
        "colab": {
          "base_uri": "https://localhost:8080/"
        },
        "id": "zL-T5zfYIs7F",
        "outputId": "c87cc239-f752-4c21-9c79-abda4b7b4425"
      },
      "execution_count": 8,
      "outputs": [
        {
          "output_type": "stream",
          "name": "stdout",
          "text": [
            "Archive:  g-research-crypto-forecasting.zip\n",
            "  inflating: asset_details.csv       \n",
            "  inflating: example_sample_submission.csv  \n",
            "  inflating: example_test.csv        \n",
            "  inflating: gresearch_crypto/__init__.py  \n",
            "  inflating: gresearch_crypto/competition.cpython-37m-x86_64-linux-gnu.so  \n",
            "  inflating: supplemental_train.csv  \n",
            "  inflating: train.csv               \n"
          ]
        }
      ]
    },
    {
      "cell_type": "markdown",
      "source": [
        "## **LGBM + XGB + Catboost**"
      ],
      "metadata": {
        "id": "hgqNmASFI8JP"
      }
    },
    {
      "cell_type": "code",
      "source": [
        "!pip install catboost"
      ],
      "metadata": {
        "colab": {
          "base_uri": "https://localhost:8080/"
        },
        "id": "zzRtM3dKJcdj",
        "outputId": "d6cafdcd-5dcf-4a9d-c9c1-d7a5e796f092"
      },
      "execution_count": 10,
      "outputs": [
        {
          "output_type": "stream",
          "name": "stdout",
          "text": [
            "Looking in indexes: https://pypi.org/simple, https://us-python.pkg.dev/colab-wheels/public/simple/\n",
            "Collecting catboost\n",
            "  Downloading catboost-1.0.6-cp37-none-manylinux1_x86_64.whl (76.6 MB)\n",
            "\u001b[K     |████████████████████████████████| 76.6 MB 1.2 MB/s \n",
            "\u001b[?25hRequirement already satisfied: pandas>=0.24.0 in /usr/local/lib/python3.7/dist-packages (from catboost) (1.3.5)\n",
            "Requirement already satisfied: six in /usr/local/lib/python3.7/dist-packages (from catboost) (1.15.0)\n",
            "Requirement already satisfied: numpy>=1.16.0 in /usr/local/lib/python3.7/dist-packages (from catboost) (1.21.6)\n",
            "Requirement already satisfied: graphviz in /usr/local/lib/python3.7/dist-packages (from catboost) (0.10.1)\n",
            "Requirement already satisfied: scipy in /usr/local/lib/python3.7/dist-packages (from catboost) (1.4.1)\n",
            "Requirement already satisfied: matplotlib in /usr/local/lib/python3.7/dist-packages (from catboost) (3.2.2)\n",
            "Requirement already satisfied: plotly in /usr/local/lib/python3.7/dist-packages (from catboost) (5.5.0)\n",
            "Requirement already satisfied: pytz>=2017.3 in /usr/local/lib/python3.7/dist-packages (from pandas>=0.24.0->catboost) (2022.1)\n",
            "Requirement already satisfied: python-dateutil>=2.7.3 in /usr/local/lib/python3.7/dist-packages (from pandas>=0.24.0->catboost) (2.8.2)\n",
            "Requirement already satisfied: pyparsing!=2.0.4,!=2.1.2,!=2.1.6,>=2.0.1 in /usr/local/lib/python3.7/dist-packages (from matplotlib->catboost) (3.0.9)\n",
            "Requirement already satisfied: cycler>=0.10 in /usr/local/lib/python3.7/dist-packages (from matplotlib->catboost) (0.11.0)\n",
            "Requirement already satisfied: kiwisolver>=1.0.1 in /usr/local/lib/python3.7/dist-packages (from matplotlib->catboost) (1.4.2)\n",
            "Requirement already satisfied: typing-extensions in /usr/local/lib/python3.7/dist-packages (from kiwisolver>=1.0.1->matplotlib->catboost) (4.2.0)\n",
            "Requirement already satisfied: tenacity>=6.2.0 in /usr/local/lib/python3.7/dist-packages (from plotly->catboost) (8.0.1)\n",
            "Installing collected packages: catboost\n",
            "Successfully installed catboost-1.0.6\n"
          ]
        }
      ]
    },
    {
      "cell_type": "code",
      "source": [
        "import numpy as np # linear algebra\n",
        "import pandas as pd # data processing, CSV file I/O (e.g. pd.read_csv)\n",
        "# Different Regressor libraries \n",
        "from lightgbm import LGBMRegressor # LGBM Regressor\n",
        "import xgboost as xgb # XGB Regressor\n",
        "from catboost import CatBoostRegressor # CatBoost Resgressor\n",
        "import gresearch_crypto\n",
        "import traceback"
      ],
      "metadata": {
        "id": "nln80RwqI9vO"
      },
      "execution_count": 11,
      "outputs": []
    },
    {
      "cell_type": "code",
      "source": [
        "# Read the Crypto dataset files\n",
        "df_train = pd.read_csv('../content/train.csv')\n",
        "df_asset = pd.read_csv('../content/asset_details.csv').sort_values(\"Asset_ID\")"
      ],
      "metadata": {
        "id": "s6GBTddzJnQf"
      },
      "execution_count": 12,
      "outputs": []
    },
    {
      "cell_type": "code",
      "source": [
        "# Modify the training dataset\n",
        "df_train.replace([np.inf, -np.inf], np.nan, inplace=True)\n",
        "df_train = df_train.dropna()\n",
        "\n",
        "# Modify the Assest Dataset\n",
        "df_asset.replace([np.inf, -np.inf], np.nan, inplace=True)\n",
        "df_asset = df_asset.dropna()"
      ],
      "metadata": {
        "id": "uW7WozSTJ73W"
      },
      "execution_count": 13,
      "outputs": []
    },
    {
      "cell_type": "code",
      "source": [
        "# Asset dataset details are following.\n",
        "df_asset"
      ],
      "metadata": {
        "colab": {
          "base_uri": "https://localhost:8080/",
          "height": 488
        },
        "id": "Qw5kt-gaJ-i0",
        "outputId": "51ac5f51-b7ed-4895-8c54-960ffafa1a52"
      },
      "execution_count": 14,
      "outputs": [
        {
          "output_type": "execute_result",
          "data": {
            "text/plain": [
              "    Asset_ID    Weight        Asset_Name\n",
              "1          0  4.304065      Binance Coin\n",
              "2          1  6.779922           Bitcoin\n",
              "0          2  2.397895      Bitcoin Cash\n",
              "10         3  4.406719           Cardano\n",
              "13         4  3.555348          Dogecoin\n",
              "3          5  1.386294            EOS.IO\n",
              "5          6  5.894403          Ethereum\n",
              "4          7  2.079442  Ethereum Classic\n",
              "11         8  1.098612              IOTA\n",
              "6          9  2.397895          Litecoin\n",
              "12        10  1.098612             Maker\n",
              "7         11  1.609438            Monero\n",
              "9         12  2.079442           Stellar\n",
              "8         13  1.791759              TRON"
            ],
            "text/html": [
              "\n",
              "  <div id=\"df-8c469ee3-b073-4ea9-8193-b59a5d9ce83d\">\n",
              "    <div class=\"colab-df-container\">\n",
              "      <div>\n",
              "<style scoped>\n",
              "    .dataframe tbody tr th:only-of-type {\n",
              "        vertical-align: middle;\n",
              "    }\n",
              "\n",
              "    .dataframe tbody tr th {\n",
              "        vertical-align: top;\n",
              "    }\n",
              "\n",
              "    .dataframe thead th {\n",
              "        text-align: right;\n",
              "    }\n",
              "</style>\n",
              "<table border=\"1\" class=\"dataframe\">\n",
              "  <thead>\n",
              "    <tr style=\"text-align: right;\">\n",
              "      <th></th>\n",
              "      <th>Asset_ID</th>\n",
              "      <th>Weight</th>\n",
              "      <th>Asset_Name</th>\n",
              "    </tr>\n",
              "  </thead>\n",
              "  <tbody>\n",
              "    <tr>\n",
              "      <th>1</th>\n",
              "      <td>0</td>\n",
              "      <td>4.304065</td>\n",
              "      <td>Binance Coin</td>\n",
              "    </tr>\n",
              "    <tr>\n",
              "      <th>2</th>\n",
              "      <td>1</td>\n",
              "      <td>6.779922</td>\n",
              "      <td>Bitcoin</td>\n",
              "    </tr>\n",
              "    <tr>\n",
              "      <th>0</th>\n",
              "      <td>2</td>\n",
              "      <td>2.397895</td>\n",
              "      <td>Bitcoin Cash</td>\n",
              "    </tr>\n",
              "    <tr>\n",
              "      <th>10</th>\n",
              "      <td>3</td>\n",
              "      <td>4.406719</td>\n",
              "      <td>Cardano</td>\n",
              "    </tr>\n",
              "    <tr>\n",
              "      <th>13</th>\n",
              "      <td>4</td>\n",
              "      <td>3.555348</td>\n",
              "      <td>Dogecoin</td>\n",
              "    </tr>\n",
              "    <tr>\n",
              "      <th>3</th>\n",
              "      <td>5</td>\n",
              "      <td>1.386294</td>\n",
              "      <td>EOS.IO</td>\n",
              "    </tr>\n",
              "    <tr>\n",
              "      <th>5</th>\n",
              "      <td>6</td>\n",
              "      <td>5.894403</td>\n",
              "      <td>Ethereum</td>\n",
              "    </tr>\n",
              "    <tr>\n",
              "      <th>4</th>\n",
              "      <td>7</td>\n",
              "      <td>2.079442</td>\n",
              "      <td>Ethereum Classic</td>\n",
              "    </tr>\n",
              "    <tr>\n",
              "      <th>11</th>\n",
              "      <td>8</td>\n",
              "      <td>1.098612</td>\n",
              "      <td>IOTA</td>\n",
              "    </tr>\n",
              "    <tr>\n",
              "      <th>6</th>\n",
              "      <td>9</td>\n",
              "      <td>2.397895</td>\n",
              "      <td>Litecoin</td>\n",
              "    </tr>\n",
              "    <tr>\n",
              "      <th>12</th>\n",
              "      <td>10</td>\n",
              "      <td>1.098612</td>\n",
              "      <td>Maker</td>\n",
              "    </tr>\n",
              "    <tr>\n",
              "      <th>7</th>\n",
              "      <td>11</td>\n",
              "      <td>1.609438</td>\n",
              "      <td>Monero</td>\n",
              "    </tr>\n",
              "    <tr>\n",
              "      <th>9</th>\n",
              "      <td>12</td>\n",
              "      <td>2.079442</td>\n",
              "      <td>Stellar</td>\n",
              "    </tr>\n",
              "    <tr>\n",
              "      <th>8</th>\n",
              "      <td>13</td>\n",
              "      <td>1.791759</td>\n",
              "      <td>TRON</td>\n",
              "    </tr>\n",
              "  </tbody>\n",
              "</table>\n",
              "</div>\n",
              "      <button class=\"colab-df-convert\" onclick=\"convertToInteractive('df-8c469ee3-b073-4ea9-8193-b59a5d9ce83d')\"\n",
              "              title=\"Convert this dataframe to an interactive table.\"\n",
              "              style=\"display:none;\">\n",
              "        \n",
              "  <svg xmlns=\"http://www.w3.org/2000/svg\" height=\"24px\"viewBox=\"0 0 24 24\"\n",
              "       width=\"24px\">\n",
              "    <path d=\"M0 0h24v24H0V0z\" fill=\"none\"/>\n",
              "    <path d=\"M18.56 5.44l.94 2.06.94-2.06 2.06-.94-2.06-.94-.94-2.06-.94 2.06-2.06.94zm-11 1L8.5 8.5l.94-2.06 2.06-.94-2.06-.94L8.5 2.5l-.94 2.06-2.06.94zm10 10l.94 2.06.94-2.06 2.06-.94-2.06-.94-.94-2.06-.94 2.06-2.06.94z\"/><path d=\"M17.41 7.96l-1.37-1.37c-.4-.4-.92-.59-1.43-.59-.52 0-1.04.2-1.43.59L10.3 9.45l-7.72 7.72c-.78.78-.78 2.05 0 2.83L4 21.41c.39.39.9.59 1.41.59.51 0 1.02-.2 1.41-.59l7.78-7.78 2.81-2.81c.8-.78.8-2.07 0-2.86zM5.41 20L4 18.59l7.72-7.72 1.47 1.35L5.41 20z\"/>\n",
              "  </svg>\n",
              "      </button>\n",
              "      \n",
              "  <style>\n",
              "    .colab-df-container {\n",
              "      display:flex;\n",
              "      flex-wrap:wrap;\n",
              "      gap: 12px;\n",
              "    }\n",
              "\n",
              "    .colab-df-convert {\n",
              "      background-color: #E8F0FE;\n",
              "      border: none;\n",
              "      border-radius: 50%;\n",
              "      cursor: pointer;\n",
              "      display: none;\n",
              "      fill: #1967D2;\n",
              "      height: 32px;\n",
              "      padding: 0 0 0 0;\n",
              "      width: 32px;\n",
              "    }\n",
              "\n",
              "    .colab-df-convert:hover {\n",
              "      background-color: #E2EBFA;\n",
              "      box-shadow: 0px 1px 2px rgba(60, 64, 67, 0.3), 0px 1px 3px 1px rgba(60, 64, 67, 0.15);\n",
              "      fill: #174EA6;\n",
              "    }\n",
              "\n",
              "    [theme=dark] .colab-df-convert {\n",
              "      background-color: #3B4455;\n",
              "      fill: #D2E3FC;\n",
              "    }\n",
              "\n",
              "    [theme=dark] .colab-df-convert:hover {\n",
              "      background-color: #434B5C;\n",
              "      box-shadow: 0px 1px 3px 1px rgba(0, 0, 0, 0.15);\n",
              "      filter: drop-shadow(0px 1px 2px rgba(0, 0, 0, 0.3));\n",
              "      fill: #FFFFFF;\n",
              "    }\n",
              "  </style>\n",
              "\n",
              "      <script>\n",
              "        const buttonEl =\n",
              "          document.querySelector('#df-8c469ee3-b073-4ea9-8193-b59a5d9ce83d button.colab-df-convert');\n",
              "        buttonEl.style.display =\n",
              "          google.colab.kernel.accessAllowed ? 'block' : 'none';\n",
              "\n",
              "        async function convertToInteractive(key) {\n",
              "          const element = document.querySelector('#df-8c469ee3-b073-4ea9-8193-b59a5d9ce83d');\n",
              "          const dataTable =\n",
              "            await google.colab.kernel.invokeFunction('convertToInteractive',\n",
              "                                                     [key], {});\n",
              "          if (!dataTable) return;\n",
              "\n",
              "          const docLinkHtml = 'Like what you see? Visit the ' +\n",
              "            '<a target=\"_blank\" href=https://colab.research.google.com/notebooks/data_table.ipynb>data table notebook</a>'\n",
              "            + ' to learn more about interactive tables.';\n",
              "          element.innerHTML = '';\n",
              "          dataTable['output_type'] = 'display_data';\n",
              "          await google.colab.output.renderOutput(dataTable, element);\n",
              "          const docLink = document.createElement('div');\n",
              "          docLink.innerHTML = docLinkHtml;\n",
              "          element.appendChild(docLink);\n",
              "        }\n",
              "      </script>\n",
              "    </div>\n",
              "  </div>\n",
              "  "
            ]
          },
          "metadata": {},
          "execution_count": 14
        }
      ]
    },
    {
      "cell_type": "markdown",
      "source": [
        "**Utility Function**\n",
        "These function are used to create the some new features which are useful for the model. Special thanks to @DATAISTA0 (JULIÁN PELLER) [notebook](https://www.kaggle.com/julian3833/g-research-starter-lgbm-pipeline) for functionality."
      ],
      "metadata": {
        "id": "W1BflShlKBP0"
      }
    },
    {
      "cell_type": "code",
      "source": [
        "# Two new features from the competition tutorial\n",
        "def upper_shadow(df):\n",
        "    return df['High'] - np.maximum(df['Close'], df['Open'])\n",
        "\n",
        "def lower_shadow(df):\n",
        "    return np.minimum(df['Close'], df['Open']) - df['Low']\n",
        "\n",
        "# Extract Asset features\n",
        "def get_features(df):\n",
        "    df_feat = df[['Count', 'Open', 'High', 'Low', 'Close', 'Volume', 'VWAP']].copy()\n",
        "    df_feat['Upper_Shadow'] = upper_shadow(df_feat)\n",
        "    df_feat['Lower_Shadow'] = lower_shadow(df_feat)\n",
        "    return df_feat\n",
        "\n",
        "# Extract features from dataset\n",
        "def get_Xy_features(df_train, df_asset_id):\n",
        "    # Modfify with respect to 'asset ID'\n",
        "    df = df_train[df_train[\"Asset_ID\"] == df_asset_id]\n",
        "    df_proc = get_features(df)\n",
        "    df_proc['y'] = df['Target']\n",
        "    df_proc = df_proc.dropna(how=\"any\")\n",
        "    \n",
        "    # X, y features from the dataset.\n",
        "    X = df_proc.drop(\"y\", axis=1)\n",
        "    y = df_proc[\"y\"]\n",
        "    \n",
        "    return X, y"
      ],
      "metadata": {
        "id": "BoptRSfrKTNj"
      },
      "execution_count": 15,
      "outputs": []
    },
    {
      "cell_type": "markdown",
      "source": [
        "**Implementation: LGBM Regressor**"
      ],
      "metadata": {
        "id": "LNghx1Q7Ke6t"
      }
    },
    {
      "cell_type": "code",
      "source": [
        "def LGBMRegressor_model(X, y):\n",
        "        \n",
        "    # LGBM Regresor Model \n",
        "    model = LGBMRegressor(n_estimators=40) # 40000\n",
        "    model.fit(X, y)\n",
        "    \n",
        "    return model"
      ],
      "metadata": {
        "id": "5jo0JPzQKgIr"
      },
      "execution_count": 16,
      "outputs": []
    },
    {
      "cell_type": "code",
      "source": [
        "# Calling the implemenation of LGBM Regressor\n",
        "model_lgb = {}\n",
        "\n",
        "for asset_id, asset_name in zip(df_asset['Asset_ID'], df_asset['Asset_Name']):\n",
        "    print(f\"Training model for {asset_name:<16} (ID={asset_id:<2})\")\n",
        "    X, y = get_Xy_features(df_train, asset_id)\n",
        "    model = LGBMRegressor_model(X, y)\n",
        "    \n",
        "    model_lgb[asset_id] = model"
      ],
      "metadata": {
        "colab": {
          "base_uri": "https://localhost:8080/"
        },
        "id": "mRPvJd-hKoDG",
        "outputId": "aba7a559-5caa-4802-906a-76c994c93938"
      },
      "execution_count": 17,
      "outputs": [
        {
          "output_type": "stream",
          "name": "stdout",
          "text": [
            "Training model for Binance Coin     (ID=0 )\n",
            "Training model for Bitcoin          (ID=1 )\n",
            "Training model for Bitcoin Cash     (ID=2 )\n",
            "Training model for Cardano          (ID=3 )\n",
            "Training model for Dogecoin         (ID=4 )\n",
            "Training model for EOS.IO           (ID=5 )\n",
            "Training model for Ethereum         (ID=6 )\n",
            "Training model for Ethereum Classic (ID=7 )\n",
            "Training model for IOTA             (ID=8 )\n",
            "Training model for Litecoin         (ID=9 )\n",
            "Training model for Maker            (ID=10)\n",
            "Training model for Monero           (ID=11)\n",
            "Training model for Stellar          (ID=12)\n",
            "Training model for TRON             (ID=13)\n"
          ]
        }
      ]
    },
    {
      "cell_type": "code",
      "source": [
        "# Checking LGBM Regressor Model interface\n",
        "x = get_features(df_train.iloc[1])\n",
        "y_pred_lgb = model_lgb[0].predict([x])\n",
        "y_pred_lgb[0]"
      ],
      "metadata": {
        "colab": {
          "base_uri": "https://localhost:8080/"
        },
        "id": "HA-eEGdxK4NU",
        "outputId": "6010d285-48f6-49b8-e66d-a203fd01e444"
      },
      "execution_count": 18,
      "outputs": [
        {
          "output_type": "execute_result",
          "data": {
            "text/plain": [
              "1.62005851685996e-06"
            ]
          },
          "metadata": {},
          "execution_count": 18
        }
      ]
    },
    {
      "cell_type": "code",
      "source": [
        "# Delete unused dataset\n",
        "del x\n",
        "del y_pred_lgb"
      ],
      "metadata": {
        "id": "CEpARuIcK8Z2"
      },
      "execution_count": 19,
      "outputs": []
    },
    {
      "cell_type": "markdown",
      "source": [
        "**Implementation: XGB Regressor**"
      ],
      "metadata": {
        "id": "neV4legRK_Gp"
      }
    },
    {
      "cell_type": "code",
      "source": [
        "# LGBM Regressor Model Function\n",
        "def XGBRegressor_model(X, y):\n",
        "    \n",
        "    model = xgb.XGBRegressor(\n",
        "    n_estimators=50, #500\n",
        "    learning_rate=0.05,\n",
        "    max_depth=12,\n",
        "    subsample=0.9,\n",
        "    colsample_bytree=0.7,\n",
        "    missing=-999,\n",
        "    random_state=1111,\n",
        "    tree_method='hist'  \n",
        "    )\n",
        "    \n",
        "    model.fit(X, y)\n",
        "    \n",
        "    return model"
      ],
      "metadata": {
        "id": "k5-qygogLAR1"
      },
      "execution_count": 20,
      "outputs": []
    },
    {
      "cell_type": "code",
      "source": [
        "# Calling the implemenation of XGB Regressor\n",
        "model_xgb = {}\n",
        "\n",
        "for asset_id, asset_name in zip(df_asset['Asset_ID'], df_asset['Asset_Name']):\n",
        "    print(f\"Training model for {asset_name:<16} (ID={asset_id:<2})\")\n",
        "    X, y = get_Xy_features(df_train, asset_id)\n",
        "    model = XGBRegressor_model(X, y)\n",
        "    \n",
        "    model_xgb[asset_id] = model"
      ],
      "metadata": {
        "colab": {
          "base_uri": "https://localhost:8080/"
        },
        "id": "UEfq2Eo-LEXw",
        "outputId": "6ef69630-22f0-4221-ed2e-8b35f7982d73"
      },
      "execution_count": 21,
      "outputs": [
        {
          "output_type": "stream",
          "name": "stdout",
          "text": [
            "Training model for Binance Coin     (ID=0 )\n",
            "[07:44:12] WARNING: /workspace/src/objective/regression_obj.cu:152: reg:linear is now deprecated in favor of reg:squarederror.\n",
            "Training model for Bitcoin          (ID=1 )\n",
            "[07:44:34] WARNING: /workspace/src/objective/regression_obj.cu:152: reg:linear is now deprecated in favor of reg:squarederror.\n",
            "Training model for Bitcoin Cash     (ID=2 )\n",
            "[07:44:54] WARNING: /workspace/src/objective/regression_obj.cu:152: reg:linear is now deprecated in favor of reg:squarederror.\n",
            "Training model for Cardano          (ID=3 )\n",
            "[07:45:15] WARNING: /workspace/src/objective/regression_obj.cu:152: reg:linear is now deprecated in favor of reg:squarederror.\n",
            "Training model for Dogecoin         (ID=4 )\n",
            "[07:45:33] WARNING: /workspace/src/objective/regression_obj.cu:152: reg:linear is now deprecated in favor of reg:squarederror.\n",
            "Training model for EOS.IO           (ID=5 )\n",
            "[07:45:45] WARNING: /workspace/src/objective/regression_obj.cu:152: reg:linear is now deprecated in favor of reg:squarederror.\n",
            "Training model for Ethereum         (ID=6 )\n",
            "[07:46:06] WARNING: /workspace/src/objective/regression_obj.cu:152: reg:linear is now deprecated in favor of reg:squarederror.\n",
            "Training model for Ethereum Classic (ID=7 )\n",
            "[07:46:27] WARNING: /workspace/src/objective/regression_obj.cu:152: reg:linear is now deprecated in favor of reg:squarederror.\n",
            "Training model for IOTA             (ID=8 )\n",
            "[07:46:49] WARNING: /workspace/src/objective/regression_obj.cu:152: reg:linear is now deprecated in favor of reg:squarederror.\n",
            "Training model for Litecoin         (ID=9 )\n",
            "[07:47:06] WARNING: /workspace/src/objective/regression_obj.cu:152: reg:linear is now deprecated in favor of reg:squarederror.\n",
            "Training model for Maker            (ID=10)\n",
            "[07:47:25] WARNING: /workspace/src/objective/regression_obj.cu:152: reg:linear is now deprecated in favor of reg:squarederror.\n",
            "Training model for Monero           (ID=11)\n",
            "[07:47:32] WARNING: /workspace/src/objective/regression_obj.cu:152: reg:linear is now deprecated in favor of reg:squarederror.\n",
            "Training model for Stellar          (ID=12)\n",
            "[07:47:49] WARNING: /workspace/src/objective/regression_obj.cu:152: reg:linear is now deprecated in favor of reg:squarederror.\n",
            "Training model for TRON             (ID=13)\n",
            "[07:48:07] WARNING: /workspace/src/objective/regression_obj.cu:152: reg:linear is now deprecated in favor of reg:squarederror.\n"
          ]
        }
      ]
    },
    {
      "cell_type": "code",
      "source": [
        "# Checking XGB Regressor Model interface\n",
        "x = get_features(df_train.iloc[1])\n",
        "y_pred_xgb = model_xgb[0].predict(pd.DataFrame([x]))\n",
        "y_pred_xgb[0]"
      ],
      "metadata": {
        "colab": {
          "base_uri": "https://localhost:8080/"
        },
        "id": "aSsb0p0WMFi1",
        "outputId": "bf928af6-0a05-49e1-d524-87f6127e272f"
      },
      "execution_count": 22,
      "outputs": [
        {
          "output_type": "execute_result",
          "data": {
            "text/plain": [
              "0.03848809"
            ]
          },
          "metadata": {},
          "execution_count": 22
        }
      ]
    },
    {
      "cell_type": "code",
      "source": [
        "# Delete unused dataset\n",
        "del x\n",
        "del y_pred_xgb"
      ],
      "metadata": {
        "id": "f2Q1HOe3MKe_"
      },
      "execution_count": 23,
      "outputs": []
    },
    {
      "cell_type": "markdown",
      "source": [
        "**Implementation: CatBoost Regressor**"
      ],
      "metadata": {
        "id": "caA4qZ7gMd2p"
      }
    },
    {
      "cell_type": "code",
      "source": [
        "# Features for CatBoost Regressor\n",
        "def get_features_catboost(df,row=False):\n",
        "    df_feat = df[['Count', 'Open', 'High', 'Low', 'Close', 'Volume', 'VWAP', \"timestamp\"]].copy()\n",
        "    df_feat['Upper_Shadow'] = upper_shadow(df_feat)\n",
        "    df_feat['Lower_Shadow'] = lower_shadow(df_feat)\n",
        "    \n",
        "    ## Add some more feats\n",
        "    df_feat[\"high_div_low\"] = df_feat[\"High\"]/df_feat[\"Low\"]\n",
        "    df_feat[\"open_sub_close\"] = df_feat[\"Open\"]-df_feat[\"Close\"]\n",
        "\n",
        "    ## possible seasonality, datetime  features (unlikely to me meaningful, given very short time-frames)\n",
        "    times = pd.to_datetime(df_feat[\"timestamp\"],unit=\"s\",infer_datetime_format=True)\n",
        "    if row:\n",
        "        df_feat[\"hour\"] = times.hour\n",
        "        df_feat[\"dayofweek\"] = times.dayofweek \n",
        "        df_feat[\"day\"] = times.day \n",
        "    else:\n",
        "        df_feat[\"hour\"] = times.dt.hour\n",
        "        df_feat[\"dayofweek\"] = times.dt.dayofweek \n",
        "        df_feat[\"day\"] = times.dt.day \n",
        "    df_feat = df_feat.drop(columns = \"timestamp\")\n",
        "    return df_feat\n",
        "\n",
        "# X, y Features from dataset\n",
        "def get_Xy_and_Catboost(df_train, asset_id):\n",
        "    df = df_train[df_train[\"Asset_ID\"] == asset_id]\n",
        "    \n",
        "    df_proc = get_features_catboost(df)\n",
        "    df_proc['y'] = df['Target']\n",
        "    df_proc = df_proc.dropna(how=\"any\")\n",
        "    \n",
        "    X = df_proc.drop(\"y\", axis=1)\n",
        "    y = df_proc[\"y\"]\n",
        "\n",
        "    return X, y"
      ],
      "metadata": {
        "id": "jwPcoZIXMfrq"
      },
      "execution_count": 24,
      "outputs": []
    },
    {
      "cell_type": "code",
      "source": [
        "#Implementation of CatBoost Regressor\n",
        "def CatBoostRegressor_model(X, y):\n",
        "    model = CatBoostRegressor(iterations=20, learning_rate=0.05, depth=10, random_seed=42) #1000\n",
        "    model.fit(X, y)\n",
        "\n",
        "    return model"
      ],
      "metadata": {
        "id": "Kn5iROEGMkBy"
      },
      "execution_count": 25,
      "outputs": []
    },
    {
      "cell_type": "code",
      "source": [
        "# Calling of CatBoost Regressor Model\n",
        "model_cat = {}\n",
        "\n",
        "for asset_id, asset_name in zip(df_asset['Asset_ID'], df_asset['Asset_Name']):\n",
        "    print(f\"Training model for {asset_name:<16} (ID={asset_id:<2})\")\n",
        "    X, y = get_Xy_and_Catboost(df_train, asset_id)\n",
        "    model = CatBoostRegressor_model(X, y)\n",
        "    \n",
        "    model_cat[asset_id] = model"
      ],
      "metadata": {
        "colab": {
          "base_uri": "https://localhost:8080/"
        },
        "id": "CxT9UMKkMnOt",
        "outputId": "8329f899-c32d-4880-de43-434d5df575eb"
      },
      "execution_count": 26,
      "outputs": [
        {
          "output_type": "stream",
          "name": "stdout",
          "text": [
            "Training model for Binance Coin     (ID=0 )\n",
            "0:\tlearn: 0.0054495\ttotal: 773ms\tremaining: 14.7s\n",
            "1:\tlearn: 0.0054470\ttotal: 1.44s\tremaining: 12.9s\n",
            "2:\tlearn: 0.0054452\ttotal: 2.11s\tremaining: 12s\n",
            "3:\tlearn: 0.0054435\ttotal: 2.79s\tremaining: 11.1s\n",
            "4:\tlearn: 0.0054421\ttotal: 3.44s\tremaining: 10.3s\n",
            "5:\tlearn: 0.0054395\ttotal: 4.12s\tremaining: 9.62s\n",
            "6:\tlearn: 0.0054369\ttotal: 4.8s\tremaining: 8.91s\n",
            "7:\tlearn: 0.0054352\ttotal: 5.49s\tremaining: 8.23s\n",
            "8:\tlearn: 0.0054333\ttotal: 6.16s\tremaining: 7.53s\n",
            "9:\tlearn: 0.0054317\ttotal: 6.84s\tremaining: 6.84s\n",
            "10:\tlearn: 0.0054303\ttotal: 7.5s\tremaining: 6.14s\n",
            "11:\tlearn: 0.0054281\ttotal: 8.18s\tremaining: 5.45s\n",
            "12:\tlearn: 0.0054265\ttotal: 8.85s\tremaining: 4.76s\n",
            "13:\tlearn: 0.0054253\ttotal: 9.51s\tremaining: 4.08s\n",
            "14:\tlearn: 0.0054242\ttotal: 10.2s\tremaining: 3.39s\n",
            "15:\tlearn: 0.0054235\ttotal: 10.8s\tremaining: 2.71s\n",
            "16:\tlearn: 0.0054222\ttotal: 11.5s\tremaining: 2.03s\n",
            "17:\tlearn: 0.0054207\ttotal: 12.2s\tremaining: 1.35s\n",
            "18:\tlearn: 0.0054195\ttotal: 12.9s\tremaining: 677ms\n",
            "19:\tlearn: 0.0054187\ttotal: 13.5s\tremaining: 0us\n",
            "Training model for Bitcoin          (ID=1 )\n",
            "0:\tlearn: 0.0020131\ttotal: 704ms\tremaining: 13.4s\n",
            "1:\tlearn: 0.0020124\ttotal: 1.39s\tremaining: 12.5s\n",
            "2:\tlearn: 0.0020119\ttotal: 2.06s\tremaining: 11.7s\n",
            "3:\tlearn: 0.0020112\ttotal: 2.75s\tremaining: 11s\n",
            "4:\tlearn: 0.0020106\ttotal: 3.43s\tremaining: 10.3s\n",
            "5:\tlearn: 0.0020101\ttotal: 4.11s\tremaining: 9.59s\n",
            "6:\tlearn: 0.0020096\ttotal: 4.8s\tremaining: 8.91s\n",
            "7:\tlearn: 0.0020090\ttotal: 5.48s\tremaining: 8.21s\n",
            "8:\tlearn: 0.0020085\ttotal: 6.16s\tremaining: 7.53s\n",
            "9:\tlearn: 0.0020082\ttotal: 6.85s\tremaining: 6.85s\n",
            "10:\tlearn: 0.0020078\ttotal: 7.54s\tremaining: 6.17s\n",
            "11:\tlearn: 0.0020075\ttotal: 8.21s\tremaining: 5.47s\n",
            "12:\tlearn: 0.0020071\ttotal: 8.92s\tremaining: 4.8s\n",
            "13:\tlearn: 0.0020065\ttotal: 9.61s\tremaining: 4.12s\n",
            "14:\tlearn: 0.0020059\ttotal: 10.3s\tremaining: 3.43s\n",
            "15:\tlearn: 0.0020055\ttotal: 11.4s\tremaining: 2.85s\n",
            "16:\tlearn: 0.0020051\ttotal: 12.4s\tremaining: 2.19s\n",
            "17:\tlearn: 0.0020047\ttotal: 13.6s\tremaining: 1.51s\n",
            "18:\tlearn: 0.0020043\ttotal: 14.3s\tremaining: 751ms\n",
            "19:\tlearn: 0.0020040\ttotal: 15s\tremaining: 0us\n",
            "Training model for Bitcoin Cash     (ID=2 )\n",
            "0:\tlearn: 0.0064737\ttotal: 720ms\tremaining: 13.7s\n",
            "1:\tlearn: 0.0064699\ttotal: 1.39s\tremaining: 12.6s\n",
            "2:\tlearn: 0.0064663\ttotal: 2.07s\tremaining: 11.7s\n",
            "3:\tlearn: 0.0064622\ttotal: 2.75s\tremaining: 11s\n",
            "4:\tlearn: 0.0064576\ttotal: 3.43s\tremaining: 10.3s\n",
            "5:\tlearn: 0.0064537\ttotal: 4.11s\tremaining: 9.59s\n",
            "6:\tlearn: 0.0064515\ttotal: 4.8s\tremaining: 8.91s\n",
            "7:\tlearn: 0.0064466\ttotal: 5.47s\tremaining: 8.21s\n",
            "8:\tlearn: 0.0064437\ttotal: 6.16s\tremaining: 7.53s\n",
            "9:\tlearn: 0.0064405\ttotal: 6.84s\tremaining: 6.84s\n",
            "10:\tlearn: 0.0064380\ttotal: 7.52s\tremaining: 6.15s\n",
            "11:\tlearn: 0.0064343\ttotal: 8.21s\tremaining: 5.48s\n",
            "12:\tlearn: 0.0064313\ttotal: 8.9s\tremaining: 4.79s\n",
            "13:\tlearn: 0.0064278\ttotal: 9.57s\tremaining: 4.1s\n",
            "14:\tlearn: 0.0064255\ttotal: 10.3s\tremaining: 3.42s\n",
            "15:\tlearn: 0.0064233\ttotal: 11s\tremaining: 2.74s\n",
            "16:\tlearn: 0.0064212\ttotal: 11.6s\tremaining: 2.05s\n",
            "17:\tlearn: 0.0064182\ttotal: 12.3s\tremaining: 1.37s\n",
            "18:\tlearn: 0.0064140\ttotal: 13s\tremaining: 684ms\n",
            "19:\tlearn: 0.0064118\ttotal: 13.7s\tremaining: 0us\n",
            "Training model for Cardano          (ID=3 )\n",
            "0:\tlearn: 0.0045093\ttotal: 654ms\tremaining: 12.4s\n",
            "1:\tlearn: 0.0045082\ttotal: 1.29s\tremaining: 11.7s\n",
            "2:\tlearn: 0.0045076\ttotal: 1.94s\tremaining: 11s\n",
            "3:\tlearn: 0.0045071\ttotal: 2.56s\tremaining: 10.2s\n",
            "4:\tlearn: 0.0045060\ttotal: 3.22s\tremaining: 9.65s\n",
            "5:\tlearn: 0.0045053\ttotal: 3.85s\tremaining: 8.97s\n",
            "6:\tlearn: 0.0045047\ttotal: 4.46s\tremaining: 8.29s\n",
            "7:\tlearn: 0.0045039\ttotal: 5.08s\tremaining: 7.63s\n",
            "8:\tlearn: 0.0045030\ttotal: 5.7s\tremaining: 6.96s\n",
            "9:\tlearn: 0.0045019\ttotal: 6.33s\tremaining: 6.33s\n",
            "10:\tlearn: 0.0045013\ttotal: 6.95s\tremaining: 5.69s\n",
            "11:\tlearn: 0.0045006\ttotal: 7.57s\tremaining: 5.05s\n",
            "12:\tlearn: 0.0044999\ttotal: 8.21s\tremaining: 4.42s\n",
            "13:\tlearn: 0.0044993\ttotal: 8.82s\tremaining: 3.78s\n",
            "14:\tlearn: 0.0044987\ttotal: 9.45s\tremaining: 3.15s\n",
            "15:\tlearn: 0.0044981\ttotal: 10.1s\tremaining: 2.52s\n",
            "16:\tlearn: 0.0044976\ttotal: 10.7s\tremaining: 1.89s\n",
            "17:\tlearn: 0.0044971\ttotal: 11.3s\tremaining: 1.26s\n",
            "18:\tlearn: 0.0044965\ttotal: 11.9s\tremaining: 629ms\n",
            "19:\tlearn: 0.0044959\ttotal: 12.6s\tremaining: 0us\n",
            "Training model for Dogecoin         (ID=4 )\n",
            "0:\tlearn: 0.0081118\ttotal: 402ms\tremaining: 7.64s\n",
            "1:\tlearn: 0.0080999\ttotal: 778ms\tremaining: 7s\n",
            "2:\tlearn: 0.0080911\ttotal: 1.15s\tremaining: 6.5s\n",
            "3:\tlearn: 0.0080809\ttotal: 1.52s\tremaining: 6.09s\n",
            "4:\tlearn: 0.0080717\ttotal: 1.88s\tremaining: 5.65s\n",
            "5:\tlearn: 0.0080634\ttotal: 2.25s\tremaining: 5.25s\n",
            "6:\tlearn: 0.0080557\ttotal: 2.63s\tremaining: 4.88s\n",
            "7:\tlearn: 0.0080485\ttotal: 2.99s\tremaining: 4.49s\n",
            "8:\tlearn: 0.0080410\ttotal: 3.36s\tremaining: 4.1s\n",
            "9:\tlearn: 0.0080354\ttotal: 3.73s\tremaining: 3.73s\n",
            "10:\tlearn: 0.0080299\ttotal: 4.1s\tremaining: 3.36s\n",
            "11:\tlearn: 0.0080245\ttotal: 4.47s\tremaining: 2.98s\n",
            "12:\tlearn: 0.0080176\ttotal: 4.84s\tremaining: 2.61s\n",
            "13:\tlearn: 0.0080114\ttotal: 5.21s\tremaining: 2.23s\n",
            "14:\tlearn: 0.0080064\ttotal: 5.59s\tremaining: 1.86s\n",
            "15:\tlearn: 0.0080019\ttotal: 5.95s\tremaining: 1.49s\n",
            "16:\tlearn: 0.0079966\ttotal: 6.32s\tremaining: 1.11s\n",
            "17:\tlearn: 0.0079914\ttotal: 6.7s\tremaining: 745ms\n",
            "18:\tlearn: 0.0079866\ttotal: 7.07s\tremaining: 372ms\n",
            "19:\tlearn: 0.0079825\ttotal: 7.44s\tremaining: 0us\n",
            "Training model for EOS.IO           (ID=5 )\n",
            "0:\tlearn: 0.0048253\ttotal: 726ms\tremaining: 13.8s\n",
            "1:\tlearn: 0.0048243\ttotal: 1.42s\tremaining: 12.8s\n",
            "2:\tlearn: 0.0048231\ttotal: 2.11s\tremaining: 12s\n",
            "3:\tlearn: 0.0048216\ttotal: 2.8s\tremaining: 11.2s\n",
            "4:\tlearn: 0.0048207\ttotal: 3.48s\tremaining: 10.4s\n",
            "5:\tlearn: 0.0048191\ttotal: 4.15s\tremaining: 9.69s\n",
            "6:\tlearn: 0.0048179\ttotal: 4.83s\tremaining: 8.97s\n",
            "7:\tlearn: 0.0048163\ttotal: 5.92s\tremaining: 8.88s\n",
            "8:\tlearn: 0.0048152\ttotal: 6.96s\tremaining: 8.51s\n",
            "9:\tlearn: 0.0048141\ttotal: 8.02s\tremaining: 8.02s\n",
            "10:\tlearn: 0.0048124\ttotal: 8.71s\tremaining: 7.13s\n",
            "11:\tlearn: 0.0048105\ttotal: 9.38s\tremaining: 6.26s\n",
            "12:\tlearn: 0.0048092\ttotal: 10.1s\tremaining: 5.42s\n",
            "13:\tlearn: 0.0048082\ttotal: 10.7s\tremaining: 4.61s\n",
            "14:\tlearn: 0.0048069\ttotal: 11.4s\tremaining: 3.81s\n",
            "15:\tlearn: 0.0048061\ttotal: 12.1s\tremaining: 3.02s\n",
            "16:\tlearn: 0.0048047\ttotal: 12.8s\tremaining: 2.25s\n",
            "17:\tlearn: 0.0048028\ttotal: 13.4s\tremaining: 1.49s\n",
            "18:\tlearn: 0.0048013\ttotal: 14.1s\tremaining: 744ms\n",
            "19:\tlearn: 0.0048000\ttotal: 14.8s\tremaining: 0us\n",
            "Training model for Ethereum         (ID=6 )\n",
            "0:\tlearn: 0.0024949\ttotal: 706ms\tremaining: 13.4s\n",
            "1:\tlearn: 0.0024942\ttotal: 1.39s\tremaining: 12.5s\n",
            "2:\tlearn: 0.0024936\ttotal: 2.1s\tremaining: 11.9s\n",
            "3:\tlearn: 0.0024928\ttotal: 2.77s\tremaining: 11.1s\n",
            "4:\tlearn: 0.0024922\ttotal: 3.46s\tremaining: 10.4s\n",
            "5:\tlearn: 0.0024916\ttotal: 4.15s\tremaining: 9.68s\n",
            "6:\tlearn: 0.0024908\ttotal: 4.83s\tremaining: 8.97s\n",
            "7:\tlearn: 0.0024903\ttotal: 5.51s\tremaining: 8.27s\n",
            "8:\tlearn: 0.0024898\ttotal: 6.2s\tremaining: 7.57s\n",
            "9:\tlearn: 0.0024891\ttotal: 6.87s\tremaining: 6.87s\n",
            "10:\tlearn: 0.0024885\ttotal: 7.55s\tremaining: 6.18s\n",
            "11:\tlearn: 0.0024880\ttotal: 8.23s\tremaining: 5.49s\n",
            "12:\tlearn: 0.0024874\ttotal: 8.9s\tremaining: 4.79s\n",
            "13:\tlearn: 0.0024870\ttotal: 9.59s\tremaining: 4.11s\n",
            "14:\tlearn: 0.0024865\ttotal: 10.3s\tremaining: 3.43s\n",
            "15:\tlearn: 0.0024860\ttotal: 11s\tremaining: 2.74s\n",
            "16:\tlearn: 0.0024854\ttotal: 11.7s\tremaining: 2.06s\n",
            "17:\tlearn: 0.0024850\ttotal: 12.3s\tremaining: 1.37s\n",
            "18:\tlearn: 0.0024846\ttotal: 13s\tremaining: 687ms\n",
            "19:\tlearn: 0.0024840\ttotal: 13.7s\tremaining: 0us\n",
            "Training model for Ethereum Classic (ID=7 )\n",
            "0:\tlearn: 0.0089708\ttotal: 710ms\tremaining: 13.5s\n",
            "1:\tlearn: 0.0089689\ttotal: 1.41s\tremaining: 12.7s\n",
            "2:\tlearn: 0.0089664\ttotal: 2.09s\tremaining: 11.8s\n",
            "3:\tlearn: 0.0089642\ttotal: 2.79s\tremaining: 11.2s\n",
            "4:\tlearn: 0.0089622\ttotal: 3.46s\tremaining: 10.4s\n",
            "5:\tlearn: 0.0089602\ttotal: 4.14s\tremaining: 9.67s\n",
            "6:\tlearn: 0.0089589\ttotal: 4.82s\tremaining: 8.95s\n",
            "7:\tlearn: 0.0089567\ttotal: 5.48s\tremaining: 8.23s\n",
            "8:\tlearn: 0.0089548\ttotal: 6.16s\tremaining: 7.53s\n",
            "9:\tlearn: 0.0089533\ttotal: 6.84s\tremaining: 6.84s\n",
            "10:\tlearn: 0.0089518\ttotal: 7.51s\tremaining: 6.14s\n",
            "11:\tlearn: 0.0089503\ttotal: 8.19s\tremaining: 5.46s\n",
            "12:\tlearn: 0.0089487\ttotal: 8.87s\tremaining: 4.78s\n",
            "13:\tlearn: 0.0089474\ttotal: 9.53s\tremaining: 4.09s\n",
            "14:\tlearn: 0.0089458\ttotal: 10.2s\tremaining: 3.4s\n",
            "15:\tlearn: 0.0089439\ttotal: 10.9s\tremaining: 2.72s\n",
            "16:\tlearn: 0.0089425\ttotal: 11.5s\tremaining: 2.04s\n",
            "17:\tlearn: 0.0089412\ttotal: 12.2s\tremaining: 1.36s\n",
            "18:\tlearn: 0.0089397\ttotal: 12.9s\tremaining: 680ms\n",
            "19:\tlearn: 0.0089388\ttotal: 13.6s\tremaining: 0us\n",
            "Training model for IOTA             (ID=8 )\n",
            "0:\tlearn: 0.0080163\ttotal: 529ms\tremaining: 10.1s\n",
            "1:\tlearn: 0.0080126\ttotal: 1.02s\tremaining: 9.19s\n",
            "2:\tlearn: 0.0080095\ttotal: 1.52s\tremaining: 8.62s\n",
            "3:\tlearn: 0.0080064\ttotal: 2.02s\tremaining: 8.09s\n",
            "4:\tlearn: 0.0080032\ttotal: 2.52s\tremaining: 7.57s\n",
            "5:\tlearn: 0.0080002\ttotal: 3.02s\tremaining: 7.05s\n",
            "6:\tlearn: 0.0079973\ttotal: 3.53s\tremaining: 6.55s\n",
            "7:\tlearn: 0.0079958\ttotal: 4.02s\tremaining: 6.04s\n",
            "8:\tlearn: 0.0079934\ttotal: 4.52s\tremaining: 5.53s\n",
            "9:\tlearn: 0.0079915\ttotal: 5.01s\tremaining: 5.01s\n",
            "10:\tlearn: 0.0079893\ttotal: 5.51s\tremaining: 4.51s\n",
            "11:\tlearn: 0.0079873\ttotal: 6.01s\tremaining: 4.01s\n",
            "12:\tlearn: 0.0079867\ttotal: 6.54s\tremaining: 3.52s\n",
            "13:\tlearn: 0.0079848\ttotal: 7.03s\tremaining: 3.01s\n",
            "14:\tlearn: 0.0079827\ttotal: 7.53s\tremaining: 2.51s\n",
            "15:\tlearn: 0.0079812\ttotal: 8.03s\tremaining: 2.01s\n",
            "16:\tlearn: 0.0079801\ttotal: 8.52s\tremaining: 1.5s\n",
            "17:\tlearn: 0.0079784\ttotal: 9.04s\tremaining: 1s\n",
            "18:\tlearn: 0.0079772\ttotal: 9.53s\tremaining: 502ms\n",
            "19:\tlearn: 0.0079753\ttotal: 10s\tremaining: 0us\n",
            "Training model for Litecoin         (ID=9 )\n",
            "0:\tlearn: 0.0035523\ttotal: 746ms\tremaining: 14.2s\n",
            "1:\tlearn: 0.0035513\ttotal: 1.43s\tremaining: 12.9s\n",
            "2:\tlearn: 0.0035504\ttotal: 2.12s\tremaining: 12s\n",
            "3:\tlearn: 0.0035494\ttotal: 2.83s\tremaining: 11.3s\n",
            "4:\tlearn: 0.0035486\ttotal: 3.5s\tremaining: 10.5s\n",
            "5:\tlearn: 0.0035482\ttotal: 4.18s\tremaining: 9.77s\n",
            "6:\tlearn: 0.0035475\ttotal: 4.87s\tremaining: 9.04s\n",
            "7:\tlearn: 0.0035465\ttotal: 5.54s\tremaining: 8.31s\n",
            "8:\tlearn: 0.0035459\ttotal: 6.22s\tremaining: 7.61s\n",
            "9:\tlearn: 0.0035451\ttotal: 6.91s\tremaining: 6.91s\n",
            "10:\tlearn: 0.0035445\ttotal: 7.59s\tremaining: 6.21s\n",
            "11:\tlearn: 0.0035439\ttotal: 8.29s\tremaining: 5.52s\n",
            "12:\tlearn: 0.0035431\ttotal: 8.99s\tremaining: 4.84s\n",
            "13:\tlearn: 0.0035426\ttotal: 9.68s\tremaining: 4.15s\n",
            "14:\tlearn: 0.0035419\ttotal: 10.4s\tremaining: 3.45s\n",
            "15:\tlearn: 0.0035414\ttotal: 11.1s\tremaining: 2.76s\n",
            "16:\tlearn: 0.0035409\ttotal: 11.7s\tremaining: 2.07s\n",
            "17:\tlearn: 0.0035404\ttotal: 12.4s\tremaining: 1.38s\n",
            "18:\tlearn: 0.0035399\ttotal: 13.1s\tremaining: 691ms\n",
            "19:\tlearn: 0.0035394\ttotal: 13.8s\tremaining: 0us\n",
            "Training model for Maker            (ID=10)\n",
            "0:\tlearn: 0.0059928\ttotal: 248ms\tremaining: 4.71s\n",
            "1:\tlearn: 0.0059892\ttotal: 486ms\tremaining: 4.37s\n",
            "2:\tlearn: 0.0059867\ttotal: 737ms\tremaining: 4.18s\n",
            "3:\tlearn: 0.0059826\ttotal: 973ms\tremaining: 3.89s\n",
            "4:\tlearn: 0.0059798\ttotal: 1.22s\tremaining: 3.65s\n",
            "5:\tlearn: 0.0059767\ttotal: 1.46s\tremaining: 3.41s\n",
            "6:\tlearn: 0.0059738\ttotal: 1.73s\tremaining: 3.22s\n",
            "7:\tlearn: 0.0059706\ttotal: 1.98s\tremaining: 2.98s\n",
            "8:\tlearn: 0.0059683\ttotal: 2.23s\tremaining: 2.72s\n",
            "9:\tlearn: 0.0059668\ttotal: 2.47s\tremaining: 2.47s\n",
            "10:\tlearn: 0.0059651\ttotal: 2.72s\tremaining: 2.22s\n",
            "11:\tlearn: 0.0059618\ttotal: 2.96s\tremaining: 1.97s\n",
            "12:\tlearn: 0.0059591\ttotal: 3.21s\tremaining: 1.73s\n",
            "13:\tlearn: 0.0059565\ttotal: 3.45s\tremaining: 1.48s\n",
            "14:\tlearn: 0.0059552\ttotal: 3.7s\tremaining: 1.23s\n",
            "15:\tlearn: 0.0059527\ttotal: 3.94s\tremaining: 984ms\n",
            "16:\tlearn: 0.0059496\ttotal: 4.18s\tremaining: 737ms\n",
            "17:\tlearn: 0.0059478\ttotal: 4.42s\tremaining: 491ms\n",
            "18:\tlearn: 0.0059463\ttotal: 4.66s\tremaining: 245ms\n",
            "19:\tlearn: 0.0059442\ttotal: 4.91s\tremaining: 0us\n",
            "Training model for Monero           (ID=11)\n",
            "0:\tlearn: 0.0066501\ttotal: 669ms\tremaining: 12.7s\n",
            "1:\tlearn: 0.0066461\ttotal: 1.2s\tremaining: 10.8s\n",
            "2:\tlearn: 0.0066430\ttotal: 1.74s\tremaining: 9.88s\n",
            "3:\tlearn: 0.0066401\ttotal: 2.27s\tremaining: 9.1s\n",
            "4:\tlearn: 0.0066364\ttotal: 2.79s\tremaining: 8.38s\n",
            "5:\tlearn: 0.0066336\ttotal: 3.32s\tremaining: 7.74s\n",
            "6:\tlearn: 0.0066312\ttotal: 3.84s\tremaining: 7.13s\n",
            "7:\tlearn: 0.0066293\ttotal: 4.36s\tremaining: 6.54s\n",
            "8:\tlearn: 0.0066267\ttotal: 4.88s\tremaining: 5.96s\n",
            "9:\tlearn: 0.0066245\ttotal: 5.4s\tremaining: 5.4s\n",
            "10:\tlearn: 0.0066224\ttotal: 5.91s\tremaining: 4.84s\n",
            "11:\tlearn: 0.0066199\ttotal: 6.44s\tremaining: 4.29s\n",
            "12:\tlearn: 0.0066177\ttotal: 6.95s\tremaining: 3.74s\n",
            "13:\tlearn: 0.0066165\ttotal: 7.49s\tremaining: 3.21s\n",
            "14:\tlearn: 0.0066149\ttotal: 7.99s\tremaining: 2.66s\n",
            "15:\tlearn: 0.0066126\ttotal: 8.52s\tremaining: 2.13s\n",
            "16:\tlearn: 0.0066109\ttotal: 9.03s\tremaining: 1.59s\n",
            "17:\tlearn: 0.0066097\ttotal: 9.55s\tremaining: 1.06s\n",
            "18:\tlearn: 0.0066081\ttotal: 10.1s\tremaining: 529ms\n",
            "19:\tlearn: 0.0066073\ttotal: 10.6s\tremaining: 0us\n",
            "Training model for Stellar          (ID=12)\n",
            "0:\tlearn: 0.0052088\ttotal: 641ms\tremaining: 12.2s\n",
            "1:\tlearn: 0.0052062\ttotal: 1.28s\tremaining: 11.5s\n",
            "2:\tlearn: 0.0052037\ttotal: 1.87s\tremaining: 10.6s\n",
            "3:\tlearn: 0.0052013\ttotal: 2.48s\tremaining: 9.9s\n",
            "4:\tlearn: 0.0051990\ttotal: 3.06s\tremaining: 9.2s\n",
            "5:\tlearn: 0.0051972\ttotal: 3.72s\tremaining: 8.68s\n",
            "6:\tlearn: 0.0051952\ttotal: 4.32s\tremaining: 8.03s\n",
            "7:\tlearn: 0.0051933\ttotal: 4.91s\tremaining: 7.37s\n",
            "8:\tlearn: 0.0051911\ttotal: 5.52s\tremaining: 6.74s\n",
            "9:\tlearn: 0.0051889\ttotal: 6.11s\tremaining: 6.11s\n",
            "10:\tlearn: 0.0051872\ttotal: 6.73s\tremaining: 5.51s\n",
            "11:\tlearn: 0.0051852\ttotal: 7.34s\tremaining: 4.89s\n",
            "12:\tlearn: 0.0051835\ttotal: 7.92s\tremaining: 4.27s\n",
            "13:\tlearn: 0.0051817\ttotal: 8.53s\tremaining: 3.66s\n",
            "14:\tlearn: 0.0051800\ttotal: 9.12s\tremaining: 3.04s\n",
            "15:\tlearn: 0.0051785\ttotal: 9.72s\tremaining: 2.43s\n",
            "16:\tlearn: 0.0051768\ttotal: 10.3s\tremaining: 1.82s\n",
            "17:\tlearn: 0.0051754\ttotal: 10.9s\tremaining: 1.22s\n",
            "18:\tlearn: 0.0051734\ttotal: 11.6s\tremaining: 609ms\n",
            "19:\tlearn: 0.0051717\ttotal: 12.2s\tremaining: 0us\n",
            "Training model for TRON             (ID=13)\n",
            "0:\tlearn: 0.0049191\ttotal: 723ms\tremaining: 13.7s\n",
            "1:\tlearn: 0.0049163\ttotal: 1.41s\tremaining: 12.7s\n",
            "2:\tlearn: 0.0049136\ttotal: 2.05s\tremaining: 11.6s\n",
            "3:\tlearn: 0.0049113\ttotal: 2.7s\tremaining: 10.8s\n",
            "4:\tlearn: 0.0049089\ttotal: 3.35s\tremaining: 10.1s\n",
            "5:\tlearn: 0.0049078\ttotal: 3.99s\tremaining: 9.3s\n",
            "6:\tlearn: 0.0049055\ttotal: 4.63s\tremaining: 8.6s\n",
            "7:\tlearn: 0.0049032\ttotal: 5.27s\tremaining: 7.9s\n",
            "8:\tlearn: 0.0049013\ttotal: 5.92s\tremaining: 7.24s\n",
            "9:\tlearn: 0.0048999\ttotal: 6.57s\tremaining: 6.57s\n",
            "10:\tlearn: 0.0048982\ttotal: 7.2s\tremaining: 5.89s\n",
            "11:\tlearn: 0.0048966\ttotal: 7.84s\tremaining: 5.23s\n",
            "12:\tlearn: 0.0048956\ttotal: 8.48s\tremaining: 4.57s\n",
            "13:\tlearn: 0.0048937\ttotal: 9.12s\tremaining: 3.91s\n",
            "14:\tlearn: 0.0048926\ttotal: 9.76s\tremaining: 3.25s\n",
            "15:\tlearn: 0.0048920\ttotal: 10.4s\tremaining: 2.6s\n",
            "16:\tlearn: 0.0048908\ttotal: 11.1s\tremaining: 1.95s\n",
            "17:\tlearn: 0.0048898\ttotal: 11.7s\tremaining: 1.3s\n",
            "18:\tlearn: 0.0048883\ttotal: 12.4s\tremaining: 651ms\n",
            "19:\tlearn: 0.0048875\ttotal: 13s\tremaining: 0us\n"
          ]
        }
      ]
    },
    {
      "cell_type": "code",
      "source": [
        "# Check the CatBoost model interface\n",
        "x = get_features_catboost(df_train.iloc[1],row=True)\n",
        "y_pred_cat = model_cat[0].predict([x])\n",
        "y_pred_cat[0]"
      ],
      "metadata": {
        "colab": {
          "base_uri": "https://localhost:8080/"
        },
        "id": "BVUqJRoVONm5",
        "outputId": "915d2e21-850c-4143-d169-8006511c70e5"
      },
      "execution_count": 27,
      "outputs": [
        {
          "output_type": "execute_result",
          "data": {
            "text/plain": [
              "9.656070557311392e-05"
            ]
          },
          "metadata": {},
          "execution_count": 27
        }
      ]
    },
    {
      "cell_type": "code",
      "source": [
        "# Delete unused dataset\n",
        "del x\n",
        "del y_pred_cat"
      ],
      "metadata": {
        "id": "6AZQKebaOQBy"
      },
      "execution_count": 28,
      "outputs": []
    },
    {
      "cell_type": "markdown",
      "source": [
        "**Final Prediction: LGBM + XGB + CatBoost**"
      ],
      "metadata": {
        "id": "wnUxyvTsOS1W"
      }
    },
    {
      "cell_type": "code",
      "source": [
        "env = gresearch_crypto.make_env()\n",
        "iter_test = env.iter_test()\n",
        "\n",
        "for i, (df_test, df_pred) in enumerate(iter_test):\n",
        "    df_pred_lgbr = df_pred\n",
        "    df_pred_xgbr = df_pred\n",
        "    df_pred_cbtr = df_pred\n",
        "    for j , row in df_test.iterrows():\n",
        "        \n",
        "        # LGBM Regressor\n",
        "        model_lgbr = model_lgb[row['Asset_ID']]\n",
        "        x_test_lgbr = get_features(row)\n",
        "        y_pred_lgbr = model_lgbr.predict([x_test_lgbr])[0]\n",
        "        \n",
        "        df_pred_lgbr.loc[df_pred_lgbr['row_id'] == row['row_id'], 'Target'] = y_pred_lgbr\n",
        "        \n",
        "        # XGB Regressor\n",
        "        model_xgbr = model_xgb[row['Asset_ID']]\n",
        "        x_test_xgbr = get_features(row)\n",
        "        y_pred_xgbr = model_xgbr.predict(pd.DataFrame([x_test_xgbr]))[0]\n",
        "        \n",
        "        df_pred_xgbr.loc[df_pred_xgbr['row_id'] == row['row_id'], 'Target'] = y_pred_xgbr\n",
        "        \n",
        "        # CatBoost Regressor\n",
        "        model_cbtr = model_cat[row['Asset_ID']]\n",
        "        x_test_cbtr = get_features_catboost(row, row=True)\n",
        "        y_pred_cbtr = model_cbtr.predict([x_test_cbtr])[0]\n",
        "        \n",
        "        df_pred_cbtr.loc[df_pred_cbtr['row_id'] == row['row_id'], 'Target'] = y_pred_cbtr\n",
        "\n",
        "    # Display the first prediction dataframe\n",
        "    if i == 0:\n",
        "        pred_final = 0.5 * df_pred_lgbr + 0.2 * df_pred_xgbr +  0.3 * df_pred_cbtr\n",
        "        display(pred_final)\n",
        "\n",
        "    # Send submissions\n",
        "    env.predict(pred_final)"
      ],
      "metadata": {
        "colab": {
          "base_uri": "https://localhost:8080/",
          "height": 506
        },
        "id": "e6j2ZiV8OUAk",
        "outputId": "9d4fb29f-2682-4420-f7a8-793d9eae21d6"
      },
      "execution_count": 29,
      "outputs": [
        {
          "output_type": "stream",
          "name": "stdout",
          "text": [
            "This version of the API is not optimized and should not be used to estimate the runtime of your code on the hidden test set.\n"
          ]
        },
        {
          "output_type": "display_data",
          "data": {
            "text/plain": [
              "    row_id    Target\n",
              "0      0.0 -0.000379\n",
              "1      1.0 -0.000188\n",
              "2      2.0 -0.000102\n",
              "3      3.0 -0.000127\n",
              "4      4.0  0.000269\n",
              "5      5.0  0.000507\n",
              "6      6.0  0.000190\n",
              "7      7.0 -0.000122\n",
              "8      8.0  0.000151\n",
              "9      9.0  0.000398\n",
              "10    10.0 -0.001102\n",
              "11    11.0 -0.000102\n",
              "12    12.0  0.000463\n",
              "13    13.0 -0.000544"
            ],
            "text/html": [
              "\n",
              "  <div id=\"df-0ea2ea98-9a68-4e88-9795-83ac93578074\">\n",
              "    <div class=\"colab-df-container\">\n",
              "      <div>\n",
              "<style scoped>\n",
              "    .dataframe tbody tr th:only-of-type {\n",
              "        vertical-align: middle;\n",
              "    }\n",
              "\n",
              "    .dataframe tbody tr th {\n",
              "        vertical-align: top;\n",
              "    }\n",
              "\n",
              "    .dataframe thead th {\n",
              "        text-align: right;\n",
              "    }\n",
              "</style>\n",
              "<table border=\"1\" class=\"dataframe\">\n",
              "  <thead>\n",
              "    <tr style=\"text-align: right;\">\n",
              "      <th></th>\n",
              "      <th>row_id</th>\n",
              "      <th>Target</th>\n",
              "    </tr>\n",
              "  </thead>\n",
              "  <tbody>\n",
              "    <tr>\n",
              "      <th>0</th>\n",
              "      <td>0.0</td>\n",
              "      <td>-0.000379</td>\n",
              "    </tr>\n",
              "    <tr>\n",
              "      <th>1</th>\n",
              "      <td>1.0</td>\n",
              "      <td>-0.000188</td>\n",
              "    </tr>\n",
              "    <tr>\n",
              "      <th>2</th>\n",
              "      <td>2.0</td>\n",
              "      <td>-0.000102</td>\n",
              "    </tr>\n",
              "    <tr>\n",
              "      <th>3</th>\n",
              "      <td>3.0</td>\n",
              "      <td>-0.000127</td>\n",
              "    </tr>\n",
              "    <tr>\n",
              "      <th>4</th>\n",
              "      <td>4.0</td>\n",
              "      <td>0.000269</td>\n",
              "    </tr>\n",
              "    <tr>\n",
              "      <th>5</th>\n",
              "      <td>5.0</td>\n",
              "      <td>0.000507</td>\n",
              "    </tr>\n",
              "    <tr>\n",
              "      <th>6</th>\n",
              "      <td>6.0</td>\n",
              "      <td>0.000190</td>\n",
              "    </tr>\n",
              "    <tr>\n",
              "      <th>7</th>\n",
              "      <td>7.0</td>\n",
              "      <td>-0.000122</td>\n",
              "    </tr>\n",
              "    <tr>\n",
              "      <th>8</th>\n",
              "      <td>8.0</td>\n",
              "      <td>0.000151</td>\n",
              "    </tr>\n",
              "    <tr>\n",
              "      <th>9</th>\n",
              "      <td>9.0</td>\n",
              "      <td>0.000398</td>\n",
              "    </tr>\n",
              "    <tr>\n",
              "      <th>10</th>\n",
              "      <td>10.0</td>\n",
              "      <td>-0.001102</td>\n",
              "    </tr>\n",
              "    <tr>\n",
              "      <th>11</th>\n",
              "      <td>11.0</td>\n",
              "      <td>-0.000102</td>\n",
              "    </tr>\n",
              "    <tr>\n",
              "      <th>12</th>\n",
              "      <td>12.0</td>\n",
              "      <td>0.000463</td>\n",
              "    </tr>\n",
              "    <tr>\n",
              "      <th>13</th>\n",
              "      <td>13.0</td>\n",
              "      <td>-0.000544</td>\n",
              "    </tr>\n",
              "  </tbody>\n",
              "</table>\n",
              "</div>\n",
              "      <button class=\"colab-df-convert\" onclick=\"convertToInteractive('df-0ea2ea98-9a68-4e88-9795-83ac93578074')\"\n",
              "              title=\"Convert this dataframe to an interactive table.\"\n",
              "              style=\"display:none;\">\n",
              "        \n",
              "  <svg xmlns=\"http://www.w3.org/2000/svg\" height=\"24px\"viewBox=\"0 0 24 24\"\n",
              "       width=\"24px\">\n",
              "    <path d=\"M0 0h24v24H0V0z\" fill=\"none\"/>\n",
              "    <path d=\"M18.56 5.44l.94 2.06.94-2.06 2.06-.94-2.06-.94-.94-2.06-.94 2.06-2.06.94zm-11 1L8.5 8.5l.94-2.06 2.06-.94-2.06-.94L8.5 2.5l-.94 2.06-2.06.94zm10 10l.94 2.06.94-2.06 2.06-.94-2.06-.94-.94-2.06-.94 2.06-2.06.94z\"/><path d=\"M17.41 7.96l-1.37-1.37c-.4-.4-.92-.59-1.43-.59-.52 0-1.04.2-1.43.59L10.3 9.45l-7.72 7.72c-.78.78-.78 2.05 0 2.83L4 21.41c.39.39.9.59 1.41.59.51 0 1.02-.2 1.41-.59l7.78-7.78 2.81-2.81c.8-.78.8-2.07 0-2.86zM5.41 20L4 18.59l7.72-7.72 1.47 1.35L5.41 20z\"/>\n",
              "  </svg>\n",
              "      </button>\n",
              "      \n",
              "  <style>\n",
              "    .colab-df-container {\n",
              "      display:flex;\n",
              "      flex-wrap:wrap;\n",
              "      gap: 12px;\n",
              "    }\n",
              "\n",
              "    .colab-df-convert {\n",
              "      background-color: #E8F0FE;\n",
              "      border: none;\n",
              "      border-radius: 50%;\n",
              "      cursor: pointer;\n",
              "      display: none;\n",
              "      fill: #1967D2;\n",
              "      height: 32px;\n",
              "      padding: 0 0 0 0;\n",
              "      width: 32px;\n",
              "    }\n",
              "\n",
              "    .colab-df-convert:hover {\n",
              "      background-color: #E2EBFA;\n",
              "      box-shadow: 0px 1px 2px rgba(60, 64, 67, 0.3), 0px 1px 3px 1px rgba(60, 64, 67, 0.15);\n",
              "      fill: #174EA6;\n",
              "    }\n",
              "\n",
              "    [theme=dark] .colab-df-convert {\n",
              "      background-color: #3B4455;\n",
              "      fill: #D2E3FC;\n",
              "    }\n",
              "\n",
              "    [theme=dark] .colab-df-convert:hover {\n",
              "      background-color: #434B5C;\n",
              "      box-shadow: 0px 1px 3px 1px rgba(0, 0, 0, 0.15);\n",
              "      filter: drop-shadow(0px 1px 2px rgba(0, 0, 0, 0.3));\n",
              "      fill: #FFFFFF;\n",
              "    }\n",
              "  </style>\n",
              "\n",
              "      <script>\n",
              "        const buttonEl =\n",
              "          document.querySelector('#df-0ea2ea98-9a68-4e88-9795-83ac93578074 button.colab-df-convert');\n",
              "        buttonEl.style.display =\n",
              "          google.colab.kernel.accessAllowed ? 'block' : 'none';\n",
              "\n",
              "        async function convertToInteractive(key) {\n",
              "          const element = document.querySelector('#df-0ea2ea98-9a68-4e88-9795-83ac93578074');\n",
              "          const dataTable =\n",
              "            await google.colab.kernel.invokeFunction('convertToInteractive',\n",
              "                                                     [key], {});\n",
              "          if (!dataTable) return;\n",
              "\n",
              "          const docLinkHtml = 'Like what you see? Visit the ' +\n",
              "            '<a target=\"_blank\" href=https://colab.research.google.com/notebooks/data_table.ipynb>data table notebook</a>'\n",
              "            + ' to learn more about interactive tables.';\n",
              "          element.innerHTML = '';\n",
              "          dataTable['output_type'] = 'display_data';\n",
              "          await google.colab.output.renderOutput(dataTable, element);\n",
              "          const docLink = document.createElement('div');\n",
              "          docLink.innerHTML = docLinkHtml;\n",
              "          element.appendChild(docLink);\n",
              "        }\n",
              "      </script>\n",
              "    </div>\n",
              "  </div>\n",
              "  "
            ]
          },
          "metadata": {}
        }
      ]
    },
    {
      "cell_type": "markdown",
      "source": [
        "In the Final prediction there are some computational error."
      ],
      "metadata": {
        "id": "B-gVBUTPOeom"
      }
    }
  ]
}